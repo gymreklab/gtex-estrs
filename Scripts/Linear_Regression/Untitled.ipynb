{
 "cells": [
  {
   "cell_type": "code",
   "execution_count": null,
   "metadata": {
    "collapsed": true
   },
   "outputs": [],
   "source": []
  },
  {
   "cell_type": "code",
   "execution_count": null,
   "metadata": {
    "collapsed": true
   },
   "outputs": [],
   "source": [
    "\n",
    "    \n",
    "    # For each gene:\n",
    "    # Pull out STRs within distance of gene ends\n",
    "    # For each STR - gene pair, get expr, str for samples with data and do linreg\n",
    "    PROGRESS(\"Expression annotation size %s \"%str(expr_annot.shape))\n",
    "    for i in range(expr_annot.shape[0]):\n",
    "        gene = expr_annot.index.values[i]\n",
    "        PROGRESS(\" Getting data for %s\"%gene)\n",
    "        start = expr_annot[\"gene.start\"].values[i]\n",
    "        end = expr_annot[\"gene.stop\"].values[i]\n",
    "        cis_strs = strgt[(strgt[\"start\"] >= (start-DISTFROMGENE)) & (strgt[\"start\"] <= (end+DISTFROMGENE))]\n",
    "        PROGRESS(\"%s STRs tested \\n\"%str(cis_strs.shape[0]))\n",
    "       \n",
    "        if PERMUTE_EXPR:\n",
    "            expr[gene] = random.sample(list(expr[gene].values), expr.shape[0])\n",
    "        y = pd.DataFrame({\"expr\":list(expr.loc[:, gene])})\n",
    "        y.index = str_samples\n",
    "#\tprint cis_strs\n",
    "        for j in range(cis_strs.shape[0]):\n",
    "            # Get STR data\n",
    "            locus_str = cis_strs.iloc[[j],:][str_samples].transpose()\n",
    "            locus_str.index = str_samples\n",
    "            locus_str.columns = [\"STR_%s\"%(cis_strs[\"start\"].values[j])]\n",
    "            test_str=locus_str.columns[0]\n",
    "            \n",
    "            if QUAD:\n",
    "                if ALLELE:\n",
    "                    locus_str['x1'] = locus_str[test_str].apply(lambda x: x.split(',')[0] )\n",
    "                    locus_str['x2'] = locus_str[test_str].apply(lambda x: x.split(',')[1] )\n",
    "                    locus_str['locus'] = locus_str[test_str].apply(lambda x: int(x.split(',')[0]) + int(x.split(',')[1]) )\n",
    "                    #NA|NA as genotype\n",
    "                    samples_to_keep = [str_samples[k] for k in range(len(str_samples)) if (str(locus_str['x1'].values[k]) != \"NA\")and(str(locus_str['x2'].values[k]) != \"NA\")]\n",
    "                    locus_str = locus_str.loc[samples_to_keep,:]\n",
    "                    Locus_str = locus_str.join(locus_y)[['expr','x1','x2','locus']]\n",
    "                    m = np.mean(list(locus_str[\"x1\"].astype(int))+list(locus_str[\"x2\"].astype(int))) \n",
    "                    sd= math.sqrt(np.var(locus_str[\"x1\"].astype(int) + locus_str[\"x2\"].astype(int) ))\n",
    "                else:\n",
    "                    sys.exit(1)      #This should not happen\n",
    "            else:\n",
    "            #None as genotype\n",
    "                samples_to_keep = [str_samples[k] for k in range(len(str_samples)) if str(locus_str.iloc[:,0].values[k]) != \"None\" ]\n",
    "                locus_str = locus_str.loc[samples_to_keep,:]\n",
    "            # Filter            \n",
    "            PROGRESS(\"Initial sample size:  %s\"%str(len(locus_str.iloc[:,0])))\n",
    "            locus_y = y.loc[samples_to_keep,:]\n",
    "            #removing samples with outlier genotypes (> mean+/-5*sd)\n",
    "            O1,O2 = GetOutlierLimit(map(float,locus_str.iloc[:,0].values))\n",
    "            samples_to_keep1 = [samples_to_keep[k] for k in range(len(samples_to_keep)) if float(locus_str.iloc[:,0].values[k])<O1 and float(locus_str.iloc[:,0].values[k])>O2]\n",
    "            locus_str = locus_str.loc[samples_to_keep1,:]\n",
    "            locus_y = y.loc[samples_to_keep1,:]\n",
    "            \n",
    "            #ignore locus if number of #genotype <3\n",
    "            if len(set(locus_str.iloc[:,0].values)) < MINGENOTYPE: \n",
    "                print locus_str.columns[0], ' skipped ................'\n",
    "                continue\n",
    "            PROGRESS('After clean up... %s'%str(locus_y.shape))\n",
    "          \n",
    "            # Run regression\n",
    "            beta, beta_se, p = LinearRegression(map(float,locus_str.iloc[:,0].values), locus_y[\"expr\"].values, norm=NORM, minsamples=MINSAMPLES)\n",
    "            if QUAD:\n",
    "                alpha, alpha_se, alpha_pval, beta, beta_se, beta_pval = nonlinearRegression(Locus_detail, norm=NORM, minsamples=MINSAMPLES)\n",
    "                if alpha is not None and beta is not none:\n",
    "                    f.write(' '.join([CHROM, gene, test_str, str(alpha), str(alpha_se), str(alpha_pval), str(beta), str(beta_se), str(beta_pval)])) \n",
    "             #define another file for quad regression output f1 , not f                  \n",
    "#\n",
    "            # Write output\n",
    "            if beta is not None:\n",
    "                str_start = cis_strs[\"start\"].values[j]\n",
    "                f.write(\"\\t\".join(map(str, [gene, CHROM, \"STR_%s\"%str_start, str_start, len(str_samples)-locus_str.shape[0], \"A\", \"G\", 0, beta, beta_se, -1, p]))+\"\\n\")\n",
    "#        break\n",
    "    f.close()\n",
    "\n"
   ]
  }
 ],
 "metadata": {
  "kernelspec": {
   "display_name": "Python 3",
   "language": "python",
   "name": "python3"
  },
  "language_info": {
   "codemirror_mode": {
    "name": "ipython",
    "version": 3
   },
   "file_extension": ".py",
   "mimetype": "text/x-python",
   "name": "python",
   "nbconvert_exporter": "python",
   "pygments_lexer": "ipython3",
   "version": "3.4.5"
  }
 },
 "nbformat": 4,
 "nbformat_minor": 2
}
