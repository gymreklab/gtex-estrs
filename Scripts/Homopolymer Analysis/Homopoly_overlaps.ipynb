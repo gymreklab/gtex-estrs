{
 "cells": [
  {
   "cell_type": "code",
   "execution_count": 1,
   "metadata": {
    "collapsed": false
   },
   "outputs": [
    {
     "name": "stdout",
     "output_type": "stream",
     "text": [
      "Populating the interactive namespace from numpy and matplotlib\n"
     ]
    }
   ],
   "source": [
    "# Set up\n",
    "%pylab inline\n",
    "\n",
    "# Allow us to edit fonts in Illustrator\n",
    "import matplotlib\n",
    "matplotlib.rcParams['ps.useafm'] = True\n",
    "matplotlib.rcParams['pdf.use14corefonts'] = True\n",
    "matplotlib.rcParams['text.usetex'] = True\n",
    "\n",
    "# Libraries\n",
    "import matplotlib.pyplot as plt\n",
    "import numpy as np\n",
    "import os\n",
    "import pandas as pd\n",
    "import scipy.stats\n",
    "import seaborn.apionly as sns\n",
    "from collections import defaultdict\n",
    "\n",
    "ANNOTDIR = \"/storage/mgymrek/gtex/annotations/\"\n",
    "FEATUREDIR = \"/storage/szfeupe/Runs/650GTEx_estr/Analysis_by_Tissue/\"\n",
    "HTDIR = \"/storage/mgymrek/gtex/tfbs/encodedata/\"\n",
    "BEDDIR = \"/storage/mgymrek/gtex/annotations/encode/\"\n",
    "mergefile = '/storage/szfeupe/Runs/650GTEx_estr/Analysis_by_Tissue/Merged_Best_causality.Table'\n",
    "REGRSSION = '/storage/szfeupe/Runs/650GTEx_estr/Analysis_by_Tissue/LR_SummaryTest_Table.tsv'\n",
    "SCORETYPE = \"\"\n",
    "MINDIST = 1500 # For TSS\n",
    "MINQ = 1 # FDR threshold. Ignored since overlap with Estrs later\n",
    "\n",
    "# LIst of features to intersect with\n",
    "FEATURES = {\n",
    "    \"3utr\": os.path.join(ANNOTDIR, \"3utr.bed\"),\n",
    "    \"5utr\": os.path.join(ANNOTDIR, \"5utr.bed\"),\n",
    "    \"coding\": os.path.join(ANNOTDIR, \"coding.bed\"),\n",
    "    \"introns\": os.path.join(ANNOTDIR, \"introns.bed\"),\n",
    "    \"H3K27ac\": os.path.join(HTDIR, \"H3K27ac_GM12878.bed.gz\"),\n",
    "    \"H3K4me1\": os.path.join(HTDIR, \"H3K4me1_GM12878.bed.gz\"),\n",
    "    \"H3K4me2\": os.path.join(HTDIR, \"H3K4me2_GM12878.bed.gz\"),\n",
    "    \"H3K4me3\": os.path.join(HTDIR, \"H3K4me3_GM12878.bed.gz\"),\n",
    "    \"H3K27me3\": os.path.join(HTDIR, \"H3K27me3_GM12878.bed.gz\"),\n",
    "    \"H3K36me3\": os.path.join(HTDIR, \"H3K36me3_GM12878.bed.gz\"),\n",
    "}\n",
    "\n",
    "percentiles = [0, 50] + list(np.arange(60, 101, 10))"
   ]
  },
  {
   "cell_type": "code",
   "execution_count": 12,
   "metadata": {
    "collapsed": false
   },
   "outputs": [
    {
     "name": "stderr",
     "output_type": "stream",
     "text": [
      "/usr/lib/python3.4/site-packages/ipykernel/__main__.py:4: SettingWithCopyWarning: \n",
      "A value is trying to be set on a copy of a slice from a DataFrame.\n",
      "Try using .loc[row_indexer,col_indexer] = value instead\n",
      "\n",
      "See the caveats in the documentation: http://pandas.pydata.org/pandas-docs/stable/indexing.html#indexing-view-versus-copy\n"
     ]
    },
    {
     "name": "stdout",
     "output_type": "stream",
     "text": [
      "(824767, 6)  A/Ts and  (7437, 6)  G/Cs\n"
     ]
    },
    {
     "name": "stderr",
     "output_type": "stream",
     "text": [
      "/usr/lib/python3.4/site-packages/ipykernel/__main__.py:16: SettingWithCopyWarning: \n",
      "A value is trying to be set on a copy of a slice from a DataFrame.\n",
      "Try using .loc[row_indexer,col_indexer] = value instead\n",
      "\n",
      "See the caveats in the documentation: http://pandas.pydata.org/pandas-docs/stable/indexing.html#indexing-view-versus-copy\n"
     ]
    },
    {
     "name": "stdout",
     "output_type": "stream",
     "text": [
      "1.4425892403551548 % overlaps with  H3K4me1 ( 11898 )\n",
      "1.2496862750328275 % overlaps with  H3K36me3 ( 10307 )\n",
      "1.4125201420522402 % overlaps with  H3K4me3 ( 11650 )\n",
      "0.017580722798075092 % overlaps with  coding ( 145 )\n",
      "0.07311155756716746 % overlaps with  H3K27me3 ( 603 )\n",
      "0.2668632474383674 % overlaps with  5utr ( 2201 )\n",
      "1.9223611031964178 % overlaps with  H3K27ac ( 15855 )\n",
      "43.65075227306621 % overlaps with  introns ( 360017 )\n",
      "2.449055308953923 % overlaps with  H3K4me2 ( 20199 )\n",
      "1.1444444309726263 % overlaps with  3utr ( 9439 )\n"
     ]
    }
   ],
   "source": [
    "Motifs = pd.read_csv('/storage/resources/dbase/human/hg19/hg19.hipstr_reference_withmotif.bed', sep='\\t', header=None)\n",
    "Motifs.columns = ['chrom','str.start','str.end','motif.len','motif']\n",
    "data = Motifs.loc[Motifs['motif.len']==1]\n",
    "data['id'] = 'STR_'+data['str.start'].astype(str)\n",
    "print(data.loc[data['motif']=='A'].shape, ' A/Ts and ',data.loc[data['motif']=='C'].shape, \" G/Cs\" )\n",
    "data[['chrom','str.start','str.end','id']].to_csv('reg.bed', sep='\\t',index=None, header=None)\n",
    "for key in FEATURES.keys():\n",
    "    #print(key)\n",
    "    bedfile = FEATURES[key]\n",
    "    annot = pd.read_csv(bedfile, sep=\"\\t\", header=None, skiprows=1)\n",
    "    annot[[0,1,2]].to_csv('facts.bed', sep='\\t',index=None, header=None)\n",
    "    cmd = \"bedtools intersect -a reg.bed -b facts.bed >Intersect.bed\"\n",
    "    returned_value = os.system(cmd)\n",
    "    Inter = pd.read_csv('Intersect.bed', sep='\\t', header=None)\n",
    "    Feature_strs = list(set(list(Inter[3])))\n",
    "    data[key] = np.where(data['id'].isin(Feature_strs), 1, 0)\n",
    "    COUNT = data.loc[data[key]==1]\n",
    "    print(COUNT.shape[0]*100/824767,'% overlaps with ',key, '(',COUNT.shape[0],')')#,COUNT.loc[COUNT['motif']=='A'].shape[0],' As',   )"
   ]
  },
  {
   "cell_type": "code",
   "execution_count": null,
   "metadata": {
    "collapsed": true
   },
   "outputs": [],
   "source": [
    "(824767, 6)  A/Ts and  (7437, 6)  G/Cs\n",
    "\n",
    "1.4425892403551548 % overlaps with  H3K4me1 ( 11898 )\n",
    "1.2496862750328275 % overlaps with  H3K36me3 ( 10307 )\n",
    "1.4125201420522402 % overlaps with  H3K4me3 ( 11650 )\n",
    "0.017580722798075092 % overlaps with  coding ( 145 )\n",
    "0.07311155756716746 % overlaps with  H3K27me3 ( 603 )\n",
    "0.2668632474383674 % overlaps with  5utr ( 2201 )\n",
    "1.9223611031964178 % overlaps with  H3K27ac ( 15855 )\n",
    "43.65075227306621 % overlaps with  introns ( 360017 )\n",
    "2.449055308953923 % overlaps with  H3K4me2 ( 20199 )\n",
    "1.1444444309726263 % overlaps with  3utr ( 9439 )"
   ]
  }
 ],
 "metadata": {
  "kernelspec": {
   "display_name": "Python 3",
   "language": "python",
   "name": "python3"
  },
  "language_info": {
   "codemirror_mode": {
    "name": "ipython",
    "version": 3
   },
   "file_extension": ".py",
   "mimetype": "text/x-python",
   "name": "python",
   "nbconvert_exporter": "python",
   "pygments_lexer": "ipython3",
   "version": "3.4.5"
  }
 },
 "nbformat": 4,
 "nbformat_minor": 2
}
