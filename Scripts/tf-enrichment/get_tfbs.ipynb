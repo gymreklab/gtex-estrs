{
 "cells": [
  {
   "cell_type": "code",
   "execution_count": 3,
   "metadata": {
    "collapsed": true
   },
   "outputs": [],
   "source": [
    "import os\n",
    "import sys\n",
    "\n",
    "#celltype='Lungs' ; target='Lung'\n",
    "celltype='Heart'  ; target='Heart'\n",
    "\n",
    "\n",
    "linkstofiles = '/storage/szfeupe/Runs/650GTEx_estr/tfbs/encode_tfbs_%s.txt'%(target)\n",
    "outdir = '/storage/szfeupe/Runs/650GTEx_estr/tfbs/%s'%celltype\n"
   ]
  },
  {
   "cell_type": "code",
   "execution_count": 4,
   "metadata": {
    "collapsed": false
   },
   "outputs": [
    {
     "name": "stdout",
     "output_type": "stream",
     "text": [
      "126  files downloaded\n"
     ]
    }
   ],
   "source": [
    "h = 1; i=0\n",
    "with open(linkstofiles, \"r\") as f:\n",
    "    for fileurl in f:\n",
    "        if h:\n",
    "            h = 0\n",
    "            continue\n",
    "        line = fileurl.strip()\n",
    "        filename = line.split(\"@\")[-1].split(\"/\")[1]\n",
    "        #print(filename)\n",
    "        output_file = os.path.join(outdir, \"%s_%s\"%(celltype,filename ))\n",
    "        #print(output_file)\n",
    "        cmd = \"wget -O %s %s\"%(output_file, fileurl)\n",
    "        #print(cmd)\n",
    "        os.system(cmd)\n",
    "        i=i+1\n",
    "print(i, ' files downloaded')        "
   ]
  },
  {
   "cell_type": "code",
   "execution_count": null,
   "metadata": {
    "collapsed": false
   },
   "outputs": [],
   "source": [
    "import os\n",
    "import sys\n",
    "#Usage: get_tfbs.py --urlsfile <file.txt> --celltype <celltype> --outdir <output>\n",
    "\n",
    "linkstofiles = args.urlsfile\n",
    "outdir = args.outdir\n",
    "celltype = args.celltype\n",
    "\n",
    "command = 'mkdir %s/%s'%(outdir,celltype)\n",
    "\n",
    "h = 1; i=0\n",
    "with open(linkstofiles, \"r\") as f:\n",
    "    for fileurl in f:\n",
    "        if h:\n",
    "            h = 0\n",
    "            continue\n",
    "        line = fileurl.strip()\n",
    "        filename = line.split(\"@\")[-1].split(\"/\")[1]\n",
    "        #print(filename)\n",
    "        output_file = os.path.join(outdir, \"%s_%s\"%(celltype,filename ))\n",
    "        #print(output_file)\n",
    "        cmd = \"wget -O %s %s\"%(output_file, fileurl)\n",
    "        #print(cmd)\n",
    "        os.system(cmd)\n",
    "        i=i+1\n",
    "print(i, ' files downloaded')   \n"
   ]
  }
 ],
 "metadata": {
  "kernelspec": {
   "display_name": "Python 3",
   "language": "python",
   "name": "python3"
  },
  "language_info": {
   "codemirror_mode": {
    "name": "ipython",
    "version": 3
   },
   "file_extension": ".py",
   "mimetype": "text/x-python",
   "name": "python",
   "nbconvert_exporter": "python",
   "pygments_lexer": "ipython3",
   "version": "3.4.5"
  }
 },
 "nbformat": 4,
 "nbformat_minor": 2
}
