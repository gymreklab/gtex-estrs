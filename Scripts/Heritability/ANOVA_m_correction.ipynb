{
 "cells": [
  {
   "cell_type": "code",
   "execution_count": 2,
   "metadata": {
    "collapsed": false
   },
   "outputs": [],
   "source": [
    "import math\n",
    "import numpy as np\n",
    "import os\n",
    "import pandas as pd\n",
    "import subprocess\n",
    "\n",
    "\"\"\"\n",
    "Correcting for multiple testing of ANOVA p.values\n",
    "We restrict to eSTRs exclusively because we only care  \n",
    "to compare between eSTRs and close by eSNPs\n",
    "\n",
    "\"\"\"\n",
    "DATADIR = '/storage/szfeupe/Runs/650GTEx_estr/Analysis_by_Tissue/'\n",
    "SHORTEN = {\n",
    "    \"Artery-Aorta\":\"Artery.A\"     ,\n",
    "    \"Artery-Tibial\": \"Artery.T\",\n",
    "    \"Adipose-Subcutaneous\": \"Adipose.S\",    \n",
    "    \"Adipose-Visceral\":\"Adipose.V\",\n",
    "    \"Brain-Caudate(basalganglia)\":\"Caudate\"   , \n",
    "    \"Brain-Cerebellum\":\"Cerebellum\",\n",
    "    \"Cells-Transformedfibroblasts\": \"Fibroblast\",\n",
    "    \"Esophagus-Mucosa\": \"Mucosa\",\n",
    "    \"Esophagus-Muscularis\":\"Muscularis\",\n",
    "    \"Heart-LeftVentricle\":\"Ventricule\",\n",
    "    \"Lung\": \"Lung\",\n",
    "    \"Muscle-Skeletal\": \"Muscle\",\n",
    "    \"Nerve-Tibial\":\"Nerve.T\",\n",
    "    \"Skin-NotSunExposed(Suprapubic)\": \"SkinUnexposed\",\n",
    "    \"Skin-SunExposed(Lowerleg)\":\"SkinLeg\",\n",
    "    \"Thyroid\":\"Thyroid\",\n",
    "    \"WholeBlood\": \"Blood\"\n",
    "}\n",
    "tissues = sorted([item for item in list(SHORTEN.keys())])"
   ]
  },
  {
   "cell_type": "code",
   "execution_count": 11,
   "metadata": {
    "collapsed": false,
    "scrolled": true
   },
   "outputs": [
    {
     "name": "stdout",
     "output_type": "stream",
     "text": [
      "(87891, 12) (1789, 12) (4424, 13) (3615, 13)\n"
     ]
    }
   ],
   "source": [
    "T = tissues[0]\n",
    "linreg = pd.read_csv(os.path.join(DATADIR, T, \"PQValues\"), sep=\"\\t\")\n",
    "estrs = linreg.loc[linreg['qvalue']<0.1].copy()\n",
    "\n",
    "anova=pd.read_csv(os.path.join(DATADIR, T,'HH/anova_wg.csv') )\n",
    "\n",
    "to_correct = anova.loc[anova['gene'].isin(list(estrs['gene']))].copy()\n",
    "print(linreg.shape,estrs.shape, anova.shape, to_correct.shape)"
   ]
  },
  {
   "cell_type": "code",
   "execution_count": 21,
   "metadata": {
    "collapsed": false,
    "scrolled": true
   },
   "outputs": [
    {
     "ename": "KeyError",
     "evalue": "'qvalue'",
     "output_type": "error",
     "traceback": [
      "\u001b[0;31m---------------------------------------------------------------------------\u001b[0m",
      "\u001b[0;31mKeyError\u001b[0m                                  Traceback (most recent call last)",
      "\u001b[0;32m/usr/lib64/python3.4/site-packages/pandas/core/indexes/base.py\u001b[0m in \u001b[0;36mget_loc\u001b[0;34m(self, key, method, tolerance)\u001b[0m\n\u001b[1;32m   2524\u001b[0m             \u001b[0;32mtry\u001b[0m\u001b[0;34m:\u001b[0m\u001b[0;34m\u001b[0m\u001b[0m\n\u001b[0;32m-> 2525\u001b[0;31m                 \u001b[0;32mreturn\u001b[0m \u001b[0mself\u001b[0m\u001b[0;34m.\u001b[0m\u001b[0m_engine\u001b[0m\u001b[0;34m.\u001b[0m\u001b[0mget_loc\u001b[0m\u001b[0;34m(\u001b[0m\u001b[0mkey\u001b[0m\u001b[0;34m)\u001b[0m\u001b[0;34m\u001b[0m\u001b[0m\n\u001b[0m\u001b[1;32m   2526\u001b[0m             \u001b[0;32mexcept\u001b[0m \u001b[0mKeyError\u001b[0m\u001b[0;34m:\u001b[0m\u001b[0;34m\u001b[0m\u001b[0m\n",
      "\u001b[0;32mpandas/_libs/index.pyx\u001b[0m in \u001b[0;36mpandas._libs.index.IndexEngine.get_loc\u001b[0;34m()\u001b[0m\n",
      "\u001b[0;32mpandas/_libs/index.pyx\u001b[0m in \u001b[0;36mpandas._libs.index.IndexEngine.get_loc\u001b[0;34m()\u001b[0m\n",
      "\u001b[0;32mpandas/_libs/hashtable_class_helper.pxi\u001b[0m in \u001b[0;36mpandas._libs.hashtable.PyObjectHashTable.get_item\u001b[0;34m()\u001b[0m\n",
      "\u001b[0;32mpandas/_libs/hashtable_class_helper.pxi\u001b[0m in \u001b[0;36mpandas._libs.hashtable.PyObjectHashTable.get_item\u001b[0;34m()\u001b[0m\n",
      "\u001b[0;31mKeyError\u001b[0m: 'qvalue'",
      "\nDuring handling of the above exception, another exception occurred:\n",
      "\u001b[0;31mKeyError\u001b[0m                                  Traceback (most recent call last)",
      "\u001b[0;32m<ipython-input-21-a24b747e6409>\u001b[0m in \u001b[0;36m<module>\u001b[0;34m()\u001b[0m\n\u001b[1;32m      5\u001b[0m \u001b[0;31m#FDR corrected... add to dataframe\u001b[0m\u001b[0;34m\u001b[0m\u001b[0;34m\u001b[0m\u001b[0m\n\u001b[1;32m      6\u001b[0m \u001b[0mQval\u001b[0m\u001b[0;34m=\u001b[0m\u001b[0mpd\u001b[0m\u001b[0;34m.\u001b[0m\u001b[0mread_csv\u001b[0m\u001b[0;34m(\u001b[0m\u001b[0;34m'qvalues.txt'\u001b[0m\u001b[0;34m,\u001b[0m \u001b[0msep\u001b[0m\u001b[0;34m=\u001b[0m\u001b[0;34m' '\u001b[0m\u001b[0;34m)\u001b[0m\u001b[0;34m\u001b[0m\u001b[0m\n\u001b[0;32m----> 7\u001b[0;31m \u001b[0mto_correct\u001b[0m\u001b[0;34m[\u001b[0m\u001b[0;34m'qvalue'\u001b[0m\u001b[0;34m]\u001b[0m\u001b[0;34m=\u001b[0m\u001b[0mlist\u001b[0m\u001b[0;34m(\u001b[0m\u001b[0mQval\u001b[0m\u001b[0;34m[\u001b[0m\u001b[0;34m'qvalue'\u001b[0m\u001b[0;34m]\u001b[0m\u001b[0;34m)\u001b[0m\u001b[0;34m\u001b[0m\u001b[0m\n\u001b[0m\u001b[1;32m      8\u001b[0m \u001b[0mto_correct\u001b[0m\u001b[0;34m[\u001b[0m\u001b[0;34m'significant'\u001b[0m\u001b[0;34m]\u001b[0m\u001b[0;34m=\u001b[0m\u001b[0mlist\u001b[0m\u001b[0;34m(\u001b[0m\u001b[0mQval\u001b[0m\u001b[0;34m[\u001b[0m\u001b[0;34m'significant'\u001b[0m\u001b[0;34m]\u001b[0m\u001b[0;34m)\u001b[0m\u001b[0;34m\u001b[0m\u001b[0m\n\u001b[1;32m      9\u001b[0m \u001b[0mprint\u001b[0m\u001b[0;34m(\u001b[0m\u001b[0msum\u001b[0m\u001b[0;34m(\u001b[0m\u001b[0mto_correct\u001b[0m\u001b[0;34m[\u001b[0m\u001b[0;34m'significant'\u001b[0m\u001b[0;34m]\u001b[0m\u001b[0;34m)\u001b[0m\u001b[0;34m)\u001b[0m\u001b[0;34m\u001b[0m\u001b[0m\n",
      "\u001b[0;32m/usr/lib64/python3.4/site-packages/pandas/core/frame.py\u001b[0m in \u001b[0;36m__getitem__\u001b[0;34m(self, key)\u001b[0m\n\u001b[1;32m   2137\u001b[0m             \u001b[0;32mreturn\u001b[0m \u001b[0mself\u001b[0m\u001b[0;34m.\u001b[0m\u001b[0m_getitem_multilevel\u001b[0m\u001b[0;34m(\u001b[0m\u001b[0mkey\u001b[0m\u001b[0;34m)\u001b[0m\u001b[0;34m\u001b[0m\u001b[0m\n\u001b[1;32m   2138\u001b[0m         \u001b[0;32melse\u001b[0m\u001b[0;34m:\u001b[0m\u001b[0;34m\u001b[0m\u001b[0m\n\u001b[0;32m-> 2139\u001b[0;31m             \u001b[0;32mreturn\u001b[0m \u001b[0mself\u001b[0m\u001b[0;34m.\u001b[0m\u001b[0m_getitem_column\u001b[0m\u001b[0;34m(\u001b[0m\u001b[0mkey\u001b[0m\u001b[0;34m)\u001b[0m\u001b[0;34m\u001b[0m\u001b[0m\n\u001b[0m\u001b[1;32m   2140\u001b[0m \u001b[0;34m\u001b[0m\u001b[0m\n\u001b[1;32m   2141\u001b[0m     \u001b[0;32mdef\u001b[0m \u001b[0m_getitem_column\u001b[0m\u001b[0;34m(\u001b[0m\u001b[0mself\u001b[0m\u001b[0;34m,\u001b[0m \u001b[0mkey\u001b[0m\u001b[0;34m)\u001b[0m\u001b[0;34m:\u001b[0m\u001b[0;34m\u001b[0m\u001b[0m\n",
      "\u001b[0;32m/usr/lib64/python3.4/site-packages/pandas/core/frame.py\u001b[0m in \u001b[0;36m_getitem_column\u001b[0;34m(self, key)\u001b[0m\n\u001b[1;32m   2144\u001b[0m         \u001b[0;31m# get column\u001b[0m\u001b[0;34m\u001b[0m\u001b[0;34m\u001b[0m\u001b[0m\n\u001b[1;32m   2145\u001b[0m         \u001b[0;32mif\u001b[0m \u001b[0mself\u001b[0m\u001b[0;34m.\u001b[0m\u001b[0mcolumns\u001b[0m\u001b[0;34m.\u001b[0m\u001b[0mis_unique\u001b[0m\u001b[0;34m:\u001b[0m\u001b[0;34m\u001b[0m\u001b[0m\n\u001b[0;32m-> 2146\u001b[0;31m             \u001b[0;32mreturn\u001b[0m \u001b[0mself\u001b[0m\u001b[0;34m.\u001b[0m\u001b[0m_get_item_cache\u001b[0m\u001b[0;34m(\u001b[0m\u001b[0mkey\u001b[0m\u001b[0;34m)\u001b[0m\u001b[0;34m\u001b[0m\u001b[0m\n\u001b[0m\u001b[1;32m   2147\u001b[0m \u001b[0;34m\u001b[0m\u001b[0m\n\u001b[1;32m   2148\u001b[0m         \u001b[0;31m# duplicate columns & possible reduce dimensionality\u001b[0m\u001b[0;34m\u001b[0m\u001b[0;34m\u001b[0m\u001b[0m\n",
      "\u001b[0;32m/usr/lib64/python3.4/site-packages/pandas/core/generic.py\u001b[0m in \u001b[0;36m_get_item_cache\u001b[0;34m(self, item)\u001b[0m\n\u001b[1;32m   1840\u001b[0m         \u001b[0mres\u001b[0m \u001b[0;34m=\u001b[0m \u001b[0mcache\u001b[0m\u001b[0;34m.\u001b[0m\u001b[0mget\u001b[0m\u001b[0;34m(\u001b[0m\u001b[0mitem\u001b[0m\u001b[0;34m)\u001b[0m\u001b[0;34m\u001b[0m\u001b[0m\n\u001b[1;32m   1841\u001b[0m         \u001b[0;32mif\u001b[0m \u001b[0mres\u001b[0m \u001b[0;32mis\u001b[0m \u001b[0;32mNone\u001b[0m\u001b[0;34m:\u001b[0m\u001b[0;34m\u001b[0m\u001b[0m\n\u001b[0;32m-> 1842\u001b[0;31m             \u001b[0mvalues\u001b[0m \u001b[0;34m=\u001b[0m \u001b[0mself\u001b[0m\u001b[0;34m.\u001b[0m\u001b[0m_data\u001b[0m\u001b[0;34m.\u001b[0m\u001b[0mget\u001b[0m\u001b[0;34m(\u001b[0m\u001b[0mitem\u001b[0m\u001b[0;34m)\u001b[0m\u001b[0;34m\u001b[0m\u001b[0m\n\u001b[0m\u001b[1;32m   1843\u001b[0m             \u001b[0mres\u001b[0m \u001b[0;34m=\u001b[0m \u001b[0mself\u001b[0m\u001b[0;34m.\u001b[0m\u001b[0m_box_item_values\u001b[0m\u001b[0;34m(\u001b[0m\u001b[0mitem\u001b[0m\u001b[0;34m,\u001b[0m \u001b[0mvalues\u001b[0m\u001b[0;34m)\u001b[0m\u001b[0;34m\u001b[0m\u001b[0m\n\u001b[1;32m   1844\u001b[0m             \u001b[0mcache\u001b[0m\u001b[0;34m[\u001b[0m\u001b[0mitem\u001b[0m\u001b[0;34m]\u001b[0m \u001b[0;34m=\u001b[0m \u001b[0mres\u001b[0m\u001b[0;34m\u001b[0m\u001b[0m\n",
      "\u001b[0;32m/usr/lib64/python3.4/site-packages/pandas/core/internals.py\u001b[0m in \u001b[0;36mget\u001b[0;34m(self, item, fastpath)\u001b[0m\n\u001b[1;32m   3841\u001b[0m \u001b[0;34m\u001b[0m\u001b[0m\n\u001b[1;32m   3842\u001b[0m             \u001b[0;32mif\u001b[0m \u001b[0;32mnot\u001b[0m \u001b[0misna\u001b[0m\u001b[0;34m(\u001b[0m\u001b[0mitem\u001b[0m\u001b[0;34m)\u001b[0m\u001b[0;34m:\u001b[0m\u001b[0;34m\u001b[0m\u001b[0m\n\u001b[0;32m-> 3843\u001b[0;31m                 \u001b[0mloc\u001b[0m \u001b[0;34m=\u001b[0m \u001b[0mself\u001b[0m\u001b[0;34m.\u001b[0m\u001b[0mitems\u001b[0m\u001b[0;34m.\u001b[0m\u001b[0mget_loc\u001b[0m\u001b[0;34m(\u001b[0m\u001b[0mitem\u001b[0m\u001b[0;34m)\u001b[0m\u001b[0;34m\u001b[0m\u001b[0m\n\u001b[0m\u001b[1;32m   3844\u001b[0m             \u001b[0;32melse\u001b[0m\u001b[0;34m:\u001b[0m\u001b[0;34m\u001b[0m\u001b[0m\n\u001b[1;32m   3845\u001b[0m                 \u001b[0mindexer\u001b[0m \u001b[0;34m=\u001b[0m \u001b[0mnp\u001b[0m\u001b[0;34m.\u001b[0m\u001b[0marange\u001b[0m\u001b[0;34m(\u001b[0m\u001b[0mlen\u001b[0m\u001b[0;34m(\u001b[0m\u001b[0mself\u001b[0m\u001b[0;34m.\u001b[0m\u001b[0mitems\u001b[0m\u001b[0;34m)\u001b[0m\u001b[0;34m)\u001b[0m\u001b[0;34m[\u001b[0m\u001b[0misna\u001b[0m\u001b[0;34m(\u001b[0m\u001b[0mself\u001b[0m\u001b[0;34m.\u001b[0m\u001b[0mitems\u001b[0m\u001b[0;34m)\u001b[0m\u001b[0;34m]\u001b[0m\u001b[0;34m\u001b[0m\u001b[0m\n",
      "\u001b[0;32m/usr/lib64/python3.4/site-packages/pandas/core/indexes/base.py\u001b[0m in \u001b[0;36mget_loc\u001b[0;34m(self, key, method, tolerance)\u001b[0m\n\u001b[1;32m   2525\u001b[0m                 \u001b[0;32mreturn\u001b[0m \u001b[0mself\u001b[0m\u001b[0;34m.\u001b[0m\u001b[0m_engine\u001b[0m\u001b[0;34m.\u001b[0m\u001b[0mget_loc\u001b[0m\u001b[0;34m(\u001b[0m\u001b[0mkey\u001b[0m\u001b[0;34m)\u001b[0m\u001b[0;34m\u001b[0m\u001b[0m\n\u001b[1;32m   2526\u001b[0m             \u001b[0;32mexcept\u001b[0m \u001b[0mKeyError\u001b[0m\u001b[0;34m:\u001b[0m\u001b[0;34m\u001b[0m\u001b[0m\n\u001b[0;32m-> 2527\u001b[0;31m                 \u001b[0;32mreturn\u001b[0m \u001b[0mself\u001b[0m\u001b[0;34m.\u001b[0m\u001b[0m_engine\u001b[0m\u001b[0;34m.\u001b[0m\u001b[0mget_loc\u001b[0m\u001b[0;34m(\u001b[0m\u001b[0mself\u001b[0m\u001b[0;34m.\u001b[0m\u001b[0m_maybe_cast_indexer\u001b[0m\u001b[0;34m(\u001b[0m\u001b[0mkey\u001b[0m\u001b[0;34m)\u001b[0m\u001b[0;34m)\u001b[0m\u001b[0;34m\u001b[0m\u001b[0m\n\u001b[0m\u001b[1;32m   2528\u001b[0m \u001b[0;34m\u001b[0m\u001b[0m\n\u001b[1;32m   2529\u001b[0m         \u001b[0mindexer\u001b[0m \u001b[0;34m=\u001b[0m \u001b[0mself\u001b[0m\u001b[0;34m.\u001b[0m\u001b[0mget_indexer\u001b[0m\u001b[0;34m(\u001b[0m\u001b[0;34m[\u001b[0m\u001b[0mkey\u001b[0m\u001b[0;34m]\u001b[0m\u001b[0;34m,\u001b[0m \u001b[0mmethod\u001b[0m\u001b[0;34m=\u001b[0m\u001b[0mmethod\u001b[0m\u001b[0;34m,\u001b[0m \u001b[0mtolerance\u001b[0m\u001b[0;34m=\u001b[0m\u001b[0mtolerance\u001b[0m\u001b[0;34m)\u001b[0m\u001b[0;34m\u001b[0m\u001b[0m\n",
      "\u001b[0;32mpandas/_libs/index.pyx\u001b[0m in \u001b[0;36mpandas._libs.index.IndexEngine.get_loc\u001b[0;34m()\u001b[0m\n",
      "\u001b[0;32mpandas/_libs/index.pyx\u001b[0m in \u001b[0;36mpandas._libs.index.IndexEngine.get_loc\u001b[0;34m()\u001b[0m\n",
      "\u001b[0;32mpandas/_libs/hashtable_class_helper.pxi\u001b[0m in \u001b[0;36mpandas._libs.hashtable.PyObjectHashTable.get_item\u001b[0;34m()\u001b[0m\n",
      "\u001b[0;32mpandas/_libs/hashtable_class_helper.pxi\u001b[0m in \u001b[0;36mpandas._libs.hashtable.PyObjectHashTable.get_item\u001b[0;34m()\u001b[0m\n",
      "\u001b[0;31mKeyError\u001b[0m: 'qvalue'"
     ]
    }
   ],
   "source": [
    "#Save pval in file and FDR correct\n",
    "to_correct['anova_pval'].to_csv('pvalues.txt', sep='\\n', index=False)\n",
    "Tell = subprocess.call(\"./fdr_correct.r\") #copied the file here\n",
    "\n",
    "#FDR corrected... add to dataframe\n",
    "Qval=pd.read_csv('qvalues.txt', sep=' ')\n",
    "to_correct['qvalue']=list(Qval['qvalue'])\n",
    "to_correct['significant']=list(Qval['significant'])\n",
    "print(sum(to_correct['significant']))\n"
   ]
  },
  {
   "cell_type": "code",
   "execution_count": 17,
   "metadata": {
    "collapsed": false
   },
   "outputs": [
    {
     "ename": "NameError",
     "evalue": "name 'ensgene' is not defined",
     "output_type": "error",
     "traceback": [
      "\u001b[0;31m---------------------------------------------------------------------------\u001b[0m",
      "\u001b[0;31mNameError\u001b[0m                                 Traceback (most recent call last)",
      "\u001b[0;32m<ipython-input-17-f5dc99f93056>\u001b[0m in \u001b[0;36m<module>\u001b[0;34m()\u001b[0m\n\u001b[0;32m----> 1\u001b[0;31m \u001b[0mensgene\u001b[0m\u001b[0;34m\u001b[0m\u001b[0m\n\u001b[0m",
      "\u001b[0;31mNameError\u001b[0m: name 'ensgene' is not defined"
     ]
    }
   ],
   "source": [
    "ensgene"
   ]
  },
  {
   "cell_type": "code",
   "execution_count": null,
   "metadata": {
    "collapsed": false
   },
   "outputs": [],
   "source": []
  },
  {
   "cell_type": "code",
   "execution_count": 29,
   "metadata": {
    "collapsed": false
   },
   "outputs": [
    {
     "data": {
      "text/plain": [
       "'STR_31054363'"
      ]
     },
     "execution_count": 29,
     "metadata": {},
     "output_type": "execute_result"
    }
   ],
   "source": []
  },
  {
   "cell_type": "code",
   "execution_count": null,
   "metadata": {
    "collapsed": true
   },
   "outputs": [],
   "source": [
    "\n",
    "\n",
    "for ensgene in allgenes:\n",
    "    count=count+1\n",
    "    print (ensgene, 'Starting...')#,esnp_results[esnp_results[\"gene\"]==ensgene][SNP_FDR_METHOD])\n",
    "    estr_fdr = min(estr_results[estr_results[\"gene\"]==ensgene][STR_FDR_METHOD])\n",
    "    esnp_fdr = min(esnp_results[esnp_results[\"gene\"]==ensgene][SNP_FDR_METHOD])\n",
    "    #print(ensgene, estr_fdr.shape, esnp_fdr.shape)\n",
    "    probes = expr_annot[expr_annot[\"gene.id\"]==ensgene][\"probe.id\"].values\n",
    "    if len(probes) != 1:\n",
    "        PROGRESS(\"ERROR: no unique probe for %s\"%ensgene, printit=DEBUG)\n",
    "        continue\n",
    "    else: probe = probes[0]\n",
    "    \n",
    "    if esnp_fdr==[] or estr_fdr==[]:\n",
    "        PROGRESS(\"ERROR: qvalue for %s was not calculated for one these (SNPs or STRs)\"%ensgene, printit=DEBUG)\n",
    "        continue\n",
    "    \n",
    "    PROGRESS(\"Getting data for %s (%s)\"%(ensgene, probe), printit=DEBUG)\n",
    "    # Get eSTRs # get eSNPs\n",
    "    estrs = estr_results[(estr_results[\"gene\"]==ensgene)]\n",
    "    esnps = esnp_results[(esnp_results[\"gene\"]==ensgene)]\n",
    "    esnps = esnps.sort_values(SNP_FDR_METHOD).head(10)  #Taking only top 10 snps\n",
    "    # Get genotypes and expression values\n",
    "    y = pd.DataFrame({\"expr\":list(expr.loc[:,probe])})\n",
    "    y.index = str_samples\n",
    "    cis_snps = snpgt[snpgt[\"start\"].apply(lambda x: x in list(esnps[\"str.start\"].values))]\n",
    "    cis_strs = strgt[strgt[\"start\"].apply(lambda x: x in list(estrs[\"str.start\"].values))]\n",
    "    print(cis_strs.shape, cis_snps.shape, '-------------cis variants---------------')\n",
    "    # Run one analysis per STR\n",
    "    for i in range(cis_strs.shape[0]):\n",
    "        # Get STR and SNP data\n",
    "        locus_str = cis_strs.iloc[[i],:][str_samples].transpose()\n",
    "        locus_str.index = str_samples\n",
    "        locus_str.columns = [\"STR_%s\"%(cis_strs[\"start\"].values[i])]\n",
    "        locus_snp = cis_snps[str_samples].transpose()\n",
    "        print (\"STR Locus \", i, '\\t ', locus_str.shape, locus_snp.shape)\n",
    "        if len(locus_snp.columns) == 0:\n",
    "            PROGRESS(\"Skipping %s, no SNP data.\"%ensgene, printit=DEBUG)\n",
    "            continue\n",
    "        # Get subsets\n",
    "        samples_to_keep = [str_samples[k] for k in range(len(str_samples)) \\\n",
    "                           if (str(locus_str.iloc[:,0].values[k]) != \"None\" \\\n",
    "                               and (str(locus_snp.iloc[:,0].values[k]) != \"None\"))]\n",
    "        locus_str = locus_str.loc[samples_to_keep,:].replace('None', np.nan).astype(float)\n",
    "        locus_snp = locus_snp.loc[samples_to_keep,:].replace('None', np.nan).astype(float)\n",
    "        locus_y = y.loc[samples_to_keep,:]\n",
    "        \n",
    "        # Get data frame with relevant variables\n",
    "        d = {\"STR\": ZNorm(locus_str.iloc[:,0].values), \"expr\": ZNorm(locus_y[\"expr\"].values)}\n",
    "        for k in range(locus_snp.shape[1]):\n",
    "            snps = ZNorm(locus_snp.iloc[:,k].values)\n",
    "            if snps is not None:\n",
    "                d[\"SNP%s\"%k] = snps\n",
    "        genedata = pd.DataFrame(d)\n",
    "        print(genedata.shape, '::::::::::::::::::::::::')\n",
    "        # Run regression with SNPs\n",
    "        if locus_snp.shape[1] > 0 and \"SNP0\" in genedata.columns:\n",
    "            snpstring = \"+\".join([item for item in list(genedata.columns) if \"SNP\" in item])\n",
    "            formula_snpstr = \"expr ~ STR + \" + snpstring\n",
    "            formula_snp = \"expr ~ \" + snpstring\n",
    "            formula_str = \"expr ~ STR\"\n",
    "            lm_snpstr = ols(formula_snpstr, genedata).fit()\n",
    "            lm_snp = ols(formula_snp, genedata).fit()\n",
    "            lm_str = ols(formula_str, genedata).fit()\n",
    "            bic_snpstr = lm_snpstr.bic\n",
    "            bic_snp = lm_snp.bic\n",
    "            aic_snpstr = lm_snpstr.aic\n",
    "            aic_snp = lm_snp.aic\n",
    "            snpstr_rsq = lm_snpstr.rsquared\n",
    "            snp_rsq = lm_snp.rsquared\n",
    "            str_rsq = lm_str.rsquared\n",
    "            anova_results = anova_lm(lm_snp, lm_snpstr)\n",
    "            pval = anova_results[\"Pr(>F)\"].values[1]\n",
    "            print (\",\".join(map(str, [CHROM, ensgene, cis_strs[\"start\"].values[i], locus_snp.shape[1],locus_y.shape[0], \\\n",
    "                                           str_rsq, snp_rsq,snpstr_rsq, pval, estr_fdr, esnp_fdr,bic_snp-bic_snpstr, aic_snp-aic_snpstr])))\n",
    "        else:\n",
    "            formula_str = \"expr ~ STR\"\n",
    "            lm_str = ols(formula_str, genedata).fit()\n",
    "            str_rsq = lm_str.rsquared\n",
    "            print (\",\".join(map(str, [CHROM, ensgene, cis_strs[\"start\"].values[i], locus_snp.shape[1],\\\n",
    "                                          locus_y.shape[0], str_rsq, 0, str_rsq, -1, estr_fdr, -1, 0, 0])))\n",
    "    "
   ]
  }
 ],
 "metadata": {
  "kernelspec": {
   "display_name": "Python 3",
   "language": "python",
   "name": "python3"
  },
  "language_info": {
   "codemirror_mode": {
    "name": "ipython",
    "version": 3
   },
   "file_extension": ".py",
   "mimetype": "text/x-python",
   "name": "python",
   "nbconvert_exporter": "python",
   "pygments_lexer": "ipython3",
   "version": "3.4.5"
  }
 },
 "nbformat": 4,
 "nbformat_minor": 2
}
