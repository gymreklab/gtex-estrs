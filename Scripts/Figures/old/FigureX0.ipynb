{
 "cells": [
  {
   "cell_type": "code",
   "execution_count": null,
   "metadata": {
    "collapsed": false
   },
   "outputs": [],
   "source": [
    "'''\n",
    "Figure X: convincing examples where we get insights into the biology\n",
    "\n",
    "#RNA binding proteins\n",
    "RBPs have crucial roles in various cellular processes such as: cellular function, transport \n",
    "    and localization. They especially play a major role in post-transcriptional control of RNAs, \n",
    "    such as: splicing, polyadenylation, mRNA stabilization, mRNA localization and translation.\n",
    "#transcription factors\n",
    "\n",
    "'''                                            "
   ]
  },
  {
   "cell_type": "code",
   "execution_count": null,
   "metadata": {
    "collapsed": true
   },
   "outputs": [],
   "source": [
    "import matplotlib.pyplot as plt\n",
    "import os\n",
    "import pandas as pd\n",
    "import numpy as np\n",
    "import scipy.stats as ss\n",
    "\n",
    "GWASHITS = 'CLEC12A SLC12A1 ERAP2 C4BPA HLA-DRB5 C22orf32 BTN3A2 TMEM176B S100P FAM118A RNASET2 PADI2 TMEM164 NFXL1 CENPK TMEM176A KIAA1324 HLA-DRB1 PAM HLA-DRB6 SKAP2 CCDC23 C9orf78'.split(' ')   \n",
    "RNABP  =  \"/storage/szfeupe/Runs/GTEx_estr/FEATURES/RnaBindProtDB_2012-11-21.csv\"\n",
    "TRFAC  =  \"/storage/szfeupe/Runs/GTEx_estr/FEATURES/TF_gene_list\"\n",
    "BASEDIR = \"/storage/szfeupe/Runs/GTEx_estr/Analysis_by_Tissue/\"\n",
    "SNPS = \"/storage/szfeupe/Runs/GTEx_estr/SNP_Analysis\"\n",
    "STRS = \"/storage/szfeupe/Runs/GTEx_estr/Normalized_Genotypes/\"\n",
    "COLOR = ['b', 'm', 'g', 'k', 'y', 'r', 'grey']"
   ]
  },
  {
   "cell_type": "code",
   "execution_count": null,
   "metadata": {
    "collapsed": true
   },
   "outputs": [],
   "source": [
    "\"\"\"\n",
    "Figure X: RNA binding proteins ()\n",
    "        List of RBP\n",
    "\"\"\"\n",
    "rbplist = pd.read_csv(RNABP, sep=',')\n",
    "rbplist = rbplist[[\"gene\",\"gene.name\",\"RBP.type\",\"species\",\"Alt.name\"]]\n",
    "#(egenes)\n",
    "rbpstr = DATA1.loc[DATA1['gene.name'].isin(list(rbplist['gene.name']))] #416 \n",
    "Erbpstr = rbpstr.loc[rbpstr['best.q']<=0.1] #\n",
    "\n",
    "rbp=rbpstr.shape[0]\n",
    "erbp=rbpstr.shape[0]\n",
    "estr=DATA1.loc[DATA1['best.q']<=0.1].shape[0]\n",
    "strs=DATA1.shape[0]\n",
    "#(eSTRs)\n",
    "Erbpstr"
   ]
  }
 ],
 "metadata": {
  "kernelspec": {
   "display_name": "Python 3",
   "language": "python",
   "name": "python3"
  },
  "language_info": {
   "codemirror_mode": {
    "name": "ipython",
    "version": 3
   },
   "file_extension": ".py",
   "mimetype": "text/x-python",
   "name": "python",
   "nbconvert_exporter": "python",
   "pygments_lexer": "ipython3",
   "version": "3.4.5"
  }
 },
 "nbformat": 4,
 "nbformat_minor": 2
}
