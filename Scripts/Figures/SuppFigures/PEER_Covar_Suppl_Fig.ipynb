{
 "cells": [
  {
   "cell_type": "code",
   "execution_count": 1,
   "metadata": {
    "collapsed": false
   },
   "outputs": [],
   "source": [
    "import matplotlib.pyplot as plt\n",
    "from matplotlib.gridspec import GridSpec as gridspec\n",
    "import pandas as pd\n",
    "import numpy as np\n",
    "import scipy.stats as ss\n",
    "\n",
    "def correl(X, Y):\n",
    "    \"\"\"Computes the Pearson correlation coefficient and a 95% confidence\n",
    "    interval based on the data in X and Y.\"\"\"\n",
    "    r = np.corrcoef(X, Y)[0,1]\n",
    "    f = 0.5*np.log((1+r)/(1-r))\n",
    "    se = 1/np.sqrt(len(X)-3)\n",
    "    ucl = f + 2*se\n",
    "    lcl = f - 2*se\n",
    "    #\n",
    "    lcl = (np.exp(2*lcl) - 1) / (np.exp(2*lcl) + 1)\n",
    "    ucl = (np.exp(2*ucl) - 1) / (np.exp(2*ucl) + 1)\n",
    "    return r,lcl,ucl\n",
    "\n",
    "def draw_colormap (cmap_name,width=30,height=4,fontsize=50,fig = None, ax=None,\n",
    "                  ticklabels_bd = (0,1), num_ticks =11):\n",
    "    \"\"\"\n",
    "    cmap_name is a string.\n",
    "    \"\"\"\n",
    "    if fig is None:\n",
    "        fig = plt.figure(figsize=(width,height))\n",
    "    if ax is None:\n",
    "        ax = plt.gca()\n",
    "    gradient = np.linspace(0, 1, 256)\n",
    "    gradient = np.vstack((gradient, gradient))\n",
    "    ax.imshow(gradient, aspect='auto',cmap=plt.get_cmap(cmap_name))\n",
    "    ax.set_xticks(np.linspace(0,256,num_ticks))\n",
    "    ax.set_xticklabels(np.linspace(ticklabels_bd[0],ticklabels_bd[1],num_ticks))\n",
    "    ax.set_yticklabels([])\n",
    "Phenotype1='/storage/resources/datasets/gtex/59533/PhenoGenotypeFiles/RootStudyConsentSet_phs000424.GTEx.v7.p2.c1.GRU/PhenotypeFiles/phs000424.v7.pht002743.v7.p2.c1.GTEx_Sample_Attributes.GRU.txt.gz'\n",
    "Phenotype2='/storage/resources/datasets/gtex/59533/PhenoGenotypeFiles/RootStudyConsentSet_phs000424.GTEx.v7.p2.c1.GRU/PhenotypeFiles/phs000424.v7.pht002742.v7.p2.c1.GTEx_Subject_Phenotypes.GRU.txt.gz'\n",
    "PEERs = '/storage/szfeupe/Runs/650GTEx_estr/Analysis_by_Tissue/Adipose-Subcutaneous/peerFactors.tsv'\n"
   ]
  },
  {
   "cell_type": "code",
   "execution_count": 2,
   "metadata": {
    "collapsed": false
   },
   "outputs": [
    {
     "name": "stdout",
     "output_type": "stream",
     "text": [
      "(309, 78)\n"
     ]
    }
   ],
   "source": [
    "#Get peerfactors #V1 V2 V3 V4 ... V17\n",
    "peerfactors = pd.read_csv(PEERs,sep='\\t') ; print(peerfactors.shape)\n",
    "idx = sorted([x.replace('.','-') for x in list(peerfactors.index)])\n",
    "peerfactors.index = idx\n",
    "#peerfactors"
   ]
  },
  {
   "cell_type": "code",
   "execution_count": 3,
   "metadata": {
    "collapsed": false,
    "scrolled": true
   },
   "outputs": [
    {
     "name": "stdout",
     "output_type": "stream",
     "text": [
      "(309, 7) Index(['SUBJID', 'AGE', 'TRISCHD', 'RACE', 'SEX', 'DTHHRDY', 'HGHT'], dtype='object')\n"
     ]
    }
   ],
   "source": [
    "IT=pd.read_csv(Phenotype2, compression='gzip', sep='\\t', quotechar='\"', skiprows=10)\n",
    "ind=['SUBJID','AGE','TRISCHD','RACE','SEX', 'DTHHRDY', 'HGHT']\n",
    "Ischtime = IT[ind].copy()\n",
    "Isctime=Ischtime.loc[Ischtime['SUBJID'].isin(idx)].copy()\n",
    "#Isctime=Isctime.loc[Isctime['SUBJID'].isin(L)]\n",
    "Index=['V2','V3','V4','V5','V6','V7','V8','V9','V10','V11','V12','V13','V14','V15']\n",
    "print(Isctime.shape, Isctime.columns)\n",
    "\n",
    "RACE=[ss.spearmanr(peerfactors[YY].values,Isctime['RACE'].values).correlation for YY in Index]\n",
    "GENDER=[ss.spearmanr(peerfactors[YY].values,Isctime['SEX'].values).correlation for YY in Index]\n",
    "HGHT = [ss.spearmanr(peerfactors[YY].values,Isctime['HGHT'].values).correlation for YY in Index]\n"
   ]
  },
  {
   "cell_type": "code",
   "execution_count": 4,
   "metadata": {
    "collapsed": false
   },
   "outputs": [
    {
     "name": "stdout",
     "output_type": "stream",
     "text": [
      "679\n",
      "406\n",
      "(239, 7)  Next... peer\n"
     ]
    },
    {
     "name": "stderr",
     "output_type": "stream",
     "text": [
      "/usr/lib/python3.4/site-packages/ipykernel/__main__.py:10: FutureWarning: \n",
      "Passing list-likes to .loc or [] with any missing label will raise\n",
      "KeyError in the future, you can use .reindex() as an alternative.\n",
      "\n",
      "See the documentation here:\n",
      "http://pandas.pydata.org/pandas-docs/stable/indexing.html#deprecate-loc-reindex-listlike\n",
      "/usr/lib64/python3.4/site-packages/pandas/core/indexing.py:1367: FutureWarning: \n",
      "Passing list-likes to .loc or [] with any missing label will raise\n",
      "KeyError in the future, you can use .reindex() as an alternative.\n",
      "\n",
      "See the documentation here:\n",
      "http://pandas.pydata.org/pandas-docs/stable/indexing.html#deprecate-loc-reindex-listlike\n",
      "  return self._getitem_tuple(key)\n"
     ]
    }
   ],
   "source": [
    "#Get covariates & Other phenotypes\n",
    "    #AGE - RACE - ETHNICITY\n",
    "    #Get Sample variabls from phonotype table\n",
    "IT1=pd.read_csv(Phenotype1, compression='gzip', sep='\\t', quotechar='\"', skiprows=10)\n",
    "IT = IT1.loc[IT1['SMMTRLTP'].isin(['Whole Blood:Whole Blood'])].copy() #\n",
    "IT['SAMPID'] = ['-'.join(x.split('-')[:2]) for x in list(IT['SAMPID'])]\n",
    "code=['SAMPID','SMGEBTCH','SMTSISCH','SMTPAX','SMTSTPTREF','SMNABTCH','SMCENTER','in']\n",
    "print(len(set(list(IT['SAMPID']))))\n",
    "IT['in'] = IT['SMGEBTCH'].astype(str).apply(lambda x: 1 if \"GTEx_\" in x else 0)\n",
    "Vars = IT.loc[IT['in']==1].loc[:,code].copy()\n",
    "print(len(set(list(Vars['SAMPID']))))\n",
    "Vars = Vars.loc[Vars['SAMPID'].isin(idx)]   #Select only the we are interested in\n",
    "Vars = Vars.groupby('SAMPID').first()      #There Duplicate... Remove it\n",
    "print(Vars.shape, ' Next... peer')"
   ]
  },
  {
   "cell_type": "code",
   "execution_count": 6,
   "metadata": {
    "collapsed": false
   },
   "outputs": [
    {
     "name": "stdout",
     "output_type": "stream",
     "text": [
      "(239, 7)\n"
     ]
    },
    {
     "name": "stderr",
     "output_type": "stream",
     "text": [
      "/usr/lib64/python3.4/site-packages/scipy/stats/stats.py:250: RuntimeWarning: The input array could not be properly checked for nan values. nan values will be ignored.\n",
      "  \"values. nan values will be ignored.\", RuntimeWarning)\n",
      "/usr/lib/python3.4/site-packages/ipykernel/__main__.py:14: FutureWarning: \n",
      "Passing list-likes to .loc or [] with any missing label will raise\n",
      "KeyError in the future, you can use .reindex() as an alternative.\n",
      "\n",
      "See the documentation here:\n",
      "http://pandas.pydata.org/pandas-docs/stable/indexing.html#deprecate-loc-reindex-listlike\n",
      "/usr/lib64/python3.4/site-packages/pandas/core/indexing.py:1367: FutureWarning: \n",
      "Passing list-likes to .loc or [] with any missing label will raise\n",
      "KeyError in the future, you can use .reindex() as an alternative.\n",
      "\n",
      "See the documentation here:\n",
      "http://pandas.pydata.org/pandas-docs/stable/indexing.html#deprecate-loc-reindex-listlike\n",
      "  return self._getitem_tuple(key)\n"
     ]
    }
   ],
   "source": [
    "#Get all matching samples Expr--Phenotypes\n",
    "L=list(Vars.index)\n",
    "#Peers\n",
    "peerfactors = peerfactors.loc[peerfactors.index.isin(L)]\n",
    "#Lab phenotypes\n",
    "SMTSISCH = [ss.pearsonr(peerfactors[YY].values,Vars['SMTSISCH'].values)[0] for YY in Index]\n",
    "SMTSISCH = [ss.spearmanr(peerfactors[YY].values,Vars['SMTSISCH'].values).correlation for YY in Index]\n",
    "SMCENTER = [ss.spearmanr(peerfactors[YY].values,Vars['SMCENTER'].values).correlation for YY in Index]\n",
    "SMTSTPTREF =[ss.spearmanr(peerfactors[YY].values,Vars['SMTSTPTREF'].values).correlation for YY in Index]\n",
    "#Sample phenotypes\n",
    "IT=pd.read_csv(Phenotype2, compression='gzip', sep='\\t', quotechar='\"', skiprows=10)\n",
    "#IT['SAMPID'] = [x[:9] for x in list(IT['SAMPID'])]\n",
    "ind=['SUBJID','AGE','TRISCHD','RACE','GENDER', 'DTHHRDY', 'SMTSISCH']\n",
    "Ischtime = IT.loc[:,ind]\n",
    "Isctime=Ischtime.loc[Ischtime['SUBJID'].isin(idx)]\n",
    "Isctime=Isctime.loc[Isctime['SUBJID'].isin(L)]\n",
    "print(Isctime.shape)\n",
    "TRISCHD=[ss.pearsonr(peerfactors[YY].values,Isctime['TRISCHD'].values)[0] for YY in Index]\n",
    "DTHHRDY=[ss.spearmanr(peerfactors[YY].values,Isctime['DTHHRDY'].values).correlation for YY in Index]\n",
    "AGE = [ss.pearsonr(peerfactors[YY].values,Isctime['AGE'].values)[0] for YY in Index]\n",
    "\n"
   ]
  },
  {
   "cell_type": "code",
   "execution_count": 7,
   "metadata": {
    "collapsed": false
   },
   "outputs": [
    {
     "data": {
      "text/html": [
       "<div>\n",
       "<style scoped>\n",
       "    .dataframe tbody tr th:only-of-type {\n",
       "        vertical-align: middle;\n",
       "    }\n",
       "\n",
       "    .dataframe tbody tr th {\n",
       "        vertical-align: top;\n",
       "    }\n",
       "\n",
       "    .dataframe thead th {\n",
       "        text-align: right;\n",
       "    }\n",
       "</style>\n",
       "<table border=\"1\" class=\"dataframe\">\n",
       "  <thead>\n",
       "    <tr style=\"text-align: right;\">\n",
       "      <th></th>\n",
       "      <th>AGE</th>\n",
       "      <th>DTH.OF.DAY</th>\n",
       "      <th>GENDER</th>\n",
       "      <th>HEIGHT</th>\n",
       "      <th>ISCHEMIC.TIME</th>\n",
       "      <th>RACE</th>\n",
       "      <th>SAMPLE.CENTER</th>\n",
       "      <th>SAMPLE.TIME.ISCH</th>\n",
       "      <th>SMTSTPTREF</th>\n",
       "    </tr>\n",
       "  </thead>\n",
       "  <tbody>\n",
       "    <tr>\n",
       "      <th>V2</th>\n",
       "      <td>0.218543</td>\n",
       "      <td>0.074733</td>\n",
       "      <td>-0.147677</td>\n",
       "      <td>0.112843</td>\n",
       "      <td>0.113000</td>\n",
       "      <td>-0.086921</td>\n",
       "      <td>0.065026</td>\n",
       "      <td>0.079657</td>\n",
       "      <td>0.075069</td>\n",
       "    </tr>\n",
       "    <tr>\n",
       "      <th>V3</th>\n",
       "      <td>0.022917</td>\n",
       "      <td>0.260999</td>\n",
       "      <td>-0.075000</td>\n",
       "      <td>0.059035</td>\n",
       "      <td>0.263341</td>\n",
       "      <td>-0.126389</td>\n",
       "      <td>0.088491</td>\n",
       "      <td>0.236194</td>\n",
       "      <td>0.202366</td>\n",
       "    </tr>\n",
       "    <tr>\n",
       "      <th>V4</th>\n",
       "      <td>-0.225692</td>\n",
       "      <td>-0.062279</td>\n",
       "      <td>-0.004870</td>\n",
       "      <td>-0.032371</td>\n",
       "      <td>-0.026030</td>\n",
       "      <td>0.081288</td>\n",
       "      <td>0.076921</td>\n",
       "      <td>0.048002</td>\n",
       "      <td>-0.086165</td>\n",
       "    </tr>\n",
       "    <tr>\n",
       "      <th>V5</th>\n",
       "      <td>-0.143058</td>\n",
       "      <td>-0.271790</td>\n",
       "      <td>0.045330</td>\n",
       "      <td>-0.083413</td>\n",
       "      <td>-0.298044</td>\n",
       "      <td>0.087591</td>\n",
       "      <td>-0.116700</td>\n",
       "      <td>-0.244365</td>\n",
       "      <td>0.017904</td>\n",
       "    </tr>\n",
       "    <tr>\n",
       "      <th>V6</th>\n",
       "      <td>0.274601</td>\n",
       "      <td>0.431882</td>\n",
       "      <td>-0.190609</td>\n",
       "      <td>0.141857</td>\n",
       "      <td>0.554854</td>\n",
       "      <td>-0.049843</td>\n",
       "      <td>0.368053</td>\n",
       "      <td>0.511829</td>\n",
       "      <td>0.124832</td>\n",
       "    </tr>\n",
       "    <tr>\n",
       "      <th>V7</th>\n",
       "      <td>0.306246</td>\n",
       "      <td>0.576156</td>\n",
       "      <td>-0.044955</td>\n",
       "      <td>0.125572</td>\n",
       "      <td>0.520526</td>\n",
       "      <td>-0.063370</td>\n",
       "      <td>0.286588</td>\n",
       "      <td>0.514967</td>\n",
       "      <td>0.255249</td>\n",
       "    </tr>\n",
       "    <tr>\n",
       "      <th>V8</th>\n",
       "      <td>-0.098094</td>\n",
       "      <td>-0.132419</td>\n",
       "      <td>0.020679</td>\n",
       "      <td>-0.062004</td>\n",
       "      <td>-0.187578</td>\n",
       "      <td>-0.039956</td>\n",
       "      <td>-0.038003</td>\n",
       "      <td>-0.164274</td>\n",
       "      <td>-0.119371</td>\n",
       "    </tr>\n",
       "    <tr>\n",
       "      <th>V9</th>\n",
       "      <td>0.103236</td>\n",
       "      <td>-0.012602</td>\n",
       "      <td>-0.146703</td>\n",
       "      <td>0.132056</td>\n",
       "      <td>0.063173</td>\n",
       "      <td>0.016213</td>\n",
       "      <td>0.035091</td>\n",
       "      <td>-0.004105</td>\n",
       "      <td>0.055726</td>\n",
       "    </tr>\n",
       "    <tr>\n",
       "      <th>V10</th>\n",
       "      <td>0.019225</td>\n",
       "      <td>0.230814</td>\n",
       "      <td>-0.072303</td>\n",
       "      <td>0.028613</td>\n",
       "      <td>0.214522</td>\n",
       "      <td>-0.058839</td>\n",
       "      <td>0.160599</td>\n",
       "      <td>0.272133</td>\n",
       "      <td>0.171853</td>\n",
       "    </tr>\n",
       "    <tr>\n",
       "      <th>V11</th>\n",
       "      <td>-0.142115</td>\n",
       "      <td>0.172076</td>\n",
       "      <td>-0.007867</td>\n",
       "      <td>0.034650</td>\n",
       "      <td>0.189901</td>\n",
       "      <td>0.022743</td>\n",
       "      <td>0.130661</td>\n",
       "      <td>0.248764</td>\n",
       "      <td>0.024914</td>\n",
       "    </tr>\n",
       "    <tr>\n",
       "      <th>V12</th>\n",
       "      <td>0.035466</td>\n",
       "      <td>-0.133266</td>\n",
       "      <td>-0.088636</td>\n",
       "      <td>0.079027</td>\n",
       "      <td>-0.082502</td>\n",
       "      <td>0.079828</td>\n",
       "      <td>-0.065861</td>\n",
       "      <td>-0.094073</td>\n",
       "      <td>0.112770</td>\n",
       "    </tr>\n",
       "    <tr>\n",
       "      <th>V13</th>\n",
       "      <td>0.069220</td>\n",
       "      <td>0.277469</td>\n",
       "      <td>0.049675</td>\n",
       "      <td>0.032764</td>\n",
       "      <td>0.296752</td>\n",
       "      <td>-0.105368</td>\n",
       "      <td>0.067885</td>\n",
       "      <td>0.240881</td>\n",
       "      <td>0.040267</td>\n",
       "    </tr>\n",
       "    <tr>\n",
       "      <th>V14</th>\n",
       "      <td>-0.180773</td>\n",
       "      <td>-0.180228</td>\n",
       "      <td>-0.016708</td>\n",
       "      <td>0.026340</td>\n",
       "      <td>-0.157483</td>\n",
       "      <td>-0.025723</td>\n",
       "      <td>-0.115548</td>\n",
       "      <td>-0.146057</td>\n",
       "      <td>-0.095259</td>\n",
       "    </tr>\n",
       "    <tr>\n",
       "      <th>V15</th>\n",
       "      <td>0.088377</td>\n",
       "      <td>0.000718</td>\n",
       "      <td>-0.043756</td>\n",
       "      <td>-0.042603</td>\n",
       "      <td>0.060383</td>\n",
       "      <td>0.011052</td>\n",
       "      <td>0.022555</td>\n",
       "      <td>0.053221</td>\n",
       "      <td>0.133388</td>\n",
       "    </tr>\n",
       "  </tbody>\n",
       "</table>\n",
       "</div>"
      ],
      "text/plain": [
       "          AGE  DTH.OF.DAY    GENDER    HEIGHT  ISCHEMIC.TIME      RACE  \\\n",
       "V2   0.218543    0.074733 -0.147677  0.112843       0.113000 -0.086921   \n",
       "V3   0.022917    0.260999 -0.075000  0.059035       0.263341 -0.126389   \n",
       "V4  -0.225692   -0.062279 -0.004870 -0.032371      -0.026030  0.081288   \n",
       "V5  -0.143058   -0.271790  0.045330 -0.083413      -0.298044  0.087591   \n",
       "V6   0.274601    0.431882 -0.190609  0.141857       0.554854 -0.049843   \n",
       "V7   0.306246    0.576156 -0.044955  0.125572       0.520526 -0.063370   \n",
       "V8  -0.098094   -0.132419  0.020679 -0.062004      -0.187578 -0.039956   \n",
       "V9   0.103236   -0.012602 -0.146703  0.132056       0.063173  0.016213   \n",
       "V10  0.019225    0.230814 -0.072303  0.028613       0.214522 -0.058839   \n",
       "V11 -0.142115    0.172076 -0.007867  0.034650       0.189901  0.022743   \n",
       "V12  0.035466   -0.133266 -0.088636  0.079027      -0.082502  0.079828   \n",
       "V13  0.069220    0.277469  0.049675  0.032764       0.296752 -0.105368   \n",
       "V14 -0.180773   -0.180228 -0.016708  0.026340      -0.157483 -0.025723   \n",
       "V15  0.088377    0.000718 -0.043756 -0.042603       0.060383  0.011052   \n",
       "\n",
       "     SAMPLE.CENTER  SAMPLE.TIME.ISCH  SMTSTPTREF  \n",
       "V2        0.065026          0.079657    0.075069  \n",
       "V3        0.088491          0.236194    0.202366  \n",
       "V4        0.076921          0.048002   -0.086165  \n",
       "V5       -0.116700         -0.244365    0.017904  \n",
       "V6        0.368053          0.511829    0.124832  \n",
       "V7        0.286588          0.514967    0.255249  \n",
       "V8       -0.038003         -0.164274   -0.119371  \n",
       "V9        0.035091         -0.004105    0.055726  \n",
       "V10       0.160599          0.272133    0.171853  \n",
       "V11       0.130661          0.248764    0.024914  \n",
       "V12      -0.065861         -0.094073    0.112770  \n",
       "V13       0.067885          0.240881    0.040267  \n",
       "V14      -0.115548         -0.146057   -0.095259  \n",
       "V15       0.022555          0.053221    0.133388  "
      ]
     },
     "execution_count": 7,
     "metadata": {},
     "output_type": "execute_result"
    }
   ],
   "source": [
    "df = pd.DataFrame( {'SAMPLE.TIME.ISCH': SMTSISCH,'SAMPLE.CENTER':SMCENTER,'SMTSTPTREF':SMTSTPTREF,\n",
    "     'ISCHEMIC.TIME': TRISCHD,'DTH.OF.DAY':DTHHRDY, 'AGE':AGE, \"HEIGHT\":HGHT, \"GENDER\":GENDER, \"RACE\":RACE }, index=Index)\n",
    "df"
   ]
  },
  {
   "cell_type": "code",
   "execution_count": 16,
   "metadata": {
    "collapsed": false
   },
   "outputs": [
    {
     "name": "stderr",
     "output_type": "stream",
     "text": [
      "/usr/lib64/python3.4/site-packages/matplotlib/font_manager.py:1297: UserWarning: findfont: Font family ['sans-serif'] not found. Falling back to DejaVu Sans\n",
      "  (prop.get_family(), self.defaultFamily[fontext]))\n"
     ]
    },
    {
     "data": {
      "image/png": "[encoded data removed]",
      "text/plain": [
       "<matplotlib.figure.Figure at 0x7f8e893da908>"
      ]
     },
     "metadata": {},
     "output_type": "display_data"
    }
   ],
   "source": [
    "fig, ax = plt.subplots(figsize=(10,5))\n",
    "plt.pcolor(df,cmap='coolwarm')\n",
    "#labels\n",
    "ax.set_xticks(np.arange(df.shape[1]) + 0.5, minor=False)\n",
    "ax.set_yticks(np.arange(df.shape[0]) + 0.5, minor=False)\n",
    "\n",
    "labels = list(df.columns) ###[AGE\tDTHHRDY\tSMCENTER\tSMTSISCH\tSMTSTPTREF\tTRISCHD]\n",
    "#labels = [\"Age\", \"Date_day\", \"Testing center\", \"Sample Ischemic time\", \"Sample_Ref\", \"Ischemic time\"]\n",
    "ax.set_xticklabels(labels, rotation=80)\n",
    "ax.set_yticklabels(df.index,rotation=30)\n",
    "plt.ylabel('Peers factors')\n",
    "plt.colorbar()\n",
    "#plt.axis('off')\n",
    "#gs = gridspec(2, 1, height_ratios=[8, 1])  # 2 rows, 1 columns\n",
    "#ax0=plt.subplot(gs[0])  # First row 1 column\n",
    "#ax0.pcolor(df,cmap='coolwarm')###########\n",
    "#ax0.set_xticks([i for i in range(len(labels))], minor=True)\n",
    "#ax1=plt.subplot(gs[1]) # Second row 1 column\n",
    "#draw_colormap('coolwarm',fig=fig,ax=ax1,ticklabels_bd=([i for i in np.arange (-0.5,0.5,0.01)]))\n",
    "\n",
    "\n",
    "plt.grid(False)\n",
    "plt.show()"
   ]
  },
  {
   "cell_type": "code",
   "execution_count": 17,
   "metadata": {
    "collapsed": false
   },
   "outputs": [
    {
     "name": "stderr",
     "output_type": "stream",
     "text": [
      "/usr/lib64/python3.4/site-packages/matplotlib/font_manager.py:1297: UserWarning: findfont: Font family ['sans-serif'] not found. Falling back to DejaVu Sans\n",
      "  (prop.get_family(), self.defaultFamily[fontext]))\n"
     ]
    },
    {
     "data": {
      "image/png": "[encoded data removed]",
      "text/plain": [
       "<matplotlib.figure.Figure at 0x7f8e88c1f710>"
      ]
     },
     "metadata": {},
     "output_type": "display_data"
    }
   ],
   "source": [
    "import seaborn as sns\n",
    "fig, ax = plt.subplots(figsize=(15,5))\n",
    "cmap = sns.diverging_palette(15, 220, s=50, l=55, n=10, as_cmap=True)\n",
    "sns.heatmap(df, cmap=cmap,  annot_kws={\"size\": 8},\n",
    "            vmin=-0.5, vmax=0.5, square=True, ax=ax, linewidths=0.5, cbar_kws={\"shrink\": 0.5},\n",
    ");\n",
    "plt.ylabel('Peers factors')\n",
    "ax.invert_xaxis();\n",
    "\n",
    "plt.show()"
   ]
  },
  {
   "cell_type": "code",
   "execution_count": null,
   "metadata": {
    "collapsed": true
   },
   "outputs": [],
   "source": []
  }
 ],
 "metadata": {
  "kernelspec": {
   "display_name": "Python 3",
   "language": "python",
   "name": "python3"
  },
  "language_info": {
   "codemirror_mode": {
    "name": "ipython",
    "version": 3
   },
   "file_extension": ".py",
   "mimetype": "text/x-python",
   "name": "python",
   "nbconvert_exporter": "python",
   "pygments_lexer": "ipython3",
   "version": "3.4.5"
  }
 },
 "nbformat": 4,
 "nbformat_minor": 2
}
