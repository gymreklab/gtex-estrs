{
 "cells": [
  {
   "cell_type": "markdown",
   "metadata": {},
   "source": [
    "SuppFigure 2:  SNP PCA with 1000 Genomes samples"
   ]
  },
  {
   "cell_type": "code",
   "execution_count": 29,
   "metadata": {
    "collapsed": false
   },
   "outputs": [
    {
     "name": "stdout",
     "output_type": "stream",
     "text": [
      "Populating the interactive namespace from numpy and matplotlib\n"
     ]
    }
   ],
   "source": [
    "# Set up\n",
    "%pylab inline\n",
    "\n",
    "# Allow us to edit fonts in Illustrator\n",
    "import matplotlib\n",
    "matplotlib.rcParams['ps.useafm'] = True\n",
    "matplotlib.rcParams['pdf.use14corefonts'] = True\n",
    "matplotlib.rcParams['text.usetex'] = True\n",
    "#\n",
    "\n",
    "import pandas as pd\n",
    "import numpy as np\n",
    "import matplotlib.pyplot as plt\n",
    "\n",
    "\n",
    "# Paths to data\n",
    "MERGEDPCS = \"/storage/mgymrek/gtex/genotypePCA/GTEx_hapmap_merged.1kg.pca.evec\" #Something is wrong with this file\n",
    "LABEL1000GPCS=\"/home/szfeupe/projects/GTEX_eSTRs/data/1k_pca_map\"\n",
    "GTEXGENOMESPCS=\"/home/szfeupe/projects/GTEX_eSTRs/data/gtex_pca_only\"\n",
    "\n",
    "\n",
    "# Output path\n",
    "OUTPATH = \"pdfs\"\n",
    "PREFIX = \"SuppFigure2\" \n",
    "\n",
    "#\n",
    "COLUMN1 = [\"IDs\",\"PC1\",\"PC2\",\"PC3\",\"PC4\",\"PC5\",\"PC6\",\"PC7\",\"PC8\",\"PC9\",\"PCC\"]\n",
    "COLUMN2 = [\"IDs\",\"PC1\",\"PC2\",\"PC3\",\"PC4\",\"PC5\",\"PC6\",\"PC7\",\"PC8\",\"PC9\",\"PC10\",\"PCC\"]\n",
    "LEGEND = ['AFR','AMR','EAS', 'SAS','EUR','African American','Asian','European']\n",
    "COLORS = {'AMR':'slategray', 'AFR':'gray','EUR':'lightgray', 'EAS':'k', 'SAS':'lightslategrey', \n",
    "          'AfricanAmerican':'yellow', 'Asian':'blue', 'European':'green','Amerindian':'red', '1000G':'grey'\n",
    "         }"
   ]
  },
  {
   "cell_type": "code",
   "execution_count": 30,
   "metadata": {
    "collapsed": false,
    "scrolled": false
   },
   "outputs": [
    {
     "data": {
      "image/png": "[encoded data removed]",
      "text/plain": [
       "<matplotlib.figure.Figure at 0x7f627aab5278>"
      ]
     },
     "metadata": {},
     "output_type": "display_data"
    }
   ],
   "source": [
    "df1 = pd.read_csv(GTEXGENOMESPCS , sep = '\\s+', header=None)\n",
    "df1.columns = COLUMN2\n",
    "gtex = df1\n",
    "\n",
    "df2 = pd.read_csv(LABEL1000GPCS , sep='\\s+', header=None)\n",
    "del df2[10]\n",
    "del df2[11]\n",
    "df2.columns = COLUMN1\n",
    "\n",
    "#plot both with different colors (1000G in shades of gray)\n",
    "#plt.title(main=\"PCA 1000G & GTEx\")\n",
    "\n",
    "fig, ax = plt.subplots()\n",
    "grouped = df2.groupby('PCC')\n",
    "for key, group in grouped:\n",
    "    group.plot(ax=ax, kind='scatter', x='PC1', y='PC2', label=key, color=COLORS[key])\n",
    "\n",
    "grouped = gtex.groupby('PCC')\n",
    "for key, group in grouped:\n",
    "    group.plot(ax=ax, kind='scatter', x='PC1', y='PC2', label=key, color=COLORS[key])  \n",
    "\n",
    "plt.legend(bbox_to_anchor=(1.025, 1), loc=2, borderaxespad=0.,ncol=1)\n",
    "plt.show()\n",
    "\n"
   ]
  }
 ],
 "metadata": {
  "kernelspec": {
   "display_name": "Python 3",
   "language": "python",
   "name": "python3"
  },
  "language_info": {
   "codemirror_mode": {
    "name": "ipython",
    "version": 3
   },
   "file_extension": ".py",
   "mimetype": "text/x-python",
   "name": "python",
   "nbconvert_exporter": "python",
   "pygments_lexer": "ipython3",
   "version": "3.4.5"
  }
 },
 "nbformat": 4,
 "nbformat_minor": 2
}
