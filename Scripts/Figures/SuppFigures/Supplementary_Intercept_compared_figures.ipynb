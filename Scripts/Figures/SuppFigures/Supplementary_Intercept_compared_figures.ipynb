{
 "cells": [
  {
   "cell_type": "code",
   "execution_count": 23,
   "metadata": {
    "collapsed": true
   },
   "outputs": [],
   "source": [
    "#Intercept_compared_by_tissues\n",
    "\n",
    "import numpy as np\n",
    "import pandas as pd\n",
    "from matplotlib import pyplot as plt\n",
    "import os\n",
    "\n",
    "OUTPATH = \"pdfs/Intercept_compared_by_tissues\"\n",
    "PREFIX = \"Suppl_Fig\" \n",
    "\n",
    "SHORTEN = {\n",
    "    \"Artery-Aorta\":\"Artery.A\"     ,\n",
    "    \"Artery-Tibial\": \"Artery.T\",\n",
    "    \"Adipose-Subcutaneous\": \"Adipose.S\",    \n",
    "    \"Adipose-Visceral\":\"Adipose.V\",\n",
    "    \"Brain-Caudate\":\"Caudate\"   , \n",
    "    \"Brain-Cerebellum\":\"Cerebellum\",\n",
    "    \"Cells-Transformedfibroblasts\": \"Fibroblast\",\n",
    "    \"Esophagus-Mucosa\": \"Mucosa\",\n",
    "    \"Esophagus-Muscularis\":\"Muscularis\",\n",
    "    \"Heart-LeftVentricle\":\"Heart\",\n",
    "    \"Lung\": \"Lung\",\n",
    "    \"Muscle-Skeletal\": \"Muscle\",\n",
    "    \"Nerve-Tibial\":\"Nerve\",\n",
    "    \"Skin-NotSunExposed\": \"SkinUnexposed\",\n",
    "    \"Skin-SunExposed\":\"SkinLeg\",\n",
    "    \"Thyroid\":\"Thyroid\",\n",
    "    \"WholeBlood\": \"Blood\"\n",
    "}\n",
    "COLORS = {\n",
    "    \"Artery-Aorta\":\"salmon\",\n",
    "    \"Artery-Tibial\": \"red\",\n",
    "    \"Adipose-Subcutaneous\": \"darkorange\",    \n",
    "    \"Adipose-Visceral\":\"orange\",\n",
    "    \"Brain-Caudate\":\"lemonchiffon\"   , \n",
    "    \"Brain-Cerebellum\":\"yellow\",\n",
    "    \"Cells-Transformedfibroblasts\": \"skyblue\",\n",
    "    \"Esophagus-Mucosa\": \"sienna\",\n",
    "    \"Esophagus-Muscularis\":\"burlywood\",\n",
    "    \"Heart-LeftVentricle\":\"darkviolet\",\n",
    "    \"Lung\": \"greenyellow\",\n",
    "    \"Muscle-Skeletal\": \"mediumslateblue\",\n",
    "    \"Nerve-Tibial\":\"gold\",\n",
    "    \"Skin-NotSunExposed\":\"blue\",\n",
    "    \"Skin-SunExposed\":\"cornflowerblue\",\n",
    "    \"Thyroid\":\"green\",\n",
    "    \"WholeBlood\": \"m\",\n",
    "    \"permuted\": \"gray\"\n",
    "}\n",
    "##Old study\n",
    "oldestr = pd.read_csv('/storage/szfeupe/Runs/GTEx_estr/2016_estrs_table.csv',sep=',')"
   ]
  },
  {
   "cell_type": "code",
   "execution_count": 28,
   "metadata": {
    "collapsed": true
   },
   "outputs": [
    {
     "name": "stderr",
     "output_type": "stream",
     "text": [
      "/usr/lib/python3.4/site-packages/ipykernel/__main__.py:13: SettingWithCopyWarning: \n",
      "A value is trying to be set on a copy of a slice from a DataFrame.\n",
      "Try using .loc[row_indexer,col_indexer] = value instead\n",
      "\n",
      "See the caveats in the documentation: http://pandas.pydata.org/pandas-docs/stable/indexing.html#indexing-view-versus-copy\n",
      "/usr/lib/python3.4/site-packages/ipykernel/__main__.py:18: FutureWarning: \n",
      "Passing list-likes to .loc or [] with any missing label will raise\n",
      "KeyError in the future, you can use .reindex() as an alternative.\n",
      "\n",
      "See the documentation here:\n",
      "http://pandas.pydata.org/pandas-docs/stable/indexing.html#deprecate-loc-reindex-listlike\n",
      "/usr/lib64/python3.4/site-packages/pandas/core/indexing.py:1367: FutureWarning: \n",
      "Passing list-likes to .loc or [] with any missing label will raise\n",
      "KeyError in the future, you can use .reindex() as an alternative.\n",
      "\n",
      "See the documentation here:\n",
      "http://pandas.pydata.org/pandas-docs/stable/indexing.html#deprecate-loc-reindex-listlike\n",
      "  return self._getitem_tuple(key)\n",
      "/usr/lib/python3.4/site-packages/ipykernel/__main__.py:19: FutureWarning: \n",
      "Passing list-likes to .loc or [] with any missing label will raise\n",
      "KeyError in the future, you can use .reindex() as an alternative.\n",
      "\n",
      "See the documentation here:\n",
      "http://pandas.pydata.org/pandas-docs/stable/indexing.html#deprecate-loc-reindex-listlike\n"
     ]
    },
    {
     "name": "stdout",
     "output_type": "stream",
     "text": [
      "SkinUnexposed\n",
      "Artery.A\n",
      "Caudate\n",
      "Nerve\n",
      "Cerebellum\n",
      "Mucosa\n",
      "Fibroblast\n",
      "SkinLeg\n",
      "Adipose.S\n",
      "Adipose.V\n",
      "Blood\n",
      "Muscularis\n",
      "Lung\n",
      "Artery.T\n",
      "Thyroid\n",
      "Muscle\n"
     ]
    },
    {
     "name": "stderr",
     "output_type": "stream",
     "text": [
      "/usr/lib64/python3.4/site-packages/matplotlib/pyplot.py:524: RuntimeWarning: More than 20 figures have been opened. Figures created through the pyplot interface (`matplotlib.pyplot.figure`) are retained until explicitly closed and may consume too much memory. (To control this warning, see the rcParam `figure.max_open_warning`).\n",
      "  max_open_warning, RuntimeWarning)\n"
     ]
    },
    {
     "name": "stdout",
     "output_type": "stream",
     "text": [
      "Heart\n"
     ]
    }
   ],
   "source": [
    "for Tissue in SHORTEN.keys():\n",
    "    i=i+1\n",
    "    ##Get current study\n",
    "    newestr = pd.read_csv('/storage/szfeupe/Runs/650GTEx_estr/Analysis_by_Tissue/'+Tissue+'/Lin_Reg_Out',sep='\\t')\n",
    "    listgenes = [x.split('.')[0] for x in list(newestr['gene'])]           \n",
    "    newestr['gene']=listgenes\n",
    "\n",
    "    ##only select genes present in both dataset\n",
    "    NEWdata = newestr.loc[newestr['gene'].isin(oldestr['gene'])]     #New data in old\n",
    "    OLDdata = oldestr.loc[oldestr['gene'].isin(NEWdata['gene'])]         #Old data in new\n",
    "\n",
    "    ##adjusting start position in old data\n",
    "    OLDdata['str.start'] = OLDdata['str.start']-1  #Adjusting hipstr n lobstr POS\n",
    "    #OLD['str.start'] = list(OLD['start'])\n",
    "    \n",
    "    #Select 3 col of interest \n",
    "    Int=['gene', 'str.start', 'beta','p.wald','signif.estr']\n",
    "    X_o= OLDdata.loc[:,Int].reindex()      #X_o.loc[:,Int]\n",
    "    X_n= NEWdata.loc[:,Int].reindex()      #X_n.loc[:,Int]\n",
    "    X_o=  X_o[X_o['signif.estr']==True]\n",
    "\n",
    "    merged = X_n.merge(X_o, on=['gene','str.start'])\n",
    "    merged['color']=np.where(np.sign(merged['beta_x'])==np.sign(merged['beta_y']), COLORS[Tissue],\"grey\")\n",
    "\n",
    "    fig = plt.figure()\n",
    "    ax = fig.add_subplot(111)\n",
    "    ax.spines['right'].set_visible(False)\n",
    "    ax.spines['top'].set_visible(False)\n",
    "    ax.scatter((merged[\"beta_y\"]), merged[\"beta_x\"], color=list(merged[\"color\"]), s=8)\n",
    "    ax.grid(b=False)\n",
    "    ax.set_facecolor(\"white\")\n",
    "    ax.axhline(y=0, color=\"black\", linestyle=\"dashed\")\n",
    "    ax.axvline(x=0, color=\"black\", linestyle=\"dashed\")\n",
    "    ax.set_xlabel(\"Effect size - LCL (Geuvadis)\", size=15)\n",
    "    ax.set_ylabel(\"Effect size - %s (GTEx)\"%SHORTEN[Tissue], size=15);\n",
    "    fig.savefig(os.path.join(OUTPATH, \"%s_%s.pdf\"%(PREFIX, SHORTEN[Tissue])))\n",
    "    print(SHORTEN[Tissue])"
   ]
  }
 ],
 "metadata": {
  "kernelspec": {
   "display_name": "Python 3",
   "language": "python",
   "name": "python3"
  },
  "language_info": {
   "codemirror_mode": {
    "name": "ipython",
    "version": 3
   },
   "file_extension": ".py",
   "mimetype": "text/x-python",
   "name": "python",
   "nbconvert_exporter": "python",
   "pygments_lexer": "ipython3",
   "version": "3.4.5"
  }
 },
 "nbformat": 4,
 "nbformat_minor": 2
}
