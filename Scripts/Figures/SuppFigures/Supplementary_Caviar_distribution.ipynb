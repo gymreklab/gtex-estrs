{
 "cells": [
  {
   "cell_type": "code",
   "execution_count": 2,
   "metadata": {
    "collapsed": false
   },
   "outputs": [
    {
     "name": "stdout",
     "output_type": "stream",
     "text": [
      "Populating the interactive namespace from numpy and matplotlib\n"
     ]
    }
   ],
   "source": [
    "\"\"\"\n",
    "Distribution of causality scores by tissue\n",
    "Top 5 causal loci per tissue\n",
    "\n",
    "\"\"\"\n",
    "# Set up\n",
    "%pylab inline\n",
    "# Libraries\n",
    "import os\n",
    "import matplotlib.pyplot as plt\n",
    "import numpy as np\n",
    "import pandas as pd\n",
    "import scipy.stats\n",
    "import seaborn as sns\n",
    "#\n",
    "COLORS = {\n",
    "    \"Artery-Aorta\":\"salmon\",\n",
    "    \"Artery-Tibial\": \"red\",\n",
    "    \"Adipose-Subcutaneous\": \"darkorange\",    \n",
    "    \"Adipose-Visceral\":\"orange\",\n",
    "    \"Brain-Caudate\":\"lemonchiffon\"   , \n",
    "    \"Brain-Cerebellum\":\"yellow\",\n",
    "    \"Cells-Transformedfibroblasts\": \"skyblue\",\n",
    "    \"Esophagus-Mucosa\": \"sienna\",\n",
    "    \"Esophagus-Muscularis\":\"burlywood\",\n",
    "    \"Heart-LeftVentricle\":\"darkviolet\",\n",
    "    \"Lung\": \"greenyellow\",\n",
    "    \"Muscle-Skeletal\": \"mediumslateblue\",\n",
    "    \"Nerve-Tibial\":\"gold\",\n",
    "    \"Skin-NotSunExposed\":\"blue\",\n",
    "    \"Skin-SunExposed\":\"cornflowerblue\",\n",
    "    \"Thyroid\":\"green\",\n",
    "    \"WholeBlood\": \"m\",\n",
    "    \"permuted\": \"gray\"\n",
    "}\n",
    "\n",
    "SHORTEN = {\n",
    "    \"Artery-Aorta\":\"Artery.A\"     ,\n",
    "    \"Artery-Tibial\": \"Artery.T\",\n",
    "    \"Adipose-Subcutaneous\": \"Adipose.S\",    \n",
    "    \"Adipose-Visceral\":\"Adipose.V\",\n",
    "    \"Brain-Caudate\":\"Caudate\"   , \n",
    "    \"Brain-Cerebellum\":\"Cerebellum\",\n",
    "    \"Cells-Transformedfibroblasts\": \"Fibroblast\",\n",
    "    \"Esophagus-Mucosa\": \"Mucosa\",\n",
    "    \"Esophagus-Muscularis\":\"Muscularis\",\n",
    "    \"Heart-LeftVentricle\":\"Heart\",\n",
    "    \"Lung\": \"Lung\",\n",
    "    \"Muscle-Skeletal\": \"Muscle\",\n",
    "    \"Nerve-Tibial\":\"Nerve\",\n",
    "    \"Skin-NotSunExposed\": \"SkinUnexposed\",\n",
    "    \"Skin-SunExposed\":\"SkinLeg\",\n",
    "    \"Thyroid\":\"Thyroid\",\n",
    "    \"WholeBlood\": \"Blood\"\n",
    "}\n",
    "TISSUES = [item for item in list(SHORTEN.keys())]\n",
    "REGDIR = \"/storage/szfeupe/Runs/650GTEx_estr/Analysis_by_Tissue/\""
   ]
  },
  {
   "cell_type": "code",
   "execution_count": 3,
   "metadata": {
    "collapsed": false
   },
   "outputs": [
    {
     "data": {
      "image/png": "[encoded data removed]",
      "text/plain": [
       "<matplotlib.figure.Figure at 0x7fa291d14c88>"
      ]
     },
     "metadata": {},
     "output_type": "display_data"
    }
   ],
   "source": [
    "##Caviar distribution\n",
    "\n",
    "for T in sorted(SHORTEN.keys()):\n",
    "    #print(T)\n",
    "    summary = pd.read_csv(REGDIR+T+'/Master.table', sep='\\t')\n",
    "    summary = summary.loc[summary['significant']==1].copy()\n",
    "    L = list(summary['caviar.score'].astype(float))\n",
    "    bin_values = np.arange(start=min(L), stop=max(L), step=0.05)\n",
    "    count=[]\n",
    "    for i in range(len(bin_values)-1):\n",
    "        count.append(len([x for x in L if x>=bin_values[i] and x<bin_values[i+1]]))\n",
    "    plt.scatter(bin_values[2:], count[1:], color=COLORS[T],label=T,s=6, marker='^')\n",
    "    plt.grid(color='lightgrey', linestyle='--')\n",
    "    plt.title(\"Distribution of Caviar scores in tissues\")\n",
    "   \n",
    "\n",
    "plt.show()"
   ]
  }
 ],
 "metadata": {
  "kernelspec": {
   "display_name": "Python 3",
   "language": "python",
   "name": "python3"
  },
  "language_info": {
   "codemirror_mode": {
    "name": "ipython",
    "version": 3
   },
   "file_extension": ".py",
   "mimetype": "text/x-python",
   "name": "python",
   "nbconvert_exporter": "python",
   "pygments_lexer": "ipython3",
   "version": "3.4.5"
  }
 },
 "nbformat": 4,
 "nbformat_minor": 2
}
