{
 "cells": [
  {
   "cell_type": "markdown",
   "metadata": {},
   "source": [
    "Supplementary Table 1 : Litterature Examples"
   ]
  },
  {
   "cell_type": "code",
   "execution_count": 3,
   "metadata": {
    "collapsed": false
   },
   "outputs": [
    {
     "name": "stdout",
     "output_type": "stream",
     "text": [
      "Populating the interactive namespace from numpy and matplotlib\n"
     ]
    }
   ],
   "source": [
    "# Set up\n",
    "%pylab inline\n",
    "\n",
    "# Allow us to edit fonts in Illustrator\n",
    "import matplotlib\n",
    "matplotlib.rcParams['ps.useafm'] = True\n",
    "matplotlib.rcParams['pdf.use14corefonts'] = True\n",
    "matplotlib.rcParams['text.usetex'] = True\n",
    "import pandas as pd\n",
    "import numpy as np\n",
    "import matplotlib.pyplot as plt\n",
    "\n",
    "\n",
    "COLORS = {\n",
    "    \"Artery-Aorta\":\"salmon\",\n",
    "    \"Artery-Tibial\": \"red\",\n",
    "    \"Adipose-Subcutaneous\": \"darkorange\",    \n",
    "    \"Adipose-Visceral\":\"orange\",\n",
    "    \"Brain-Caudate\":\"lemonchiffon\"   , \n",
    "    \"Brain-Cerebellum\":\"yellow\",\n",
    "    \"Cells-Transformedfibroblasts\": \"skyblue\",\n",
    "    \"Esophagus-Mucosa\": \"sienna\",\n",
    "    \"Esophagus-Muscularis\":\"burlywood\",\n",
    "    \"Heart-LeftVentricle\":\"darkviolet\",\n",
    "    \"Lung\": \"greenyellow\",\n",
    "    \"Muscle-Skeletal\": \"mediumslateblue\",\n",
    "    \"Nerve-Tibial\":\"gold\",\n",
    "    \"Skin-NotSunExposed\":\"blue\",\n",
    "    \"Skin-SunExposed\":\"cornflowerblue\",\n",
    "    \"Thyroid\":\"green\",\n",
    "    \"WholeBlood\": \"m\",\n",
    "    \"permuted\": \"gray\"\n",
    "}\n",
    "# Output path\n",
    "OUTPATH = \"pdfs\"\n",
    "PREFIX = \"SuppTable1\" \n",
    "# Path to data\n",
    "BASEDIR = \"/storage/szfeupe/Runs/650GTEx_estr/Analysis_by_Tissue/\"\n",
    "CAUSALITY = BASEDIR+'Merged_Best_causality.Table'\n",
    "#\n",
    "CHR = [str(x) for x in range(1,23)]+['X','Y']\n",
    "\n",
    "#\n",
    "LITT_eg = [\"ENSG00000115129.9\",\"ENSG00000018280.12\",\"ENSG00000146648.11\",\"ENSG00000149948.9\",\"ENSG00000111537.4\",\"ENSG00000007171.12\",\"ENSG00000100985.7\",\"ENSG00000164692.13\",\"ENSG00000100292.12\",\"ENSG00000240972.1\",\"\"]\n"
   ]
  },
  {
   "cell_type": "code",
   "execution_count": 4,
   "metadata": {
    "collapsed": false,
    "scrolled": true
   },
   "outputs": [
    {
     "data": {
      "text/html": [
       "<div>\n",
       "<style scoped>\n",
       "    .dataframe tbody tr th:only-of-type {\n",
       "        vertical-align: middle;\n",
       "    }\n",
       "\n",
       "    .dataframe tbody tr th {\n",
       "        vertical-align: top;\n",
       "    }\n",
       "\n",
       "    .dataframe thead th {\n",
       "        text-align: right;\n",
       "    }\n",
       "</style>\n",
       "<table border=\"1\" class=\"dataframe\">\n",
       "  <thead>\n",
       "    <tr style=\"text-align: right;\">\n",
       "      <th></th>\n",
       "      <th>gene</th>\n",
       "      <th>chrom</th>\n",
       "      <th>best.str.start</th>\n",
       "      <th>best.tissue</th>\n",
       "      <th>beta</th>\n",
       "      <th>beta.se</th>\n",
       "      <th>best.score</th>\n",
       "      <th>best.q</th>\n",
       "      <th>pvalue</th>\n",
       "    </tr>\n",
       "  </thead>\n",
       "  <tbody>\n",
       "    <tr>\n",
       "      <th>3583</th>\n",
       "      <td>ENSG00000146648.11</td>\n",
       "      <td>chr7</td>\n",
       "      <td>55184224</td>\n",
       "      <td>Adipose-Subcutaneous</td>\n",
       "      <td>-0.216770</td>\n",
       "      <td>0.060777</td>\n",
       "      <td>0.043092</td>\n",
       "      <td>0.056824</td>\n",
       "      <td>4.308585e-04</td>\n",
       "    </tr>\n",
       "    <tr>\n",
       "      <th>4169</th>\n",
       "      <td>ENSG00000115129.9</td>\n",
       "      <td>chr2</td>\n",
       "      <td>24287925</td>\n",
       "      <td>Muscle-Skeletal</td>\n",
       "      <td>-0.208427</td>\n",
       "      <td>0.057532</td>\n",
       "      <td>0.096205</td>\n",
       "      <td>0.036119</td>\n",
       "      <td>3.441362e-04</td>\n",
       "    </tr>\n",
       "    <tr>\n",
       "      <th>9400</th>\n",
       "      <td>ENSG00000007171.12</td>\n",
       "      <td>chr17</td>\n",
       "      <td>26208840</td>\n",
       "      <td>WholeBlood</td>\n",
       "      <td>0.346463</td>\n",
       "      <td>0.052770</td>\n",
       "      <td>0.294351</td>\n",
       "      <td>0.001319</td>\n",
       "      <td>2.128192e-10</td>\n",
       "    </tr>\n",
       "  </tbody>\n",
       "</table>\n",
       "</div>"
      ],
      "text/plain": [
       "                    gene  chrom  best.str.start           best.tissue  \\\n",
       "3583  ENSG00000146648.11   chr7        55184224  Adipose-Subcutaneous   \n",
       "4169   ENSG00000115129.9   chr2        24287925       Muscle-Skeletal   \n",
       "9400  ENSG00000007171.12  chr17        26208840            WholeBlood   \n",
       "\n",
       "          beta   beta.se  best.score    best.q        pvalue  \n",
       "3583 -0.216770  0.060777    0.043092  0.056824  4.308585e-04  \n",
       "4169 -0.208427  0.057532    0.096205  0.036119  3.441362e-04  \n",
       "9400  0.346463  0.052770    0.294351  0.001319  2.128192e-10  "
      ]
     },
     "execution_count": 4,
     "metadata": {},
     "output_type": "execute_result"
    }
   ],
   "source": [
    "DATA = pd.read_csv(CAUSALITY, sep='\\t',low_memory=False)\n",
    "data =  DATA.loc[DATA['gene'].isin(LITT_eg)]\n",
    "data = data.fillna(0)\n",
    "beta=[]\n",
    "betase=[]\n",
    "pval = []\n",
    "\n",
    "for i in range(data.shape[0]): \n",
    "    \n",
    "    tissue = list(data['best.tissue'])[i]\n",
    "    gene = list(data['gene'])[i]\n",
    "    \n",
    "    if str(tissue) == '0':\n",
    "        beta.append('NA'); betase.append('NA'), pval.append('NA')\n",
    "        continue\n",
    "        \n",
    "    L = pd.read_csv(BASEDIR+tissue+'/Master.table', sep='\\t',low_memory=False)\n",
    "    L = L.loc[L['gene']==gene].sort_values(\"qvalue\", ascending=False).copy()\n",
    "    beta.append(list(L['beta'])[0])\n",
    "    betase.append(list(L['beta.se'])[0])\n",
    "    pval.append(list(L['p.wald'])[0])\n",
    "    \n",
    "data['pvalue'] = pval\n",
    "data['beta'] = beta\n",
    "data['beta.se'] = betase\n",
    "data['best.str.start'] = data['best.str.start'].astype(int)\n",
    "Table = data[['gene', 'chrom','best.str.start','best.tissue','beta','beta.se','best.score','best.q','pvalue']]\n",
    "\n",
    "Table"
   ]
  }
 ],
 "metadata": {
  "kernelspec": {
   "display_name": "Python 3",
   "language": "python",
   "name": "python3"
  },
  "language_info": {
   "codemirror_mode": {
    "name": "ipython",
    "version": 3
   },
   "file_extension": ".py",
   "mimetype": "text/x-python",
   "name": "python",
   "nbconvert_exporter": "python",
   "pygments_lexer": "ipython3",
   "version": "3.4.5"
  }
 },
 "nbformat": 4,
 "nbformat_minor": 2
}
