{
 "cells": [
  {
   "cell_type": "code",
   "execution_count": 4,
   "metadata": {
    "collapsed": false
   },
   "outputs": [
    {
     "name": "stdout",
     "output_type": "stream",
     "text": [
      "Populating the interactive namespace from numpy and matplotlib\n"
     ]
    },
    {
     "data": {
      "image/png": "[encoded data removed]",
      "text/plain": [
       "<matplotlib.figure.Figure at 0x7f9be42b45c0>"
      ]
     },
     "metadata": {},
     "output_type": "display_data"
    }
   ],
   "source": [
    "# Set up\n",
    "%pylab inline\n",
    "\n",
    "# Allow us to edit fonts in Illustrator\n",
    "import matplotlib\n",
    "matplotlib.rcParams['ps.useafm'] = True\n",
    "matplotlib.rcParams['pdf.use14corefonts'] = True\n",
    "matplotlib.rcParams['text.usetex'] = True\n",
    "#\n",
    "\n",
    "import pandas as pd\n",
    "import numpy as np\n",
    "import matplotlib.pyplot as plt\n",
    "\n",
    "# Paths to data\n",
    "MERGEDPCS = \"/storage/mgymrek/gtex/genotypePCA/GTEx_1KG_merged_650.pca.evec\" #Something is wrong with this file\n",
    "#LABEL1000GPCS=\"/home/szfeupe/projects/GTEX_eSTRs/data/1k_pca_map\"\n",
    "#GTEXGENOMESPCS=\"/home/szfeupe/projects/GTEX_eSTRs/data/gtex_pca_only\"\n",
    "df='/storage/resources/datasets/gtex/59533/PhenoGenotypeFiles/RootStudyConsentSet_phs000424.GTEx.v7.p2.c1.GRU/PhenotypeFiles/phs000424.v7.pht002742.v7.p2.c1.GTEx_Subject_Phenotypes.GRU.txt.gz'\n",
    "race = pd.read_csv(df, compression='gzip', skiprows=10, sep='\\t', quotechar='\"', low_memory=False)\n",
    "pca = pd.read_csv(MERGEDPCS,skiprows=0, sep='\\s+')\n",
    "\n",
    "# Output path\n",
    "OUTPATH = \"pdfs\"\n",
    "PREFIX = \"SuppFigure2\" \n",
    "\n",
    "#\n",
    "COLUMN1 = [\"PC1\",\"PC2\",\"PC3\",\"PC4\",\"PC5\",\"PC6\",\"PC7\",\"PC8\",\"PC9\",\"PC10\",\"PCC\"]\n",
    "COLUMN2 = [\"IDs\",\"PC1\",\"PC2\",\"PC3\",\"PC4\",\"PC5\",\"PC6\",\"PC7\",\"PC8\",\"PC9\",\"PC10\",\"PCC\"]\n",
    "LEGEND = ['AFR','AMR','EAS', 'SAS','EUR','African American','Asian','European']\n",
    "COLORS = {'AMR':'slategray', 'AFR':'gray','EUR':'lightgray', 'EAS':'k', 'SAS':'lightslategrey', \n",
    "          'AfricanAmerican':'yellow', 'Asian':'blue', 'European':'green','Amerindian':'red', '1000Genomes':'grey', 'Unknown':'k'\n",
    "         }\n",
    "\n",
    "#list(set(list(race['RACE'])))\n",
    "pca.columns=COLUMN1\n",
    "pca = pca.fillna({'PCC':'1000Genomes'})\n",
    "\n",
    "\n",
    "pca_650 = pca.loc[pca['PCC'].isnull()==False]\n",
    "pca_1000 = pca.loc[pca['PCC'].isnull()==True]\n",
    "\n",
    "#plot both with different colors (1000G in shades of gray)\n",
    "#plt.title(main=\"PCA 1000G & GTEx\")\n",
    "\n",
    "fig, ax = plt.subplots()\n",
    "grouped = pca.groupby('PCC')\n",
    "for key, group in grouped:\n",
    "    group.plot(ax=ax, kind='scatter', marker='.', x='PC1', y='PC2', label=key, color=COLORS[key])\n",
    "\n",
    "\n",
    "plt.legend(bbox_to_anchor=(1.025, 1), loc=2, borderaxespad=0.,ncol=1)\n",
    "plt.show()"
   ]
  },
  {
   "cell_type": "code",
   "execution_count": 5,
   "metadata": {
    "collapsed": false
   },
   "outputs": [],
   "source": [
    "pca.loc[pca['PCC']!='1000Genomes'].to_csv(\"/storage/szfeupe/Runs/GTEx_estr/gtex650.pca\", sep=\" \",header=None)"
   ]
  },
  {
   "cell_type": "code",
   "execution_count": 18,
   "metadata": {
    "collapsed": false
   },
   "outputs": [
    {
     "data": {
      "text/plain": [
       "PCC\n",
       "1000Genomes        2275\n",
       "AfricanAmerican      75\n",
       "Amerindian            3\n",
       "Asian                 8\n",
       "European            561\n",
       "Unknown               5\n",
       "dtype: int64"
      ]
     },
     "execution_count": 18,
     "metadata": {},
     "output_type": "execute_result"
    }
   ],
   "source": [
    "grouped.size()"
   ]
  },
  {
   "cell_type": "code",
   "execution_count": 36,
   "metadata": {
    "collapsed": false
   },
   "outputs": [
    {
     "data": {
      "text/html": [
       "<div>\n",
       "<table border=\"1\" class=\"dataframe\">\n",
       "  <thead>\n",
       "    <tr style=\"text-align: right;\">\n",
       "      <th></th>\n",
       "      <th>0</th>\n",
       "      <th>1</th>\n",
       "    </tr>\n",
       "  </thead>\n",
       "  <tbody>\n",
       "    <tr>\n",
       "      <th>377</th>\n",
       "      <td>GTEX-OIZF</td>\n",
       "      <td>European</td>\n",
       "    </tr>\n",
       "  </tbody>\n",
       "</table>\n",
       "</div>"
      ],
      "text/plain": [
       "             0         1\n",
       "377  GTEX-OIZF  European"
      ]
     },
     "execution_count": 36,
     "metadata": {},
     "output_type": "execute_result"
    }
   ],
   "source": [
    "Ourset = pca.loc[pca['PCC'].isin(['European','AfricanAmerican'])]\n",
    "listid = Ourset['PCC']\n",
    "listid.to_csv('/storage/szfeupe/Runs/650GTEx_estr/SampleRace.map', sep='\\t')\n",
    "T=pd.read_csv('/storage/szfeupe/Runs/650GTEx_estr/SampleRace.map', sep='\\t',  header=None)\n",
    "T.loc[T[0]=='GTEX-OIZF']"
   ]
  }
 ],
 "metadata": {
  "kernelspec": {
   "display_name": "Python 3",
   "language": "python",
   "name": "python3"
  },
  "language_info": {
   "codemirror_mode": {
    "name": "ipython",
    "version": 3
   },
   "file_extension": ".py",
   "mimetype": "text/x-python",
   "name": "python",
   "nbconvert_exporter": "python",
   "pygments_lexer": "ipython3",
   "version": "3.4.5"
  }
 },
 "nbformat": 4,
 "nbformat_minor": 2
}
