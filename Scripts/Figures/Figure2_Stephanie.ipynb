{
 "cells": [
  {
   "cell_type": "code",
   "execution_count": 1,
   "metadata": {
    "collapsed": false
   },
   "outputs": [
    {
     "name": "stdout",
     "output_type": "stream",
     "text": [
      "Populating the interactive namespace from numpy and matplotlib\n"
     ]
    },
    {
     "name": "stderr",
     "output_type": "stream",
     "text": [
      "/usr/lib/python3.4/site-packages/seaborn/apionly.py:9: UserWarning: As seaborn no longer sets a default style on import, the seaborn.apionly module is deprecated. It will be removed in a future version.\n",
      "  warnings.warn(msg, UserWarning)\n"
     ]
    }
   ],
   "source": [
    "#Causal eSTRs Enrichment\n",
    "# Set up\n",
    "%pylab inline\n",
    "\n",
    "# Allow us to edit fonts in Illustrator\n",
    "import matplotlib\n",
    "matplotlib.rcParams['ps.useafm'] = True\n",
    "matplotlib.rcParams['pdf.use14corefonts'] = True\n",
    "matplotlib.rcParams['text.usetex'] = True\n",
    "\n",
    "# Libraries\n",
    "import matplotlib.pyplot as plt\n",
    "import numpy as np\n",
    "import os\n",
    "import pandas as pd\n",
    "import scipy.stats as ss\n",
    "import seaborn.apionly as sns\n",
    "from collections import defaultdict\n",
    "\n",
    "ANNOTDIR = \"/storage/mgymrek/gtex/annotations/\"\n",
    "FEATUREDIR = \"/storage/szfeupe/Runs/650GTEx_estr/Analysis_by_Tissue/\"\n",
    "HTDIR = \"/storage/mgymrek/gtex/tfbs/encodedata/\"\n",
    "BEDDIR = \"/storage/mgymrek/gtex/annotations/encode/\"\n",
    "mergefile = '/storage/szfeupe/Runs/650GTEx_estr/Analysis_by_Tissue/Merged_Best_causality.Table'\n",
    "REGRSSION = '/storage/szfeupe/Runs/650GTEx_estr/Analysis_by_Tissue/LR_SummaryTest_Table.tsv'\n",
    "SCORETYPE = \"\"\n",
    "MINDIST = 1500 # For TSS\n",
    "\n",
    "# Output path\n",
    "OUTPATH = \"pdfs\"\n",
    "PREFIX = \"Figure2\" # Keep as a variable in case we move things around!\n",
    "\n",
    "# LIst of features to intersect with\n",
    "\"\"\"\n",
    "FEATURES = {\n",
    "    \"B_introns\": os.path.join(ANNOTDIR, \"introns.bed\"),\n",
    "    \"C_3utr\": os.path.join(ANNOTDIR, \"3utr.bed\"),\n",
    "    \"D_5utr\": os.path.join(ANNOTDIR, \"5utr.bed\"),\n",
    "    \"E_promoter_1kb\": os.path.join(ANNOTDIR, \"hg19_promoter_1kb.bed\"),\n",
    "    \"F_H3K4me1\": os.path.join(HTDIR, \"H3K4me1_GM12878.bed.gz\"),\n",
    "    \"G_H3K4me2\": os.path.join(HTDIR, \"H3K4me2_GM12878.bed.gz\"),\n",
    "    \"H_H3K4me3\": os.path.join(HTDIR, \"H3K4me3_GM12878.bed.gz\"),\n",
    "    \"I_H3K27ac\": os.path.join(HTDIR, \"H3K27ac_GM12878.bed.gz\"),\n",
    "    \"J_H3K27me3\": os.path.join(HTDIR, \"H3K27me3_GM12878.bed.gz\"),\n",
    "    \"K_H3K36me3\": os.path.join(HTDIR, \"H3K36me3_GM12878.bed.gz\"),  \n",
    "}\n",
    "\"\"\"\n",
    "letters = [\"A\",\"B\",\"C\",\"D\",\"E\",\"F\",\"G\",\"H\",\"I\",\"J\",\"K\",\"L\",\"M\"]\n",
    "i = 0\n",
    "FEATURES = {}\n",
    "for state in [\"Active_Promoter\",\"Weak_Promoter\",\"Strong_Enhancer\",\"Weak_Enhancer\",\"Txn_Elongation\",\"Txn_Transition\",\"Weak_Txn\",\"Heterochrom\",\"Repressed\"]:\n",
    "    FEATURES[letters[i]+\"_\"+state] = os.path.join(BEDDIR,\"%s_GM12878.bed\"%state)\n",
    "    i+= 1\n",
    "#    \"A_coding\": os.path.join(ANNOTDIR, \"coding.bed\"),\n"
   ]
  },
  {
   "cell_type": "code",
   "execution_count": 2,
   "metadata": {
    "collapsed": true
   },
   "outputs": [],
   "source": [
    "%%bash\n",
    "# Get all STRs analyzed\n",
    "BASEDIR=/storage/szfeupe/Runs/650GTEx_estr/Analysis_by_Tissue\n",
    "TISSUES=/storage/szfeupe/Runs/650GTEx_estr/Analysis_by_Tissue/list_tissues\n",
    "for t in $(cat $TISSUES)\n",
    "do\n",
    "    cat ${BASEDIR}/${t}/Lin_Reg_Out | grep -v gene | awk '{print $2 \"\\t\" $4 \"\\t\" $4+1}'\n",
    "done | sort | uniq > all_analyzed_strs.bed"
   ]
  },
  {
   "cell_type": "code",
   "execution_count": 2,
   "metadata": {
    "collapsed": true
   },
   "outputs": [],
   "source": [
    "# Get features on all STRs analyzed - TODO update when we have all loci\n",
    "all_strs = pd.read_csv(\"all_analyzed_strs.bed\", sep=\"\\t\", names=[\"chrom\",\"start\",\"end\"])\n",
    "all_strs[\"locus\"] = all_strs.apply(lambda x: x[\"chrom\"]+\":\"+str(x[\"start\"]), 1)\n",
    "for key in FEATURES.keys():\n",
    "    bedfile = FEATURES[key]\n",
    "    cmd = \"bedtools intersect -a all_analyzed_strs.bed -b %s > Intersect.bed\"%bedfile\n",
    "    returned_value = os.system(cmd)\n",
    "    Inter = pd.read_csv('Intersect.bed', sep='\\t', names=[\"chrom\",\"start\",\"end\"])\n",
    "    feature_loci = set(Inter.apply(lambda x: x[\"chrom\"]+\":\"+str(x[\"start\"]), 1))\n",
    "    all_strs[key] = np.where(all_strs[\"locus\"].isin(feature_loci), 1, 0)"
   ]
  },
  {
   "cell_type": "code",
   "execution_count": 3,
   "metadata": {
    "collapsed": true
   },
   "outputs": [],
   "source": [
    "# Get data on best STR per gene\n",
    "data = pd.read_csv(mergefile, sep='\\t')\n",
    "data['str.start']=data['best.str.start']\n",
    "GG   = pd.read_csv(REGRSSION, sep='\\t')\n",
    "data_best = pd.merge(data, GG[['chrom','str.start', 'gene','str.end','motif','E.tissues']], on=['chrom', 'str.start','gene' ] )"
   ]
  },
  {
   "cell_type": "code",
   "execution_count": 4,
   "metadata": {
    "collapsed": false
   },
   "outputs": [
    {
     "name": "stdout",
     "output_type": "stream",
     "text": [
      "(11810, 30) (307187, 77) (11869, 11)\n"
     ]
    }
   ],
   "source": [
    "# TODO change these dfinitions\n",
    "SCORE_THRESHOLD = 0.1 # causality score threshold\n",
    "MINQ = 0.1 # FDR threshold for eSTR\n",
    "\n",
    "data_best[\"is.estr\"] = (data_best[\"best.q\"]<=MINQ)\n",
    "data_best[\"is.causal\"] = data_best.apply(lambda x: \"SNP\" not in x[\"top.variant\"] and x[\"best.score\"]>=SCORE_THRESHOLD, 1)\n",
    "data_best[\"is.causal.estr\"] = (data_best[\"is.estr\"] & data_best[\"is.causal\"])\n",
    "data_best[\"is.not.causal.e\"]= data_best.apply(lambda x: \"SNP\" in x[\"top.variant\"] and x[\"best.q\"]<=MINQ, 1)\n",
    "\n",
    "# Add features\n",
    "data_best[\"start\"] = data_best[\"best.str.start\"]\n",
    "data_best = pd.merge(data_best, all_strs)\n",
    "\n",
    "print(data_best.shape,GG.shape ,data.shape)  #(11810, 31) (307187, 77) (11869, 11) if merger with inner"
   ]
  },
  {
   "cell_type": "code",
   "execution_count": 5,
   "metadata": {
    "collapsed": false
   },
   "outputs": [
    {
     "data": {
      "text/plain": [
       "(125758, 13)"
      ]
     },
     "execution_count": 5,
     "metadata": {},
     "output_type": "execute_result"
    }
   ],
   "source": [
    "data_best[[\"is.estr\",\"is.causal\",\"is.causal.estr\",'is.not.causal.e']]\n",
    "all_strs.shape"
   ]
  },
  {
   "cell_type": "code",
   "execution_count": 6,
   "metadata": {
    "collapsed": false
   },
   "outputs": [
    {
     "name": "stdout",
     "output_type": "stream",
     "text": [
      "[[500, 11310], [4492, 109456]]\n",
      "[[116, 7212], [4876, 113554]]\n",
      "[[313, 7015], [4679, 113751]]\n",
      "[[199, 11611], [883, 113065]]\n",
      "[[43, 7285], [1039, 117391]]\n",
      "[[122, 7206], [960, 117470]]\n",
      "[[342, 11468], [2237, 111711]]\n",
      "[[82, 7246], [2497, 115933]]\n",
      "[[204, 7124], [2375, 116055]]\n",
      "[[249, 11561], [772, 113176]]\n",
      "[[75, 7253], [946, 117484]]\n",
      "[[140, 7188], [881, 117549]]\n",
      "[[2547, 9263], [16021, 97927]]\n",
      "[[604, 6724], [17964, 100466]]\n",
      "[[1541, 5787], [17027, 101403]]\n",
      "[[746, 11064], [4599, 109349]]\n",
      "[[170, 7158], [5175, 113255]]\n",
      "[[475, 6853], [4870, 113560]]\n",
      "[[1582, 10228], [7072, 106876]]\n",
      "[[403, 6925], [8251, 110179]]\n",
      "[[899, 6429], [7755, 110675]]\n",
      "[[232, 11578], [762, 113186]]\n",
      "[[61, 7267], [933, 117497]]\n",
      "[[144, 7184], [850, 117580]]\n",
      "[[5290, 6520], [76148, 37800]]\n",
      "[[1080, 6248], [80358, 38072]]\n",
      "[[3408, 3920], [78030, 40400]]\n"
     ]
    },
    {
     "data": {
      "text/html": [
       "<div>\n",
       "<style scoped>\n",
       "    .dataframe tbody tr th:only-of-type {\n",
       "        vertical-align: middle;\n",
       "    }\n",
       "\n",
       "    .dataframe tbody tr th {\n",
       "        vertical-align: top;\n",
       "    }\n",
       "\n",
       "    .dataframe thead th {\n",
       "        text-align: right;\n",
       "    }\n",
       "</style>\n",
       "<table border=\"1\" class=\"dataframe\">\n",
       "  <thead>\n",
       "    <tr style=\"text-align: right;\">\n",
       "      <th></th>\n",
       "      <th>feature</th>\n",
       "      <th>OR_estr_all</th>\n",
       "      <th>P_estr_all</th>\n",
       "      <th>OR_noncausal_vs_all</th>\n",
       "      <th>P_noncausal_vs_all</th>\n",
       "      <th>OR_causalestr_all</th>\n",
       "      <th>P_causalestr_all</th>\n",
       "    </tr>\n",
       "  </thead>\n",
       "  <tbody>\n",
       "    <tr>\n",
       "      <th>3</th>\n",
       "      <td>A_Active_Promoter</td>\n",
       "      <td>3.157483</td>\n",
       "      <td>4.104658e-45</td>\n",
       "      <td>2.598741</td>\n",
       "      <td>1.112800e-20</td>\n",
       "      <td>1.284196</td>\n",
       "      <td>4.378228e-02</td>\n",
       "    </tr>\n",
       "    <tr>\n",
       "      <th>7</th>\n",
       "      <td>B_Weak_Promoter</td>\n",
       "      <td>2.976406</td>\n",
       "      <td>8.134387e-39</td>\n",
       "      <td>2.772750</td>\n",
       "      <td>1.535297e-23</td>\n",
       "      <td>1.057109</td>\n",
       "      <td>6.830742e-01</td>\n",
       "    </tr>\n",
       "    <tr>\n",
       "      <th>2</th>\n",
       "      <td>C_Strong_Enhancer</td>\n",
       "      <td>1.489253</td>\n",
       "      <td>1.002845e-10</td>\n",
       "      <td>1.399286</td>\n",
       "      <td>1.407465e-05</td>\n",
       "      <td>0.525417</td>\n",
       "      <td>4.659528e-10</td>\n",
       "    </tr>\n",
       "    <tr>\n",
       "      <th>5</th>\n",
       "      <td>D_Weak_Enhancer</td>\n",
       "      <td>1.603164</td>\n",
       "      <td>2.914973e-28</td>\n",
       "      <td>1.616253</td>\n",
       "      <td>6.093677e-20</td>\n",
       "      <td>0.519762</td>\n",
       "      <td>7.899043e-20</td>\n",
       "    </tr>\n",
       "    <tr>\n",
       "      <th>6</th>\n",
       "      <td>E_Txn_Elongation</td>\n",
       "      <td>2.337511</td>\n",
       "      <td>5.350374e-156</td>\n",
       "      <td>1.995648</td>\n",
       "      <td>4.897477e-66</td>\n",
       "      <td>0.777101</td>\n",
       "      <td>7.456657e-07</td>\n",
       "    </tr>\n",
       "    <tr>\n",
       "      <th>1</th>\n",
       "      <td>F_Txn_Transition</td>\n",
       "      <td>2.194578</td>\n",
       "      <td>5.583964e-20</td>\n",
       "      <td>2.071673</td>\n",
       "      <td>6.143106e-12</td>\n",
       "      <td>0.666896</td>\n",
       "      <td>7.429212e-03</td>\n",
       "    </tr>\n",
       "    <tr>\n",
       "      <th>4</th>\n",
       "      <td>G_Weak_Txn</td>\n",
       "      <td>1.680700</td>\n",
       "      <td>1.263100e-96</td>\n",
       "      <td>1.585849</td>\n",
       "      <td>6.220635e-50</td>\n",
       "      <td>0.502372</td>\n",
       "      <td>1.329761e-67</td>\n",
       "    </tr>\n",
       "    <tr>\n",
       "      <th>8</th>\n",
       "      <td>H_Heterochrom</td>\n",
       "      <td>0.402755</td>\n",
       "      <td>0.000000e+00</td>\n",
       "      <td>0.450125</td>\n",
       "      <td>3.164552e-237</td>\n",
       "      <td>0.081895</td>\n",
       "      <td>0.000000e+00</td>\n",
       "    </tr>\n",
       "    <tr>\n",
       "      <th>0</th>\n",
       "      <td>I_Repressed</td>\n",
       "      <td>1.077227</td>\n",
       "      <td>1.247630e-01</td>\n",
       "      <td>1.084723</td>\n",
       "      <td>1.748830e-01</td>\n",
       "      <td>0.374577</td>\n",
       "      <td>1.041934e-33</td>\n",
       "    </tr>\n",
       "  </tbody>\n",
       "</table>\n",
       "</div>"
      ],
      "text/plain": [
       "             feature  OR_estr_all     P_estr_all  OR_noncausal_vs_all  \\\n",
       "3  A_Active_Promoter     3.157483   4.104658e-45             2.598741   \n",
       "7    B_Weak_Promoter     2.976406   8.134387e-39             2.772750   \n",
       "2  C_Strong_Enhancer     1.489253   1.002845e-10             1.399286   \n",
       "5    D_Weak_Enhancer     1.603164   2.914973e-28             1.616253   \n",
       "6   E_Txn_Elongation     2.337511  5.350374e-156             1.995648   \n",
       "1   F_Txn_Transition     2.194578   5.583964e-20             2.071673   \n",
       "4         G_Weak_Txn     1.680700   1.263100e-96             1.585849   \n",
       "8      H_Heterochrom     0.402755   0.000000e+00             0.450125   \n",
       "0        I_Repressed     1.077227   1.247630e-01             1.084723   \n",
       "\n",
       "   P_noncausal_vs_all  OR_causalestr_all  P_causalestr_all  \n",
       "3        1.112800e-20           1.284196      4.378228e-02  \n",
       "7        1.535297e-23           1.057109      6.830742e-01  \n",
       "2        1.407465e-05           0.525417      4.659528e-10  \n",
       "5        6.093677e-20           0.519762      7.899043e-20  \n",
       "6        4.897477e-66           0.777101      7.456657e-07  \n",
       "1        6.143106e-12           0.666896      7.429212e-03  \n",
       "4        6.220635e-50           0.502372      1.329761e-67  \n",
       "8       3.164552e-237           0.081895      0.000000e+00  \n",
       "0        1.748830e-01           0.374577      1.041934e-33  "
      ]
     },
     "execution_count": 6,
     "metadata": {},
     "output_type": "execute_result"
    }
   ],
   "source": [
    "OR_estr_vs_all = []\n",
    "P_estr_vs_all = []\n",
    "\n",
    "#OR_causal_vs_estr = []\n",
    "#P_causal_vs_estr = []\n",
    "\n",
    "OR_noncausal_vs_all = []\n",
    "P_noncausal_vs_all = []\n",
    "\n",
    "OR_causalestr_vs_all = []\n",
    "P_causalestr_vs_all = []\n",
    "\n",
    "keys = list(FEATURES.keys())\n",
    "\n",
    "num_total_strs = all_strs.shape[0]\n",
    "num_total_e_strs = sum(data_best[\"is.estr\"])\n",
    "num_total_noncausal = sum(data_best[\"is.not.causal.e\"])\n",
    "num_total_causal_e = sum(data_best[\"is.causal.estr\"])\n",
    "\n",
    "def NormTable(table, total):\n",
    "    table[1][1] = total-sum(table)\n",
    "    return table\n",
    "\n",
    "for key in keys:\n",
    "    num_total_feature = sum(all_strs[key])\n",
    "    num_e_feature = sum(data_best[data_best[\"is.estr\"]][key])\n",
    "    num_causal_feature = sum(data_best[data_best[\"is.causal\"]][key])\n",
    "    num_causal_e_feature = sum(data_best[data_best[\"is.causal.estr\"]][key])\n",
    "    num_noncausal_e_feature = sum(data_best[data_best[\"is.not.causal.e\"]][key])\n",
    "        \n",
    "    # eSTRs vs. non eSTRs \n",
    "    # [estr_feature, estr_nofeature]\n",
    "    # [noestr_feature, none]\n",
    "    table1 = [[num_e_feature, num_total_e_strs-num_e_feature],\n",
    "            [num_total_feature-num_e_feature, 0]]\n",
    "    \n",
    "    table1 = NormTable(table1, num_total_strs)\n",
    "    OR, p = ss.fisher_exact(table1)\n",
    "    OR_estr_vs_all.append(OR)\n",
    "    P_estr_vs_all.append(p)\n",
    "    print(table1)\n",
    "    \n",
    "    \"\"\"    \n",
    "    # causal vs. all\n",
    "    table2 = [[num_causal_feature, num_total_causal-num_causal_feature],\n",
    "            [num_total_feature-num_causal_feature, 0]]\n",
    "    table2 = NormTable(table2, num_total_strs)\n",
    "    OR, p = ss.fisher_exact(table2)\n",
    "    OR_causal_vs_all.append(OR)\n",
    "    P_causal_vs_all.append(p)\n",
    "    \"\"\"        \n",
    "    # causalestr vs. all\n",
    "    # [causalestr_feature, causalestr_nofeature]\n",
    "    # [nocausalestr_feature, none]\n",
    "    table4 = [[num_causal_e_feature, num_total_noncausal - num_causal_e_feature],\n",
    "            [num_total_feature-num_causal_e_feature, 0]]\n",
    "    table4 = NormTable(table4, num_total_strs)\n",
    "    OR, p = ss.fisher_exact(table4)\n",
    "    OR_causalestr_vs_all.append(OR)\n",
    "    P_causalestr_vs_all.append(p)\n",
    "    print(table4)\n",
    "    \n",
    "    # Noncausalestr vs. all\n",
    "    # [noncausalestr_feature, noncausalestr_nofeature]\n",
    "    # [otherstr_feature, none]\n",
    "    table5 = [[num_noncausal_e_feature, num_total_noncausal - num_noncausal_e_feature],\n",
    "            [num_total_feature-num_noncausal_e_feature, 0]]\n",
    "    table5 = NormTable(table5, num_total_strs)\n",
    "    OR, p = ss.fisher_exact(table5)\n",
    "    OR_noncausal_vs_all.append(OR)\n",
    "    P_noncausal_vs_all.append(p)\n",
    "    print(table5)\n",
    "\n",
    "'''    \"OR_causal_all\": OR_causal_vs_all,\n",
    "    \"P_causal_all\": P_causal_vs_all,\n",
    "    #############,\"OR_causal_all\",\"P_causal_all\"\n",
    "'''    \n",
    "    \n",
    "        \n",
    "enrich_table = pd.DataFrame({\n",
    "    \"feature\": keys,\n",
    "    \"OR_estr_all\": OR_estr_vs_all,\n",
    "    \"P_estr_all\": P_estr_vs_all,\n",
    "    \"OR_noncausal_vs_all\": OR_noncausal_vs_all,\n",
    "    \"P_noncausal_vs_all\": P_noncausal_vs_all,\n",
    "    \"OR_causalestr_all\": OR_causalestr_vs_all,\n",
    "    \"P_causalestr_all\": P_causalestr_vs_all\n",
    "})\n",
    "enrich_table = enrich_table[[\"feature\", \"OR_estr_all\",\"P_estr_all\",\"OR_noncausal_vs_all\",\"P_noncausal_vs_all\",\n",
    "                            \"OR_causalestr_all\",\"P_causalestr_all\"]]\n",
    "\n",
    "enrich_table.sort_values(\"feature\")"
   ]
  },
  {
   "cell_type": "code",
   "execution_count": 10,
   "metadata": {
    "collapsed": false
   },
   "outputs": [
    {
     "data": {
      "image/png": "[encoded data removed]",
      "text/plain": [
       "<matplotlib.figure.Figure at 0x7fe9246a2470>"
      ]
     },
     "metadata": {},
     "output_type": "display_data"
    }
   ],
   "source": [
    "#Histone modification\n",
    "# Plot (OR_estr_all, OR_causal_all)\n",
    "enrich_table = enrich_table.sort_values(\"feature\", ascending=False)\n",
    "\n",
    "w = 0.3\n",
    "fig = plt.figure()\n",
    "ax = fig.add_subplot(111)\n",
    "yvals = np.array(range(len(keys)))\n",
    "bars1 = ax.barh(yvals, np.log2(enrich_table[\"OR_estr_all\"]), height=w, color=\"black\", edgecolor=\"white\")\n",
    "bars2 = ax.barh(yvals+w, np.log2(enrich_table[\"OR_causalestr_all\"]), height=w, color=\"white\", edgecolor=\"black\")\n",
    "ax.axvline(x=0, color=\"black\", linewidth=0.5)\n",
    "ax.spines['right'].set_visible(False)\n",
    "ax.spines['top'].set_visible(False)\n",
    "ax.spines['left'].set_visible(False)\n",
    "\n",
    "ax.set_yticks(yvals)\n",
    "ax.set_yticklabels([item[2:].replace(\"_\",\"\") for item in enrich_table[\"feature\"]]);\n",
    "ax.set_xlabel(\"log2(enrichment)\", size=15);\n",
    "#fig.savefig(os.path.join(OUTPATH, \"%s_causality_enrichment.pdf\"%PREFIX))"
   ]
  },
  {
   "cell_type": "code",
   "execution_count": 11,
   "metadata": {
    "collapsed": false
   },
   "outputs": [
    {
     "data": {
      "image/png": "[encoded data removed]",
      "text/plain": [
       "<matplotlib.figure.Figure at 0x7fe977cec6d8>"
      ]
     },
     "metadata": {},
     "output_type": "display_data"
    }
   ],
   "source": [
    "#Chromatin states\n",
    "#Plot (OR_estr_all, OR_causal_all)\n",
    "enrich_table = enrich_table.sort_values(\"feature\", ascending=False)\n",
    "\n",
    "w = 0.3\n",
    "fig = plt.figure()\n",
    "ax = fig.add_subplot(111)\n",
    "yvals = np.array(range(len(keys)))\n",
    "bars1 = ax.barh(yvals, np.log2(enrich_table[\"OR_noncausal_vs_all\"]), height=w, color=\"black\", edgecolor=\"white\")\n",
    "bars2 = ax.barh(yvals+w, np.log2(enrich_table[\"OR_causalestr_all\"]), height=w, color=\"white\", edgecolor=\"black\")\n",
    "ax.axvline(x=0, color=\"black\", linewidth=0.5)\n",
    "ax.spines['right'].set_visible(False)\n",
    "ax.spines['top'].set_visible(False)\n",
    "ax.spines['left'].set_visible(False)\n",
    "\n",
    "ax.set_yticks(yvals)\n",
    "ax.set_yticklabels([item[2:].replace(\"_\",\"\") for item in enrich_table[\"feature\"]]);\n",
    "ax.set_xlabel(\"log2(enrichment)\", size=15);\n",
    "#fig.savefig(os.path.join(OUTPATH, \"%s_causality_enrichment.pdf\"%PREFIX))"
   ]
  },
  {
   "cell_type": "code",
   "execution_count": null,
   "metadata": {
    "collapsed": true
   },
   "outputs": [],
   "source": []
  }
 ],
 "metadata": {
  "kernelspec": {
   "display_name": "Python 3",
   "language": "python",
   "name": "python3"
  },
  "language_info": {
   "codemirror_mode": {
    "name": "ipython",
    "version": 3
   },
   "file_extension": ".py",
   "mimetype": "text/x-python",
   "name": "python",
   "nbconvert_exporter": "python",
   "pygments_lexer": "ipython3",
   "version": "3.4.5"
  }
 },
 "nbformat": 4,
 "nbformat_minor": 2
}
