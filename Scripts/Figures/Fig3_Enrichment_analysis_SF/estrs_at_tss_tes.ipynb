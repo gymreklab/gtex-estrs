{
 "cells": [
  {
   "cell_type": "code",
   "execution_count": null,
   "metadata": {
    "collapsed": false
   },
   "outputs": [],
   "source": [
    "import pandas as pd\n",
    "import numpy as np\n",
    "import matplotlib.pyplot as plt\n",
    "import os\n",
    "\n",
    "#variable\n",
    "SUMMARY = '/storage/szfeupe/Runs/650GTEx_estr/Analysis_by_Tissue/LR_SummaryTest_Table.tsv'\n",
    "TSS = '/storage/szfeupe/Runs/650GTEx_estr/Analysis_by_Tissue/Merged_Causality_TSS_TSS.tab'\n",
    "ANNOT = '/storage/resources/dbase/human/hg19/gencode_gene_annotations_hg19.csv'\n",
    "sep='\"\\t\"'\n",
    "command = \"cat %s |awk -F'\\t' '{print $1%s$2%s$75%s$4}' > all_analyzed_strs.tab\"%(SUMMARY, sep,sep,sep)\n",
    "value = os.system(command)"
   ]
  },
  {
   "cell_type": "code",
   "execution_count": 20,
   "metadata": {
    "collapsed": false
   },
   "outputs": [
    {
     "name": "stdout",
     "output_type": "stream",
     "text": [
      "125758 \t 17517\n",
      "20192 \t 11869\n",
      "(25619, 77) (1679, 4)\n",
      "303 \t 299\n"
     ]
    },
    {
     "data": {
      "text/plain": [
       "(303, 77)"
      ]
     },
     "execution_count": 20,
     "metadata": {},
     "output_type": "execute_result"
    }
   ],
   "source": [
    "#within dist_tss=1500bps of TSS or TES  (TS)\n",
    "dist_ts = 1500\n",
    "\n",
    "annot = pd.read_csv(ANNOT)\n",
    "annot['attss'] = annot['gene.start'].apply(lambda x: x-dist_ts)\n",
    "annot['attes'] = annot['gene.stop'].apply(lambda x: x+dist_ts)\n",
    "\n",
    "#tss\n",
    "tss = annot[['gene.chr', 'attss', 'gene.start', 'gene.id']].copy()\n",
    "tss.columns=['chrom','start', 'stop','gene']\n",
    "tss.to_csv('dist_tss.tab', index=None, sep='\\t')\n",
    "command = \"bedtools intersect -a dist_tss.tab -b all_analyzed_strs.tab -wo > intersect_tss.tab\"\n",
    "value = os.system(command)\n",
    "inter_tss = pd.read_csv('intersect_tss.tab', sep='\\t', header=None)\n",
    "inter_tss = inter_tss.loc[inter_tss[3]==inter_tss[7]][[4,5,6,7]]\n",
    "inter_tss.columns=['chrom','str.start', 'str.end','gene']\n",
    "\n",
    "estrs=pd.read_csv(SUMMARY, sep='\\t'); print (len(set(list(estrs['chrom']+estrs['str.id']))), '\\t',len(set(list(estrs['gene']))))\n",
    "estrs=estrs.loc[estrs['E.tissues']>=1] ; print (len(set(list(estrs['chrom']+estrs['str.id']))), '\\t',len(set(list(estrs['gene']))))\n",
    "print(estrs.shape, inter_tss.shape)\n",
    "\n",
    "I = inter_tss.merge(estrs, on=['chrom','str.start', 'str.end','gene'], how='inner')\n",
    "print (len(set(list(I['chrom']+I['str.id']))), '\\t',len(set(list(I['gene']))))\n",
    "I.shape"
   ]
  },
  {
   "cell_type": "code",
   "execution_count": 21,
   "metadata": {
    "collapsed": false
   },
   "outputs": [
    {
     "name": "stdout",
     "output_type": "stream",
     "text": [
      "125758 \t 17517\n",
      "20192 \t 11869\n",
      "(25619, 77) (1714, 4)\n",
      "278 \t 274\n"
     ]
    },
    {
     "data": {
      "text/plain": [
       "(278, 77)"
      ]
     },
     "execution_count": 21,
     "metadata": {},
     "output_type": "execute_result"
    }
   ],
   "source": [
    "#tes\n",
    "tes = annot[['gene.chr', 'gene.stop', 'attes', 'gene.id']].copy()\n",
    "tes.columns=['chrom','start', 'stop','gene']\n",
    "tes.to_csv('dist_tes.tab', index=None, sep='\\t')\n",
    "command = \"bedtools intersect -a dist_tes.tab -b all_analyzed_strs.tab -wo > intersect_tes.tab\"\n",
    "value = os.system(command)\n",
    "\n",
    "inter_tes = pd.read_csv('intersect_tes.tab', sep='\\t', header=None)\n",
    "inter_tes = inter_tes.loc[inter_tes[3]==inter_tes[7]][[4,5,6,7]]\n",
    "inter_tes.columns=['chrom','str.start', 'str.end','gene']\n",
    "\n",
    "estrs=pd.read_csv(SUMMARY, sep='\\t'); print (len(set(list(estrs['chrom']+estrs['str.id']))), '\\t',len(set(list(estrs['gene']))))\n",
    "estrs=estrs.loc[estrs['E.tissues']>=1] ; print (len(set(list(estrs['chrom']+estrs['str.id']))), '\\t',len(set(list(estrs['gene']))))\n",
    "print(estrs.shape, inter_tes.shape)\n",
    "\n",
    "I = inter_tes.merge(estrs, on=['chrom','str.start', 'str.end','gene'], how='inner')\n",
    "print (len(set(list(I['chrom']+I['str.id']))), '\\t',len(set(list(I['gene']))))\n",
    "I.shape"
   ]
  },
  {
   "cell_type": "code",
   "execution_count": null,
   "metadata": {
    "collapsed": true
   },
   "outputs": [],
   "source": [
    "#TSS =========================================================\n",
    "         TSS  \tnon TSS \t Total STR\n",
    "estrs \t 303 \t19889   \t 20192\n",
    "nonestr\t 1376\t104190  \t105566\n",
    "Total\t 1679\t124079  \t125758\n",
    "\n",
    "Chi-square with Yates correction\n",
    "  Chi squared equals 4.852 with 1 degrees of freedom. \n",
    "  The two-tailed P value equals 0.0276\n",
    "\n",
    "#TES =========================================================\n",
    "        TES  \t nonTES \t Total STR\n",
    "estrs \t 278\t 19914  \t20192\n",
    "non-est\t 1436\t 104130 \t105566\n",
    "Total\t 1714\t 124044 \t125758\n",
    "\n",
    "Chi-square with Yates correction\n",
    "  Chi squared equals 0.023 with 1 degrees of freedom. \n",
    "  The two-tailed P value equals 0.8791\n"
   ]
  }
 ],
 "metadata": {
  "kernelspec": {
   "display_name": "Python 3",
   "language": "python",
   "name": "python3"
  },
  "language_info": {
   "codemirror_mode": {
    "name": "ipython",
    "version": 3
   },
   "file_extension": ".py",
   "mimetype": "text/x-python",
   "name": "python",
   "nbconvert_exporter": "python",
   "pygments_lexer": "ipython3",
   "version": "3.4.5"
  }
 },
 "nbformat": 4,
 "nbformat_minor": 2
}
