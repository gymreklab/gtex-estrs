{
 "cells": [
  {
   "cell_type": "code",
   "execution_count": 16,
   "metadata": {
    "collapsed": false
   },
   "outputs": [],
   "source": [
    "import pandas as pd\n",
    "import numpy as np\n",
    "import matplotlib.pyplot as plt\n",
    "import scipy.stats as ss\n",
    "import os\n",
    "\n",
    "#variable\n",
    "SUMMARY = '/storage/szfeupe/Runs/650GTEx_estr/Analysis_by_Tissue/LR_SummaryTest_Table.tsv'\n",
    "TSS = '/storage/szfeupe/Runs/650GTEx_estr/Analysis_by_Tissue/Merged_Causality_TSS_TSS.tab'\n",
    "ANNOT =  \"/storage/mgymrek/gtex/annotations/encode/\"\n",
    "ENHANC = [\"Strong_Enhancer\",\"Weak_Enhancer\"]\n",
    "\n",
    "sep='\"\\t\"'\n",
    "command = \"cat %s |awk -F'\\t' '{print $1%s$2%s$75%s$4}' > all_analyzed_strs.tab\"%(SUMMARY, sep,sep,sep)\n",
    "value = os.system(command)"
   ]
  },
  {
   "cell_type": "code",
   "execution_count": 19,
   "metadata": {
    "collapsed": false
   },
   "outputs": [
    {
     "name": "stdout",
     "output_type": "stream",
     "text": [
      "(307187, 78) All loci: 125758 (25619, 78) eSTR loci: 20192\n"
     ]
    }
   ],
   "source": [
    "#All STRs\n",
    "allstrs = pd.read_csv(SUMMARY, sep='\\t')\n",
    "allstrs['locus']=allstrs.apply(lambda x: x[\"chrom\"]+\":\"+str(x[\"str.start\"]), 1)\n",
    "estrs = allstrs.loc[allstrs['E.tissues']>=1] \n",
    "print(allstrs.shape, 'All loci:', len(set(allstrs['locus'])) , estrs.shape, 'eSTR loci:',len(set(estrs['locus'])))\n",
    "\n",
    "\n",
    "#enhancers\n",
    "enhancer = {\n",
    "    'Strong_E': os.path.join(ANNOT,\"%s_GM12878.bed\"%ENHANC[0]),\n",
    "    'Weak_E': os.path.join(ANNOT,\"%s_GM12878.bed\"%ENHANC[1])\n",
    "            }\n",
    "#intersect with strong enhancers\n",
    "command = \"bedtools intersect -a all_analyzed_strs.tab -b %s > Intersect.bed\"%enhancer['Strong_E']\n",
    "value = os.system(command)\n",
    "enhancer['inter_strong'] = pd.read_csv('Intersect.bed', sep='\\t', names=[\"chrom\",\"start\",\"end\",\"gene\"]).drop_duplicates()\n",
    "feature_loci = set(enhancer['inter_strong'].apply(lambda x: x[\"chrom\"]+\":\"+str(x[\"start\"]), 1))\n",
    "allstrs['inter_strong'] = np.where(allstrs[\"locus\"].isin(feature_loci), 1, 0)\n",
    "\n",
    "\n",
    "#intersect with weak enhancers\n",
    "command = \"bedtools intersect -a all_analyzed_strs.tab -b %s > Intersect.bed\"%enhancer['Weak_E']\n",
    "value = os.system(command)\n",
    "enhancer['inter_weak'] = pd.read_csv('Intersect.bed', sep='\\t', names=[\"chrom\",\"start\",\"end\",\"gene\"]).drop_duplicates()\n",
    "feature_loci = set(enhancer['inter_weak'].apply(lambda x: x[\"chrom\"]+\":\"+str(x[\"start\"]), 1))\n",
    "allstrs['inter_weak'] = np.where(allstrs[\"locus\"].isin(feature_loci), 1, 0)"
   ]
  },
  {
   "cell_type": "code",
   "execution_count": 32,
   "metadata": {
    "collapsed": false
   },
   "outputs": [
    {
     "name": "stdout",
     "output_type": "stream",
     "text": [
      "All STRs at enhancers 7924 (2204, 80) eSTRs at enhancers 1673\n",
      "Enrichment of eSTRs at enhancer regions 1.4353035443698845 2.105432869238656e-34\n"
     ]
    }
   ],
   "source": [
    "enhan = allstrs.loc[(allstrs['inter_strong']==1)|(allstrs['inter_weak']==1)].copy()\n",
    "print('All STRs at enhancers', len(set(enhan['locus'])), enhan.loc[enhan['E.tissues']>=1].shape,'eSTRs at enhancers',len(set(enhan.loc[enhan['E.tissues']>=1]['locus'])) )\n",
    "\n",
    "Eenhan = enhan.loc[enhan['E.tissues']>=1].copy()\n",
    "Motifs = list(set(Eenhan['motif']))\n",
    "\n",
    "locus=len(set(allstrs['locus']))\n",
    "eSTR=len(set(estrs['locus']))\n",
    "locus_enh = len(set(enhan['locus']))\n",
    "estr_enh_locus = len(set(enhan.loc[enhan['E.tissues']>=1]['locus']))  \n",
    "odd_enhancer, pv_enhancer = ss.fisher_exact([[estr_enh_locus,eSTR-estr_enh_locus],[locus_enh-estr_enh_locus, locus-eSTR-(locus_enh-estr_enh_locus)]])\n",
    "print('Enrichment of eSTRs at enhancer regions',odd_enhancer, pv_enhancer)\n",
    "\n",
    "odds=[]\n",
    "pval=[]\n",
    "count=[]\n",
    "\n",
    "#overall enrichment #66 eSTRs motifs \n",
    "for motif in Motifs:\n",
    "    me = Eenhan.loc[Eenhan['motif']==motif].shape[0]\n",
    "    mne= Eenhan.shape[0] - me\n",
    "    nme= enhan.loc[enhan['motif']==motif].shape[0]-me\n",
    "    nmne=enhan.shape[0]-enhan.loc[enhan['motif']==motif].shape[0]-(mne) \n",
    "    #print([me,mne],[nme,nmne])\n",
    "    \n",
    "    OR, p = ss.fisher_exact([[me,mne],[nme,nmne]])\n",
    "    \n",
    "    odds.append(np.log2(OR))\n",
    "    pval.append(-np.log10(p))\n",
    "    count.append((enhan.loc[enhan['motif']==motif].shape[0], me))\n",
    "\n",
    "data=pd.DataFrame.from_dict({'motif':Motifs, 'OR':odds, 'pvalue':pval, 'Counts':count}).sort_values('pvalue')\n",
    "data.index=list(data['motif'])"
   ]
  },
  {
   "cell_type": "code",
   "execution_count": 33,
   "metadata": {
    "collapsed": false
   },
   "outputs": [
    {
     "ename": "TypeError",
     "evalue": "bar() missing 1 required positional argument: 'height'",
     "output_type": "error",
     "traceback": [
      "\u001b[0;31m---------------------------------------------------------------------------\u001b[0m",
      "\u001b[0;31mTypeError\u001b[0m                                 Traceback (most recent call last)",
      "\u001b[0;32m<ipython-input-33-da0918df9ce2>\u001b[0m in \u001b[0;36m<module>\u001b[0;34m()\u001b[0m\n\u001b[1;32m      1\u001b[0m \u001b[0mplt\u001b[0m\u001b[0;34m.\u001b[0m\u001b[0mfigure\u001b[0m\u001b[0;34m(\u001b[0m\u001b[0;34m)\u001b[0m\u001b[0;34m\u001b[0m\u001b[0m\n\u001b[0;32m----> 2\u001b[0;31m \u001b[0mplt\u001b[0m\u001b[0;34m.\u001b[0m\u001b[0mbar\u001b[0m\u001b[0;34m(\u001b[0m\u001b[0mdata\u001b[0m\u001b[0;34m[\u001b[0m\u001b[0;34m'pvalue'\u001b[0m\u001b[0;34m]\u001b[0m\u001b[0;34m)\u001b[0m\u001b[0;34m\u001b[0m\u001b[0m\n\u001b[0m",
      "\u001b[0;31mTypeError\u001b[0m: bar() missing 1 required positional argument: 'height'"
     ]
    }
   ],
   "source": [
    "plt.figure()\n",
    "plt.bar(data['pvalue'])"
   ]
  },
  {
   "cell_type": "code",
   "execution_count": null,
   "metadata": {
    "collapsed": true
   },
   "outputs": [],
   "source": []
  }
 ],
 "metadata": {
  "kernelspec": {
   "display_name": "Python 3",
   "language": "python",
   "name": "python3"
  },
  "language_info": {
   "codemirror_mode": {
    "name": "ipython",
    "version": 3
   },
   "file_extension": ".py",
   "mimetype": "text/x-python",
   "name": "python",
   "nbconvert_exporter": "python",
   "pygments_lexer": "ipython3",
   "version": "3.4.5"
  }
 },
 "nbformat": 4,
 "nbformat_minor": 2
}
