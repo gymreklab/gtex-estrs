{
 "cells": [
  {
   "cell_type": "code",
   "execution_count": 1,
   "metadata": {
    "collapsed": false
   },
   "outputs": [],
   "source": [
    "import vcf\n",
    "import pandas as pd\n",
    "\n",
    "def checkgt(record,s):\n",
    "    try:\n",
    "        return(record.genotype(s)[GTFIELD])\n",
    "    except:\n",
    "        return None\n",
    "    \n",
    "def GetGT(gt):\n",
    "    #print gt\n",
    "    if gt is None: return None\n",
    "    if str(gt) == \".\" or str(gt) == \"./.\": return None #Missing genotype control\n",
    "    if \"|\" in gt: return map(int, gt.split(\"|\"))\n",
    "    elif \"/\" in gt: return map(int, gt.split(\"/\"))\n",
    "    else: return [int(gt), int(gt)] # haploid\n",
    "\n",
    "def NormalizeGT(genotypes, NORM=True, PRINT_ALLELES=False, MINCOUNT=1, COUNTFILTERS=False):\n",
    "    def getsum(x):\n",
    "        if x is None: return None\n",
    "        else: return sum(x)\n",
    "    def getstr(x):\n",
    "        if x is None: return \"NA,NA\"\n",
    "        else: return \",\".join(map(str, x))\n",
    "    if PRINT_ALLELES: return map(getstr, genotypes)\n",
    "    gtsum = map(getsum, genotypes)\n",
    "    \n",
    "    if COUNTFILTERS:\n",
    "        return gtsum # just counting filters, don't waste time to actually normalize\n",
    "    if not NORM: return gtsum\n",
    "    gtmean = np.mean([item for item in gtsum if item is not None])\n",
    "    gtsd = math.sqrt(np.var([item for item in gtsum if item is not None]))\n",
    "    if gtsd == 0: return None\n",
    "    def norm(gt, m, s):\n",
    "        if gt is None: return None\n",
    "        else: return (gt-m)*1.0/s\n",
    "    gtnorm = [norm(item, gtmean, gtsd) for item in gtsum]\n",
    "    return gtnorm    \n",
    "    \n",
    "    \n",
    "VCFFILE='/storage/szfeupe/Runs/650GTEx_estr/Filter_Merged_STRs_All_Samples_New.vcf.gz'\n",
    "vcf_reader = vcf.Reader(open(VCFFILE, \"rb\"))\n",
    "SAMPLES = [item for item in vcf_reader.samples]"
   ]
  },
  {
   "cell_type": "code",
   "execution_count": 2,
   "metadata": {
    "collapsed": false
   },
   "outputs": [
    {
     "name": "stdout",
     "output_type": "stream",
     "text": [
      "649    649    STR_271    ['-3|-3', '-3|-3', '-3|-3', '-3|-3', '-3|-3'] 0.0\n",
      "645    645    STR_278    ['0|-4', '-4|-4', '-4|0', '-4|0', '-4|0'] 0.0\n",
      "647    647    STR_292    ['0|-5', '-5|-5', '0|-5', '0|0', '0|-5'] 0.0\n",
      "621    621    STR_294    ['0|0', '0|0', '0|0', '0|1', '0|0'] 0.0\n",
      "595    595    STR_303    ['0|-1', '-1|-1', '-1|-1', '-1|-1', '0|-1'] 0.0\n",
      "578    578    STR_308    ['0|0', '0|1', '1|1', '0|0', '0|1'] 0.0\n",
      "603    603    STR_357    ['0|0', '0|0', '0|0', '0|0', '0|0'] 0.0\n",
      "595    595    STR_358    ['0|0', '0|0', '0|0', '0|0', '0|0'] 0.0\n",
      "641    641    STR_360    ['-2|-2', '-2|-2', '0|-2', '0|0', '0|-2'] 0.0\n",
      "605    605    STR_449    ['0|0', '0|0', '0|0', '0|1', '0|0'] 0.0\n",
      "639    639    STR_456    ['0|0', '0|0', '0|0', '0|3', '0|0'] 0.0015384615384615385\n"
     ]
    }
   ],
   "source": [
    "def PruneRareGT(gtsum, MINCOUNT):\n",
    "    \"\"\"\n",
    "    For genotypes that occur less than MINCOUNT times, set those to None\n",
    "    \"\"\"\n",
    "    gts = set([item for item in gtsum if item is not None])\n",
    "    for gt in gts:\n",
    "        if gtsum.count(gt) < MINCOUNT:\n",
    "            gtsum = map(lambda x: SetNone(x, gt), gtsum)\n",
    "    return gtsum\n",
    "\n",
    "GTFIELD='GB'\n",
    "NORM = True\n",
    "COUNTFILTERS = False\n",
    "PRINT_ALLELES = False\n",
    "FILTER=True\n",
    "i=0\n",
    "for record in vcf_reader:\n",
    "    if (FILTER==True) and (record.FILTER != [] ): \n",
    "        continue\n",
    "    else:\n",
    "        genotypes = [checkgt(record,s) for s in SAMPLES]\n",
    "        genotypes = [s for s in genotypes if str(s) !='None']\n",
    "        W = [GetGT(checkgt(record,s)) for s in SAMPLES]\n",
    "        W = [s for s in W if s is not None]\n",
    "        #NG = NormalizeGT(W, NORM=NORM, PRINT_ALLELES=PRINT_ALLELES, MINCOUNT=20, COUNTFILTERS=COUNTFILTERS)\n",
    "        print (len(genotypes), '  ',len(W),'  ',record.ID,'  ', genotypes[:5], record.call_rate)\n",
    "        i+=1\n",
    "        if i>10:\n",
    "            break\n",
    "    "
   ]
  },
  {
   "cell_type": "code",
   "execution_count": 4,
   "metadata": {
    "collapsed": false
   },
   "outputs": [
    {
     "name": "stdout",
     "output_type": "stream",
     "text": [
      "[0.0] 0.0015384615384615385\n"
     ]
    }
   ],
   "source": [
    "print(record.aaf, record.call_rate) #but there are more than 80% calls 639 out of 650"
   ]
  }
 ],
 "metadata": {
  "kernelspec": {
   "display_name": "Python 3",
   "language": "python",
   "name": "python3"
  },
  "language_info": {
   "codemirror_mode": {
    "name": "ipython",
    "version": 3
   },
   "file_extension": ".py",
   "mimetype": "text/x-python",
   "name": "python",
   "nbconvert_exporter": "python",
   "pygments_lexer": "ipython3",
   "version": "3.4.5"
  }
 },
 "nbformat": 4,
 "nbformat_minor": 2
}
