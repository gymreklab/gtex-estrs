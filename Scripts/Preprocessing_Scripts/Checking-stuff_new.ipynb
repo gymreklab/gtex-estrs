{
 "cells": [
  {
   "cell_type": "code",
   "execution_count": 6,
   "metadata": {
    "collapsed": false
   },
   "outputs": [],
   "source": [
    "import pandas as pd\n",
    "import numpy as np\n",
    "import vcf\n",
    "\n",
    "sample = pd.read_csv('/storage/szfeupe/Runs/650GTEx_estr/Filter_Merged_STRs_All_Samples_New.vcf', skiprows=141, sep='\\t')\n",
    "COL = ['#CHROM','POS','ID','QUAL','FILTER']\n",
    "data = sample[COL]\n",
    "data['hom']=data['FILTER'].apply(lambda x: 1 if \"HOM_POLY\" in x else 0)\n",
    "data['dup']=data['FILTER'].apply(lambda x: 1 if \"SEGDUP\" in x else 0)\n",
    "data['hrn']=data['FILTER'].apply(lambda x: 1 if \"HRUN\" in x else 0)\n",
    "data['hwe']=data['FILTER'].apply(lambda x: 1 if \"HWE\" in x else 0)\n",
    "data['crt']=data['FILTER'].apply(lambda x: 1 if \"CALLRATE\" in x else 0)"
   ]
  },
  {
   "cell_type": "code",
   "execution_count": 7,
   "metadata": {
    "collapsed": false
   },
   "outputs": [
    {
     "name": "stdout",
     "output_type": "stream",
     "text": [
      "1586494  STRs were genotyped\n",
      "0 Homopolymers total\n",
      "79353 overlaps with segmental duplication total\n",
      "38881  were filtered for homopolymer runs \n",
      "174278  were filtered for HWE score <0.05 total\n",
      "719899  were filtered for call rate <0.8 in total\n",
      "175226 passed all filters in total\n",
      "1012411  removed for hrun, seg dup overlaps, hwe or call rate.... there may be overlaps\n"
     ]
    }
   ],
   "source": [
    "print(data.shape[0], ' STRs were genotyped')\n",
    "print(data.loc[data['hom']==1].shape[0], 'Homopolymers total')\n",
    "print(data.loc[data['dup']==1].shape[0], 'overlaps with segmental duplication total')\n",
    "print(data.loc[data['hrn']==1].shape[0], ' were filtered for homopolymer runs ')\n",
    "print(data.loc[data['hwe']==1].shape[0], ' were filtered for HWE score <0.05 total')\n",
    "print(data.loc[data['crt']==1].shape[0], ' were filtered for call rate <0.8 in total')\n",
    "print(data.loc[data['FILTER']=='PASS'].shape[0], 'passed all filters in total')\n",
    "print(data.loc[data['crt']==1].shape[0] + data.loc[data['hwe']==1].shape[0]+data.loc[data['hrn']==1].shape[0]+ \\\n",
    "      data.loc[data['dup']==1].shape[0] , ' removed for hrun, seg dup overlaps, hwe or call rate.... there may be overlaps')"
   ]
  },
  {
   "cell_type": "code",
   "execution_count": null,
   "metadata": {
    "collapsed": true
   },
   "outputs": [],
   "source": [
    "#HET,Description=\"Heterozygosity less than 0.1\">\n",
    "##FILTER=<ID=HRUN,Description=\"Hrun greater than -1\">\n",
    "##FILTER=<ID=HWE,Description=\"HWE less than 0.05\">\n",
    "##FILTER=<ID=CALLRATE,Description=\"Callrate less than 0.8\">\n",
    "##FILTER=<ID=HOM_POLY,Description=\"Homopolymer locus\">\n",
    "##FILTER=<ID=SEGDUP"
   ]
  }
 ],
 "metadata": {
  "kernelspec": {
   "display_name": "Python 3",
   "language": "python",
   "name": "python3"
  },
  "language_info": {
   "codemirror_mode": {
    "name": "ipython",
    "version": 3
   },
   "file_extension": ".py",
   "mimetype": "text/x-python",
   "name": "python",
   "nbconvert_exporter": "python",
   "pygments_lexer": "ipython3",
   "version": "3.4.5"
  }
 },
 "nbformat": 4,
 "nbformat_minor": 2
}
