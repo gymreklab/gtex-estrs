{
 "cells": [
  {
   "cell_type": "code",
   "execution_count": 1,
   "metadata": {
    "collapsed": false
   },
   "outputs": [],
   "source": [
    "import pandas as pd\n",
    "import scipy.stats\n",
    "import numpy as np\n",
    "import matplotlib.pyplot as plt\n",
    "def countcall(X):\n",
    "    # GT:GB   ------   ./.:0|0\n",
    "\n",
    "    S = X.dropna().astype(str).copy()\n",
    "    L = [x.split(':') for x in list(S) if x!='.']\n",
    "    count_gb = len([x[1] for x in L if x[1]not in ['.','./.']])\n",
    "    count_gn = len(L)\n",
    "    return(count_gb)\n",
    "\n",
    "sample = pd.read_csv('/storage/szfeupe/Runs/650GTEx_estr/Filter_Merged_STRs_All_Samples.vcf.gz', skiprows=132, sep='\\t', low_memory=False)\n",
    "sample.index = list(sample['ID'])\n",
    "sample = sample[sample.columns[9:]]"
   ]
  },
  {
   "cell_type": "code",
   "execution_count": 4,
   "metadata": {
    "collapsed": false
   },
   "outputs": [
    {
     "name": "stdout",
     "output_type": "stream",
     "text": [
      "0\n",
      "100\n",
      "200\n",
      "300\n",
      "400\n",
      "500\n",
      "600\n",
      "630\n",
      "END\n"
     ]
    }
   ],
   "source": [
    "# Histogram of the number of calls per sample pre-filtering\n",
    "COUNT=[]\n",
    "SMPL=[]\n",
    "COL = list(sample.columns)\n",
    "for i in range(len(COL)):\n",
    "    COUNT.append(countcall(sample[COL[i]]))\n",
    "    SMPL.append(COL[i])\n",
    "    if i in [0,100, 200, 300,400, 500, 600, 630]:\n",
    "        print(i)\n",
    "print('END')"
   ]
  },
  {
   "cell_type": "code",
   "execution_count": 13,
   "metadata": {
    "collapsed": false
   },
   "outputs": [
    {
     "data": {
      "image/png": "[encoded data removed]",
      "text/plain": [
       "<matplotlib.figure.Figure at 0x7f493be7a278>"
      ]
     },
     "metadata": {},
     "output_type": "display_data"
    }
   ],
   "source": [
    "#histogram\n",
    "fig = plt.figure(figsize=(15,5))\n",
    "\n",
    "ax1 = fig.add_subplot(121)\n",
    "ax1.hist(sorted([i for i in COUNT]),bins=30, color='b')\n",
    "plt.title('Calls per sample)\\n Number of loci called per sample')\n",
    "plt.ylabel('Samples')\n",
    "\n",
    "ax2 = fig.add_subplot(122)\n",
    "ax2.scatter([i for i in range(650)],sorted([i/100000 for i in COUNT]), marker='.', color='b')\n",
    "plt.title('Calls per sample)\\n Number of loci called per sample')\n",
    "plt.ylabel('calls/100000')\n",
    "plt.show()"
   ]
  },
  {
   "cell_type": "code",
   "execution_count": 24,
   "metadata": {
    "collapsed": false
   },
   "outputs": [
    {
     "name": "stdout",
     "output_type": "stream",
     "text": [
      "650 650 1586494\n"
     ]
    }
   ],
   "source": [
    "ids = sample.index\n",
    "ROW = []\n",
    "for i in range(sample.shape[0]):\n",
    "    ROW.append(countcall(sample.loc[ids[i]]))\n",
    "\n",
    "print(len(COUNT), len(SMPL), len(ROW))"
   ]
  },
  {
   "cell_type": "code",
   "execution_count": 28,
   "metadata": {
    "collapsed": false
   },
   "outputs": [
    {
     "name": "stdout",
     "output_type": "stream",
     "text": [
      "650 0\n"
     ]
    },
    {
     "data": {
      "image/png": "[encoded data removed]",
      "text/plain": [
       "<matplotlib.figure.Figure at 0x7f493e3acb38>"
      ]
     },
     "metadata": {},
     "output_type": "display_data"
    }
   ],
   "source": [
    "print(max(ROW), min(ROW))\n",
    "#histogram\n",
    "plt.hist(ROW, bins=30, color='b')\n",
    "plt.title('Calls per loci)\\n Number of samples called per loci')\n",
    "plt.ylabel('# Loci')\n",
    "plt.xlabel('# Samples bins per Loci')\n",
    "plt.show()\n"
   ]
  },
  {
   "cell_type": "code",
   "execution_count": null,
   "metadata": {
    "collapsed": true
   },
   "outputs": [],
   "source": [
    "# Histogram of the number of samples called per locus\n",
    "sample['calls']=sample.apply(lambda row: countcall(row), axis=1)\n",
    "sample\n"
   ]
  }
 ],
 "metadata": {
  "kernelspec": {
   "display_name": "Python 3",
   "language": "python",
   "name": "python3"
  },
  "language_info": {
   "codemirror_mode": {
    "name": "ipython",
    "version": 3
   },
   "file_extension": ".py",
   "mimetype": "text/x-python",
   "name": "python",
   "nbconvert_exporter": "python",
   "pygments_lexer": "ipython3",
   "version": "3.4.5"
  }
 },
 "nbformat": 4,
 "nbformat_minor": 2
}
