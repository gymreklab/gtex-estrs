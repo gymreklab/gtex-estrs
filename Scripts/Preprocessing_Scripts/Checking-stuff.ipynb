{
 "cells": [
  {
   "cell_type": "code",
   "execution_count": 1,
   "metadata": {
    "collapsed": false
   },
   "outputs": [],
   "source": [
    "\"\"\"\n",
    "-  AFF     - Call rate    - nearby indel   - depth / coverage   - seg. dupl\n",
    "\"\"\"\n",
    "import pandas as pd\n",
    "import scipy.stats\n",
    "import numpy as np\n",
    "import vcf\n",
    "import io\n",
    "import matplotlib.pyplot as plt\n",
    "\n",
    "def removeoverlap(X, Y ):\n",
    "    fragments=[]\n",
    "    X['start'] = X[\"start\"].astype(int)\n",
    "    for i in range(len(list(Y.index))):\n",
    "        start = list(Y['POS'])[i]\n",
    "        end = list(Y['END'])[i]\n",
    "        X2 = X.loc[(X[\"start\"]<=start) | (X[\"start\"]>=end)]\n",
    "        X = 0; X = X2\n",
    "    result = X\n",
    "    return(result)\n",
    "\n",
    "\n",
    "def removelowcallrate(Frame):\n",
    "    Frame['Count0'] = Frame.isnull().sum(axis=1)\n",
    "    Frame['Count1'] = Frame.isin({'./.:.'}).sum(1)\n",
    "    Frame['New'] = 650 - Frame['Count0']                     #650 samples\n",
    "    result = Frame.loc[Frame['Count1']<Frame['New']*0.2]     #Call rate 80%\n",
    "    del result['Count0']\n",
    "    del result['Count1']\n",
    "    del Table['New']\n",
    "    retun (result)\n",
    "    \n",
    "def countcall(X):\n",
    "    # GT:GB   ------   ./.:0|0\n",
    "    \n",
    "    S = X.dropna().astype(str).copy()\n",
    "    L = [x.split(':') for x in list(S) if x!='.']\n",
    "    count_gb = len([x[1] for x in L if x[1]not in ['.','./.']])\n",
    "    count_gn = len(L)\n",
    "    return(count_gb)\n",
    "\n",
    "SEGDUP=\"/storage/resources/dbase/human/hg19/hg19_segmentalduplications.bed\"\n",
    "HRUN = \"/storage/resources/dbase/human/hg19/hg19.hipstr_reference_hrun.bed\"\n",
    "HPOL = \"/storage/szfeupe/Runs/650GTEx_estr/temp_files/GTEX-111FC-0001\"\n",
    "SNP = \"/storage/szfeupe/Runs/650GTEx_estr/SNP_Analysis/chr\"\n",
    "column = open('/storage/szfeupe/Runs/650GTEx_estr/SNP_Analysis/tmp','r').readline().split('\\t')"
   ]
  },
  {
   "cell_type": "code",
   "execution_count": 2,
   "metadata": {
    "collapsed": true
   },
   "outputs": [
    {
     "name": "stderr",
     "output_type": "stream",
     "text": [
      "/usr/lib/python3.4/site-packages/ipykernel/__main__.py:4: SettingWithCopyWarning: \n",
      "A value is trying to be set on a copy of a slice from a DataFrame.\n",
      "Try using .loc[row_indexer,col_indexer] = value instead\n",
      "\n",
      "See the caveats in the documentation: http://pandas.pydata.org/pandas-docs/stable/indexing.html#indexing-view-versus-copy\n",
      "/usr/lib/python3.4/site-packages/ipykernel/__main__.py:5: SettingWithCopyWarning: \n",
      "A value is trying to be set on a copy of a slice from a DataFrame.\n",
      "Try using .loc[row_indexer,col_indexer] = value instead\n",
      "\n",
      "See the caveats in the documentation: http://pandas.pydata.org/pandas-docs/stable/indexing.html#indexing-view-versus-copy\n",
      "/usr/lib/python3.4/site-packages/ipykernel/__main__.py:6: SettingWithCopyWarning: \n",
      "A value is trying to be set on a copy of a slice from a DataFrame.\n",
      "Try using .loc[row_indexer,col_indexer] = value instead\n",
      "\n",
      "See the caveats in the documentation: http://pandas.pydata.org/pandas-docs/stable/indexing.html#indexing-view-versus-copy\n",
      "/usr/lib/python3.4/site-packages/ipykernel/__main__.py:7: SettingWithCopyWarning: \n",
      "A value is trying to be set on a copy of a slice from a DataFrame.\n",
      "Try using .loc[row_indexer,col_indexer] = value instead\n",
      "\n",
      "See the caveats in the documentation: http://pandas.pydata.org/pandas-docs/stable/indexing.html#indexing-view-versus-copy\n",
      "/usr/lib/python3.4/site-packages/ipykernel/__main__.py:8: SettingWithCopyWarning: \n",
      "A value is trying to be set on a copy of a slice from a DataFrame.\n",
      "Try using .loc[row_indexer,col_indexer] = value instead\n",
      "\n",
      "See the caveats in the documentation: http://pandas.pydata.org/pandas-docs/stable/indexing.html#indexing-view-versus-copy\n"
     ]
    }
   ],
   "source": [
    "sample1 = pd.read_csv('/storage/szfeupe/Runs/650GTEx_estr/Filter_Merged_STRs_All_Samples.vcf.gz', skiprows=132, sep='\\t', low_memory=False)\n",
    "COL = ['#CHROM','POS','ID','REF','ALT','QUAL','FILTER']\n",
    "data = sample1[COL]\n",
    "data['hom']=data['FILTER'].apply(lambda x: 1 if \"HOM_POLY\" in x else 0)\n",
    "data['dup']=data['FILTER'].apply(lambda x: 1 if \"SEGDUP\" in x else 0)\n",
    "data['hrn']=data['FILTER'].apply(lambda x: 1 if \"HRUN\" in x else 0)\n",
    "data['hwe']=data['FILTER'].apply(lambda x: 1 if \"HWE\" in x else 0)\n",
    "data['crt']=data['FILTER'].apply(lambda x: 1 if \"CALLRATE\" in x else 0)"
   ]
  },
  {
   "cell_type": "code",
   "execution_count": 3,
   "metadata": {
    "collapsed": false,
    "scrolled": false
   },
   "outputs": [
    {
     "name": "stdout",
     "output_type": "stream",
     "text": [
      "1586494  STRs were genotyped\n",
      "829370 Homopolymers total\n",
      "79353 overlaps with segmental duplication total\n",
      "38881  were filtered for homopolymer runs \n",
      "174278  were filtered for HWE score <0.05 total\n",
      "719899  were filtered for call rate <0.8 in total\n",
      "81860 passed all filters in total\n",
      "1012411  elliminated for hrun, seg dup overlaps, hwe or call rate\n"
     ]
    }
   ],
   "source": [
    "print(data.shape[0], ' STRs were genotyped')\n",
    "print(data.loc[data['hom']==1].shape[0], 'Homopolymers total')\n",
    "print(data.loc[data['dup']==1].shape[0], 'overlaps with segmental duplication total')\n",
    "print(data.loc[data['hrn']==1].shape[0], ' were filtered for homopolymer runs ')\n",
    "print(data.loc[data['hwe']==1].shape[0], ' were filtered for HWE score <0.05 total')\n",
    "print(data.loc[data['crt']==1].shape[0], ' were filtered for call rate <0.8 in total')\n",
    "print(data.loc[data['FILTER']=='PASS'].shape[0], 'passed all filters in total')\n",
    "\n",
    "#HET,Description=\"Heterozygosity less than 0.3\">\n",
    "##FILTER=<ID=HRUN,Description=\"Hrun greater than -1\">\n",
    "##FILTER=<ID=HWE,Description=\"HWE less than 0.05\">\n",
    "##FILTER=<ID=CALLRATE,Description=\"Callrate less than 0.8\">\n",
    "##FILTER=<ID=HOM_POLY,Description=\"Homopolymer locus\">\n",
    "##FILTER=<ID=SEGDUP\n",
    "print(data.loc[data['crt']==1].shape[0] +data.loc[data['hwe']==1].shape[0]+data.loc[data['hrn']==1].shape[0]+ \\\n",
    "      data.loc[data['dup']==1].shape[0] , ' elliminated for hrun, seg dup overlaps, hwe or call rate')"
   ]
  },
  {
   "cell_type": "code",
   "execution_count": 7,
   "metadata": {
    "collapsed": false
   },
   "outputs": [
    {
     "name": "stdout",
     "output_type": "stream",
     "text": [
      "done\n"
     ]
    },
    {
     "data": {
      "image/png": "[encoded data removed]",
      "text/plain": [
       "<matplotlib.figure.Figure at 0x7f47819feba8>"
      ]
     },
     "metadata": {},
     "output_type": "display_data"
    }
   ],
   "source": [
    "#Call counts\n",
    "sample1.index = list(sample1['ID'])\n",
    "sample = sample1[sample1.columns[9:]].copy()\n",
    "sample.loc['calls']=sample.apply(lambda col: countcall(col), axis=0)\n",
    "#histogram\n",
    "print('done')\n",
    "plt.hist(sample.loc['calls'])\n",
    "plt.title('Samples called per locus')\n",
    "plt.show()"
   ]
  },
  {
   "cell_type": "code",
   "execution_count": null,
   "metadata": {
    "collapsed": false
   },
   "outputs": [],
   "source": []
  },
  {
   "cell_type": "code",
   "execution_count": 9,
   "metadata": {
    "collapsed": false
   },
   "outputs": [
    {
     "data": {
      "text/plain": [
       "574083"
      ]
     },
     "execution_count": 9,
     "metadata": {},
     "output_type": "execute_result"
    }
   ],
   "source": [
    "1586494  STRs were genotyped\n",
    "******0 Homopolymers total\n",
    "79353 overlaps with segmental duplication total\n",
    "38881  were filtered for homopolymer runs \n",
    "174278  were filtered for HWE score <0.05 total\n",
    "719899  were filtered for call rate <0.8 in total\n",
    "********175226 passed all filters in total\n",
    "1012411  removed for hrun, seg dup overlaps, hwe or call rate.... there may be overlaps"
   ]
  }
 ],
 "metadata": {
  "kernelspec": {
   "display_name": "Python 3",
   "language": "python",
   "name": "python3"
  },
  "language_info": {
   "codemirror_mode": {
    "name": "ipython",
    "version": 3
   },
   "file_extension": ".py",
   "mimetype": "text/x-python",
   "name": "python",
   "nbconvert_exporter": "python",
   "pygments_lexer": "ipython3",
   "version": "3.4.5"
  }
 },
 "nbformat": 4,
 "nbformat_minor": 2
}
