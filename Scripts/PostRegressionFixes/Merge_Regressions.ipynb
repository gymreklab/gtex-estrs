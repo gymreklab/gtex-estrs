{
 "cells": [
  {
   "cell_type": "code",
   "execution_count": 1,
   "metadata": {
    "collapsed": true
   },
   "outputs": [],
   "source": [
    "#!/usr/bin/env python\n",
    "\n",
    "import pandas as pd\n",
    "import subprocess\n",
    "import sys\n",
    "import os\n",
    "\n",
    "def mergelinear(tissue, PATH, permuted=False):\n",
    "    perm=''\n",
    "    if permuted: perm='_perm'\n",
    "    print ('\\n',tissue , '... ',perm )\n",
    "    Frames=[pd.read_csv(PATH+ tissue+'/chr1/Lin_Reg_Out'+perm,sep='\\t')]\n",
    "    CHROM = [x for x in range(2,23)] +['X','Y']\n",
    "    for x in CHROM:\n",
    "        LN=PATH+ tissue +'/chr'+str(x)+'/Lin_Reg_Out'+perm\n",
    "        frame1=pd.read_csv(LN, sep='\\t')\n",
    "        Frames.append(frame1)\n",
    "    Results=pd.concat(Frames)\n",
    "    print ('All Chrms ','   ', Results.shape[0],'tests saved in ', PATH+ tissue )\n",
    "    Results.to_csv(PATH + tissue +'/Lin_Reg_Out'+perm, sep='\\t', header=True, index=False)\n",
    "    return(0)\n",
    "\n",
    "def mergequadratic(tissue, PATH, permuted=False):\n",
    "    perm=''\n",
    "    if permuted: perm='_perm'\n",
    "    print (tissue , '... START')\n",
    "    Frames=[pd.read_csv(PATH+ tissue+'/QuadraticReg/quad_regression'+perm+'_chr1.tab',sep='\\t')]\n",
    "    CHROM = [x for x in range(2,23)] +['X','Y']\n",
    "    for x in CHROM:\n",
    "        Reg = PATH+tissue+'/QuadraticReg/quad_regression'+perm+'_chr'+str(x)+'.tab'\n",
    "        frame1=pd.read_csv(Reg, sep='\\t')\n",
    "        Frames.append(frame1)\n",
    "    Results=pd.concat(Frames)\n",
    "    print ('\\n All Chrms ','   ', Results.shape)\n",
    "    Results.to_csv(PATH+ tissue +'/QuadraticReg/quadratic_reg_out'+perm+'.table', sep='\\t', header=True, index=False)\n",
    "    return(0)\n",
    "\n",
    "\"\"\"\n",
    "    Merge Reregression files into one single file \n",
    "    \n",
    "\"\"\"\n",
    "SHORTEN = {\n",
    "    \"Artery-Aorta\":\"Artery A.\"     ,\n",
    "    \"Artery-Tibial\": \"Artery T.\",\n",
    "    \"Adipose-Subcutaneous\": \"Adipose S.\",    \n",
    "    \"Adipose-Visceral\":\"Adipose V.\",\n",
    "    \"Brain-Caudate\":\"Caudate\"   , \n",
    "    \"Brain-Cerebellum\":\"Cerebellum\",\n",
    "    \"Cells-Transformedfibroblasts\": \"Fibroblast\",\n",
    "    \"Esophagus-Mucosa\": \"E. Mucosa\",\n",
    "    \"Esophagus-Muscularis\":\"E Muscularis\",\n",
    "    \"Heart-LeftVentricle\":\"Ventricule\",\n",
    "    \"Lung\": \"Lung\",\n",
    "    \"Muscle-Skeletal\": \"Muscle\",\n",
    "    \"Nerve-Tibial\":\"Nerve\",\n",
    "    \"Skin-NotSunExposed\": \"Skin Unexposed\",\n",
    "    \"Skin-SunExposed\":\"Skin Leg\",\n",
    "    \"Thyroid\":\"Thyroid\",\n",
    "    \"WholeBlood\": \"Blood\"\n",
    "}\n",
    "TISSUES = sorted(SHORTEN.keys())\n",
    "PATH = '/storage/szfeupe/Runs/650GTEx_estr/Analysis_by_Tissue/'\n"
   ]
  },
  {
   "cell_type": "code",
   "execution_count": 2,
   "metadata": {
    "collapsed": true
   },
   "outputs": [
    {
     "name": "stdout",
     "output_type": "stream",
     "text": [
      "\n",
      " Adipose-Subcutaneous ...  \n",
      "All Chrms      281318 tests saved in  /storage/szfeupe/Runs/650GTEx_estr/Analysis_by_Tissue/Adipose-Subcutaneous\n",
      "\n",
      " Adipose-Subcutaneous ...  _perm\n",
      "All Chrms      281318 tests saved in  /storage/szfeupe/Runs/650GTEx_estr/Analysis_by_Tissue/Adipose-Subcutaneous\n",
      "\n",
      " Adipose-Visceral ...  \n",
      "All Chrms      281223 tests saved in  /storage/szfeupe/Runs/650GTEx_estr/Analysis_by_Tissue/Adipose-Visceral\n",
      "\n",
      " Adipose-Visceral ...  _perm\n",
      "All Chrms      281223 tests saved in  /storage/szfeupe/Runs/650GTEx_estr/Analysis_by_Tissue/Adipose-Visceral\n",
      "\n",
      " Artery-Aorta ...  \n",
      "All Chrms      277044 tests saved in  /storage/szfeupe/Runs/650GTEx_estr/Analysis_by_Tissue/Artery-Aorta\n",
      "\n",
      " Artery-Aorta ...  _perm\n",
      "All Chrms      277044 tests saved in  /storage/szfeupe/Runs/650GTEx_estr/Analysis_by_Tissue/Artery-Aorta\n",
      "\n",
      " Artery-Tibial ...  \n",
      "All Chrms      275588 tests saved in  /storage/szfeupe/Runs/650GTEx_estr/Analysis_by_Tissue/Artery-Tibial\n",
      "\n",
      " Artery-Tibial ...  _perm\n",
      "All Chrms      275588 tests saved in  /storage/szfeupe/Runs/650GTEx_estr/Analysis_by_Tissue/Artery-Tibial\n",
      "\n",
      " Brain-Caudate ...  \n",
      "All Chrms      278997 tests saved in  /storage/szfeupe/Runs/650GTEx_estr/Analysis_by_Tissue/Brain-Caudate\n",
      "\n",
      " Brain-Caudate ...  _perm\n",
      "All Chrms      278997 tests saved in  /storage/szfeupe/Runs/650GTEx_estr/Analysis_by_Tissue/Brain-Caudate\n",
      "\n",
      " Brain-Cerebellum ...  \n",
      "All Chrms      277449 tests saved in  /storage/szfeupe/Runs/650GTEx_estr/Analysis_by_Tissue/Brain-Cerebellum\n",
      "\n",
      " Brain-Cerebellum ...  _perm\n",
      "All Chrms      277449 tests saved in  /storage/szfeupe/Runs/650GTEx_estr/Analysis_by_Tissue/Brain-Cerebellum\n",
      "\n",
      " Cells-Transformedfibroblasts ...  \n",
      "All Chrms      267909 tests saved in  /storage/szfeupe/Runs/650GTEx_estr/Analysis_by_Tissue/Cells-Transformedfibroblasts\n",
      "\n",
      " Cells-Transformedfibroblasts ...  _perm\n",
      "All Chrms      267909 tests saved in  /storage/szfeupe/Runs/650GTEx_estr/Analysis_by_Tissue/Cells-Transformedfibroblasts\n",
      "\n",
      " Esophagus-Mucosa ...  \n",
      "All Chrms      281861 tests saved in  /storage/szfeupe/Runs/650GTEx_estr/Analysis_by_Tissue/Esophagus-Mucosa\n",
      "\n",
      " Esophagus-Mucosa ...  _perm\n",
      "All Chrms      281861 tests saved in  /storage/szfeupe/Runs/650GTEx_estr/Analysis_by_Tissue/Esophagus-Mucosa\n",
      "\n",
      " Esophagus-Muscularis ...  \n",
      "All Chrms      280638 tests saved in  /storage/szfeupe/Runs/650GTEx_estr/Analysis_by_Tissue/Esophagus-Muscularis\n",
      "\n",
      " Esophagus-Muscularis ...  _perm\n",
      "All Chrms      280638 tests saved in  /storage/szfeupe/Runs/650GTEx_estr/Analysis_by_Tissue/Esophagus-Muscularis\n",
      "\n",
      " Heart-LeftVentricle ...  \n",
      "All Chrms      271269 tests saved in  /storage/szfeupe/Runs/650GTEx_estr/Analysis_by_Tissue/Heart-LeftVentricle\n",
      "\n",
      " Heart-LeftVentricle ...  _perm\n",
      "All Chrms      271269 tests saved in  /storage/szfeupe/Runs/650GTEx_estr/Analysis_by_Tissue/Heart-LeftVentricle\n",
      "\n",
      " Lung ...  \n",
      "All Chrms      286473 tests saved in  /storage/szfeupe/Runs/650GTEx_estr/Analysis_by_Tissue/Lung\n",
      "\n",
      " Lung ...  _perm\n",
      "All Chrms      286473 tests saved in  /storage/szfeupe/Runs/650GTEx_estr/Analysis_by_Tissue/Lung\n",
      "\n",
      " Muscle-Skeletal ...  \n",
      "All Chrms      271694 tests saved in  /storage/szfeupe/Runs/650GTEx_estr/Analysis_by_Tissue/Muscle-Skeletal\n",
      "\n",
      " Muscle-Skeletal ...  _perm\n",
      "All Chrms      258399 tests saved in  /storage/szfeupe/Runs/650GTEx_estr/Analysis_by_Tissue/Muscle-Skeletal\n",
      "\n",
      " Nerve-Tibial ...  \n",
      "All Chrms      284926 tests saved in  /storage/szfeupe/Runs/650GTEx_estr/Analysis_by_Tissue/Nerve-Tibial\n",
      "\n",
      " Nerve-Tibial ...  _perm\n",
      "All Chrms      284926 tests saved in  /storage/szfeupe/Runs/650GTEx_estr/Analysis_by_Tissue/Nerve-Tibial\n",
      "\n",
      " Skin-NotSunExposed ...  \n",
      "All Chrms      285850 tests saved in  /storage/szfeupe/Runs/650GTEx_estr/Analysis_by_Tissue/Skin-NotSunExposed\n",
      "\n",
      " Skin-NotSunExposed ...  _perm\n",
      "All Chrms      285850 tests saved in  /storage/szfeupe/Runs/650GTEx_estr/Analysis_by_Tissue/Skin-NotSunExposed\n",
      "\n",
      " Skin-SunExposed ...  \n",
      "All Chrms      285435 tests saved in  /storage/szfeupe/Runs/650GTEx_estr/Analysis_by_Tissue/Skin-SunExposed\n",
      "\n",
      " Skin-SunExposed ...  _perm\n",
      "All Chrms      285435 tests saved in  /storage/szfeupe/Runs/650GTEx_estr/Analysis_by_Tissue/Skin-SunExposed\n",
      "\n",
      " Thyroid ...  \n",
      "All Chrms      285470 tests saved in  /storage/szfeupe/Runs/650GTEx_estr/Analysis_by_Tissue/Thyroid\n",
      "\n",
      " Thyroid ...  _perm\n",
      "All Chrms      285470 tests saved in  /storage/szfeupe/Runs/650GTEx_estr/Analysis_by_Tissue/Thyroid\n",
      "\n",
      " WholeBlood ...  \n",
      "All Chrms      261714 tests saved in  /storage/szfeupe/Runs/650GTEx_estr/Analysis_by_Tissue/WholeBlood\n",
      "\n",
      " WholeBlood ...  _perm\n",
      "All Chrms      261714 tests saved in  /storage/szfeupe/Runs/650GTEx_estr/Analysis_by_Tissue/WholeBlood\n"
     ]
    }
   ],
   "source": [
    "#Merge regression\n",
    "for tissue in TISSUES:\n",
    "    mergelinear(tissue, PATH, permuted=False)\n",
    "    mergelinear(tissue, PATH, permuted=True)\n",
    "       "
   ]
  },
  {
   "cell_type": "code",
   "execution_count": 18,
   "metadata": {
    "collapsed": false
   },
   "outputs": [
    {
     "name": "stdout",
     "output_type": "stream",
     "text": [
      "1751 anova (1842, 11) Adipose-Visceral\n"
     ]
    }
   ],
   "source": [
    "#Merge ANOVA results\n",
    "head='echo \"chrom,gene,str.start,numsnps,numsamples,r2_str,r2_snp,r2_snpstr,anova_pval,estr_fdr,esnp_fdr,delta_bic,delta_aic\" >'+PATH\n",
    "ch = [str(x) for x in range(1,23,1)]+['X']\n",
    "\n",
    "for T in TISSUES[1:]:\n",
    "    \n",
    "    frames=[]\n",
    "    \n",
    "    #print(T, ' ',PATH+T+\"/HH/anova_ch\"+x )\n",
    "    \n",
    "    for x in ch:\n",
    "        command='grep \"^chr\" '+PATH+T+\"/HH/anova_ch\"+x+\" > tmp\"\n",
    "        #print(command)\n",
    "        cmd = os.system(command)\n",
    "        C = pd.read_csv('tmp')\n",
    "        \n",
    "        if 'number_top_snp' in C.columns:\n",
    "            del C['number_top_snp']\n",
    "        frames.append(C)\n",
    "        #print(command)\n",
    "        cmd=os.system(command)\n",
    "        \n",
    "    pd.concat(frames).to_csv(PATH+T+\"/HH/anova_wg.csv\", sep='\\t', index=None)\n",
    "    ANO = pd.read_csv(PATH+T+\"/HH/anova_wg.csv\",sep='\\t')\n",
    "    QVL = pd.read_csv(PATH+T+\"/PQValues\", sep='\\t')\n",
    "    print (ANO.shape[0] ,'anova', QVL.loc[QVL['qvalue']<0.1].shape, T)\n",
    "    break"
   ]
  },
  {
   "cell_type": "code",
   "execution_count": 19,
   "metadata": {
    "collapsed": false
   },
   "outputs": [
    {
     "name": "stdout",
     "output_type": "stream",
     "text": [
      "['ENSG00000239713.3', 'ENSG00000137411.12', 'ENSG00000183888.4', 'ENSG00000157326.14', 'ENSG00000102753.5', 'ENSG00000124486.8', 'ENSG00000164366.3', 'ENSG00000109466.9', 'ENSG00000105136.15', 'ENSG00000229676.2', 'ENSG00000223496.1', 'ENSG00000197465.9', 'ENSG00000166321.9', 'ENSG00000108578.10', 'ENSG00000146707.10', 'ENSG00000198231.8', 'ENSG00000075407.13', 'ENSG00000225190.4', 'ENSG00000150316.7', 'ENSG00000221829.5', 'ENSG00000128487.12', 'ENSG00000205420.6', 'ENSG00000196199.9', 'ENSG00000168961.12', 'ENSG00000184227.3', 'ENSG00000178980.10', 'ENSG00000204516.5', 'ENSG00000196268.7', 'ENSG00000120328.4', 'ENSG00000087191.8', 'ENSG00000138735.11', 'ENSG00000156968.8', 'ENSG00000204520.8', 'ENSG00000152439.8', 'ENSG00000254999.2', 'ENSG00000087842.6', 'ENSG00000204577.7', 'ENSG00000188659.5', 'ENSG00000100197.16', 'ENSG00000184083.7', 'ENSG00000142794.14', 'ENSG00000140876.7', 'ENSG00000095917.9', 'ENSG00000121716.14', 'ENSG00000122223.8', 'ENSG00000197915.5', 'ENSG00000183628.8', 'ENSG00000183066.10', 'ENSG00000160321.10', 'ENSG00000187630.10', 'ENSG00000187010.14', 'ENSG00000111886.9', 'ENSG00000166847.5', 'ENSG00000184983.5', 'ENSG00000215114.3', 'ENSG00000108592.12', 'ENSG00000099984.6', 'ENSG00000083544.9', 'ENSG00000197165.6', 'ENSG00000148344.10', 'ENSG00000126231.9', 'ENSG00000141127.10', 'ENSG00000173262.7', 'ENSG00000186281.8', 'ENSG00000169180.7', 'ENSG00000113303.7', 'ENSG00000189129.9', 'ENSG00000073614.7', 'ENSG00000134201.6', 'ENSG00000170540.10', 'ENSG00000130511.11', 'ENSG00000185432.10', 'ENSG00000213676.6', 'ENSG00000198502.5', 'ENSG00000100023.13', 'ENSG00000168038.6', 'ENSG00000112339.10', 'ENSG00000255374.1', 'ENSG00000205609.8', 'ENSG00000130856.11', 'ENSG00000116785.9', 'ENSG00000121350.11', 'ENSG00000122642.6', 'ENSG00000127580.11', 'ENSG00000185201.12', 'ENSG00000196381.6', 'ENSG00000124562.5', 'ENSG00000106526.6', 'ENSG00000014164.6', 'ENSG00000162714.8', 'ENSG00000176681.10', 'ENSG00000126251.5', 'ENSG00000157335.15', 'ENSG00000196126.6']\n"
     ]
    },
    {
     "data": {
      "text/plain": [
       "94"
      ]
     },
     "execution_count": 19,
     "metadata": {},
     "output_type": "execute_result"
    }
   ],
   "source": [
    "#ANO = pd.read_csv(PATH+T+\"/HH/anova_wg.csv\",sep='\\t')\n",
    "Y =[x for x in set(list(QVL.loc[QVL['qvalue']<0.1]['gene'])) if x not in set(list(ANO['gene']))]\n",
    "print(Y)\n",
    "len(Y)\n",
    "\n",
    "PROGRESS(\"ANOVA was restricted to %s genes.... %s genes were not filtered out (may be eSTRs) and will be analyzed.\"%(str(len(exclusive_genes_list)), str(len(allgenes))) )     "
   ]
  },
  {
   "cell_type": "raw",
   "metadata": {
    "collapsed": false
   },
   "source": [
    "        # Cell type or Tissues\n",
    "CELL='Lung'\n",
    "        # TFBSs directory\n",
    "TFDIR=/storage/szfeupe/Runs/650GTEx_estr/tfbs\n",
    "        # Sorted bed files\n",
    "TFDIRSORT=/storage/szfeupe/Runs/650GTEx_estr/tfbs/Lungs\n",
    "        # TFBSs giggle\n",
    "TFINDEX=/storage/mgymrek/gtex/tfbs/giggle\n",
    "        # Temporary files\n",
    "TMPDIR=/storage/szfeupe/Runs/650GTEx_estr/tmp\n",
    "        # Output directory\n",
    "OUTDIR=/storage/szfeupe/Runs/650GTEx_estr/Analysis_by_Tissue/enrichment/$CELL\n",
    "        # All tissues\n",
    "TISSUES=\"o_IRQ: 3.229 No irq handler for vector (irq -1)y-Tibial Muscle-Skeletal Nerve-Tibial Lung Brain-Cerebellum Skin-SunExposed Thyroid Heart-LeftVentricle WholeBlood Adipose-Visceral Esophagus-Mucosa Brain-Caudate Skin-NotSunExposed Esophagus-Muscularis Adipose-Subcutaneous\"\n",
    "\n",
    "\n",
    "\n",
    "\n",
    "\n",
    "\n",
    "87892 Adipose-Subcutaneous\n",
    "87912 Adipose-Visceral\n",
    "86354 Artery-Aorta\n",
    "85367 Artery-Tibial\n",
    "87076 Brain-Caudate\n",
    "91146 Brain-Cerebellum\n",
    "83075 Cells-Transformedfibroblasts\n",
    "\n",
    "# After this, we can create the qqplot figure with Figure1 script in the \"Figures\" DIR\n",
    "# Then Run miltiple test correction with the script FDR_Correction_Gene_Locus_level.ipynb \n",
    "# All other elements in Figure1 script in the \"Figures\" DIR will be possible after that step^^"
   ]
  }
 ],
 "metadata": {
  "kernelspec": {
   "display_name": "Python 3",
   "language": "python",
   "name": "python3"
  },
  "language_info": {
   "codemirror_mode": {
    "name": "ipython",
    "version": 3
   },
   "file_extension": ".py",
   "mimetype": "text/x-python",
   "name": "python",
   "nbconvert_exporter": "python",
   "pygments_lexer": "ipython3",
   "version": "3.4.5"
  }
 },
 "nbformat": 4,
 "nbformat_minor": 2
}
