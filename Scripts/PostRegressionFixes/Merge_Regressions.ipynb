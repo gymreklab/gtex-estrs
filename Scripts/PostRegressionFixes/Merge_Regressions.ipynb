{
 "cells": [
  {
   "cell_type": "code",
   "execution_count": 1,
   "metadata": {
    "collapsed": true
   },
   "outputs": [],
   "source": [
    "#!/usr/bin/env python\n",
    "\n",
    "import pandas as pd\n",
    "import subprocess\n",
    "import sys\n",
    "import os\n",
    "\n",
    "def mergelinear(tissue, PATH, permuted=False):\n",
    "    perm=''\n",
    "    if permuted: perm='_perm'\n",
    "    print (tissue , '... START')\n",
    "    Frames=[pd.read_csv(PATH+ tissue+'/chr1/Lin_Reg_Out'+perm,sep='\\t')]\n",
    "    CHROM = [x for x in range(2,23)] +['X','Y']\n",
    "    for x in CHROM:\n",
    "        LN=PATH+ tissue +'/chr'+str(x)+'/Lin_Reg_Out'+perm\n",
    "        frame1=pd.read_csv(LN, sep='\\t')\n",
    "        Frames.append(frame1)\n",
    "    Results=pd.concat(Frames)\n",
    "    print ('\\n All Chrms ','   ', Results.shape, PATH+ tissue )\n",
    "    Results.to_csv(PATH + tissue +'/Lin_Reg_Out'+perm, sep='\\t', header=True, index=False)\n",
    "    return(0)\n",
    "\n",
    "def mergequadratic(tissue, PATH, permuted=False):\n",
    "    perm=''\n",
    "    if permuted: perm='_perm'\n",
    "    print (tissue , '... START')\n",
    "    Frames=[pd.read_csv(PATH+ tissue+'/QuadraticReg/quad_regression'+perm+'_chr1.tab',sep='\\t')]\n",
    "    CHROM = [x for x in range(2,23)] +['X','Y']\n",
    "    for x in CHROM:\n",
    "        Reg = PATH+tissue+'/QuadraticReg/quad_regression'+perm+'_chr'+str(x)+'.tab'\n",
    "        frame1=pd.read_csv(Reg, sep='\\t')\n",
    "        Frames.append(frame1)\n",
    "    Results=pd.concat(Frames)\n",
    "    print ('\\n All Chrms ','   ', Results.shape)\n",
    "    Results.to_csv(PATH+ tissue +'/QuadraticReg/quadratic_reg_out'+perm+'.table', sep='\\t', header=True, index=False)\n",
    "    return(0)\n",
    "\n",
    "\"\"\"\n",
    "    Merge Reregression files into one single file \n",
    "    \n",
    "\"\"\"\n",
    "SHORTEN = {\n",
    "    \"Artery-Aorta\":\"Artery A.\"     ,\n",
    "    \"Artery-Tibial\": \"Artery T.\",\n",
    "    \"Adipose-Subcutaneous\": \"Adipose S.\",    \n",
    "    \"Adipose-Visceral\":\"Adipose V.\",\n",
    "    \"Brain-Caudate\":\"Caudate\"   , \n",
    "    \"Brain-Cerebellum\":\"Cerebellum\",\n",
    "    \"Cells-Transformedfibroblasts\": \"Fibroblast\",\n",
    "    \"Esophagus-Mucosa\": \"E. Mucosa\",\n",
    "    \"Esophagus-Muscularis\":\"E Muscularis\",\n",
    "    \"Heart-LeftVentricle\":\"Ventricule\",\n",
    "    \"Lung\": \"Lung\",\n",
    "    \"Muscle-Skeletal\": \"Muscle\",\n",
    "    \"Nerve-Tibial\":\"Nerve\",\n",
    "    \"Skin-NotSunExposed\": \"Skin Unexposed\",\n",
    "    \"Skin-SunExposed\":\"Skin Leg\",\n",
    "    \"Thyroid\":\"Thyroid\",\n",
    "    \"WholeBlood\": \"Blood\"\n",
    "}\n",
    "TISSUES = sorted(SHORTEN.keys())\n",
    "PATH = '/storage/szfeupe/Runs/650GTEx_estr/Analysis_by_Tissue/'\n"
   ]
  },
  {
   "cell_type": "code",
   "execution_count": 2,
   "metadata": {
    "collapsed": false
   },
   "outputs": [
    {
     "name": "stdout",
     "output_type": "stream",
     "text": [
      "Lung ... START\n",
      "\n",
      " All Chrms      (94386, 18)\n",
      "Lung ... START\n",
      "\n",
      " All Chrms      (94386, 18)\n"
     ]
    },
    {
     "data": {
      "text/plain": [
       "0"
      ]
     },
     "execution_count": 2,
     "metadata": {},
     "output_type": "execute_result"
    }
   ],
   "source": [
    "Tissue='Lung'\n",
    "mergequadratic(Tissue,PATH, False) #regression\n",
    "mergequadratic(Tissue,PATH,True) #permuted regression"
   ]
  },
  {
   "cell_type": "code",
   "execution_count": 4,
   "metadata": {
    "collapsed": false
   },
   "outputs": [
    {
     "name": "stdout",
     "output_type": "stream",
     "text": [
      "E. Mucosa (97676, 13)\n",
      "E. Mucosa (97676, 12)\n",
      "0\n"
     ]
    }
   ],
   "source": [
    "Original = '/Lin_Reg_Out_Het03_noHom'\n",
    "Homopoly = '/Lin_Reg_Out_Add_Hom'\n",
    "AddHET01 = '/Lin_Reg_Out_Add_01het'\n",
    "\n",
    "for T in [\"Esophagus-Mucosa\"] :        #TISSUES:\n",
    "    S1 = pd.read_csv(PATH + T + Original, sep='\\t')  #Original had HET(0.3) without homopolymers\n",
    "    S2 = pd.read_csv(PATH + T + Homopoly, sep='\\t')  #We did Homopolymers only to add to the set\n",
    "    S3 = pd.read_csv(PATH + T + AddHET01, sep='\\t')  #We moved HET threshold to 0.1 (This set only has 0.1<=HET<0.3)\n",
    "\n",
    "    AllREG = pd.concat([S1,S2,S3])\n",
    "    AllREG = AllREG.sort_values(['chrom','gene','str.start'])\n",
    "    print(SHORTEN[T], AllREG.shape)\n",
    "    del AllREG['Unnamed: 0']\n",
    "    print(SHORTEN[T], AllREG.shape)\n",
    "    AllREG.to_csv(PATH + T + '/Lin_Reg_Out',sep='\\t', index=False)\n",
    "\n",
    "print(0)\n",
    "\n"
   ]
  },
  {
   "cell_type": "code",
   "execution_count": null,
   "metadata": {
    "collapsed": true
   },
   "outputs": [],
   "source": []
  }
 ],
 "metadata": {
  "kernelspec": {
   "display_name": "Python 3",
   "language": "python",
   "name": "python3"
  },
  "language_info": {
   "codemirror_mode": {
    "name": "ipython",
    "version": 3
   },
   "file_extension": ".py",
   "mimetype": "text/x-python",
   "name": "python",
   "nbconvert_exporter": "python",
   "pygments_lexer": "ipython3",
   "version": "3.4.5"
  }
 },
 "nbformat": 4,
 "nbformat_minor": 2
}
