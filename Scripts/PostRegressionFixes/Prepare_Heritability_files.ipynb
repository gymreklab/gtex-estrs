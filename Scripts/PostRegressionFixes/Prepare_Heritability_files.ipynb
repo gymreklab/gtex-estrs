{
 "cells": [
  {
   "cell_type": "code",
   "execution_count": 2,
   "metadata": {
    "collapsed": false
   },
   "outputs": [
    {
     "name": "stdout",
     "output_type": "stream",
     "text": [
      "Adipose-Subcutaneous\n",
      "(3596, 9) 3596.0\n",
      "Adipose-Visceral\n",
      "(1842, 9) 1842.0\n",
      "Artery-Aorta\n",
      "(2401, 9) 2401.0\n",
      "Artery-Tibial\n",
      "(3462, 9) 3462.0\n",
      "Brain-Caudate\n",
      "(682, 9) 682.0\n",
      "Brain-Cerebellum\n",
      "(1555, 9) 1555.0\n",
      "Cells-Transformedfibroblasts\n",
      "(3096, 9) 3096.0\n"
     ]
    }
   ],
   "source": [
    "import pandas as pd\n",
    "import numpy as np\n",
    "\n",
    "SHORTEN = {\n",
    "    \"Artery-Aorta\":\"Artery A.\"     ,\n",
    "    \"Artery-Tibial\": \"Artery T.\",\n",
    "    \"Adipose-Subcutaneous\": \"Adipose S.\",    \n",
    "    \"Adipose-Visceral\":\"Adipose V.\",\n",
    "    \"Brain-Caudate\":\"Caudate\"   , \n",
    "    \"Brain-Cerebellum\":\"Cerebellum\",\n",
    "    \"Cells-Transformedfibroblasts\": \"Fibroblast\",\n",
    "    \"Esophagus-Mucosa\": \"E. Mucosa\",\n",
    "    \"Esophagus-Muscularis\":\"E Muscularis\",\n",
    "    \"Heart-LeftVentricle\":\"Ventricule\",\n",
    "    \"Lung\": \"Lung\",\n",
    "    \"Muscle-Skeletal\": \"Muscle\",\n",
    "    \"Nerve-Tibial\":\"Nerve\",\n",
    "    \"Skin-NotSunExposed\": \"Skin Unexposed\",\n",
    "    \"Skin-SunExposed\":\"Skin Leg\",\n",
    "    \"Thyroid\":\"Thyroid\",\n",
    "    \"WholeBlood\": \"Blood\"\n",
    "}\n",
    "tissu = sorted(SHORTEN.keys())\n",
    "PATH='/storage/szfeupe/Runs/650GTEx_estr/Analysis_by_Tissue/'\n",
    "###This code prepares inputs for heritability test\n",
    "\n",
    "def PrepareHeritFile(Tissu):\n",
    "    In = PATH+Tissu\n",
    "    #estrs\n",
    "    estr = pd.read_csv(In+'/PQValues', sep=\"\\t\")\n",
    "    #         esnps\n",
    "    #esnp = pd.read_csv(In+'/SNP_Analysis/PQValues', sep='\\t')\n",
    "    #        renaming columns\n",
    "    estr['qval.gene']=estr['qvalue']\n",
    "    #esnp['qval.gene']=esnp['qvalue']\n",
    "    estr['pvalue']=estr['p.wald']\n",
    "    #esnp['pvalue']=esnp['p.wald']\n",
    "    estr['best_str'] = np.where(estr['qval.gene']<=0.1, 1, 0)\n",
    "    #        be=[1]*len(esnp); print('Best variant ',len(be), sum(be))\n",
    "    #esnp = esnp.sort_values(\"llqvalue\", ascending=True).groupby(\"gene\", as_index=False).first()\n",
    "    #esnp['best_str'] = [1]*len(esnp)\n",
    "    estr = estr.loc[estr['best_str']==1]\n",
    "    Head=['gene', 'chrom', 'str.id', 'str.start', 'beta', 'best_str', 'qval.gene','significant','pvalue']\n",
    "    #wbsnp=esnp.loc[:,Head]\n",
    "    wbstr=estr.loc[:,Head]    \n",
    "    wbstr.to_csv(In+'/HH/estr_result', sep='\\t', index=None)\n",
    "    #wbsnp.to_csv(In+'/HH/esnp_result', sep='\\t', index=None)\n",
    "    print(wbstr.shape,  sum(wbstr['significant']))\n",
    "        \n",
    "for T in tissu[:7] : \n",
    "    print(T)\n",
    "    PrepareHeritFile(T)\n",
    "    \n",
    "############################After this run Anova test on the data in HH DIR (details in eSTR_analysis.sh)..."
   ]
  },
  {
   "cell_type": "markdown",
   "metadata": {
    "collapsed": false,
    "scrolled": true
   },
   "source": []
  }
 ],
 "metadata": {
  "kernelspec": {
   "display_name": "Python 3",
   "language": "python",
   "name": "python3"
  },
  "language_info": {
   "codemirror_mode": {
    "name": "ipython",
    "version": 3
   },
   "file_extension": ".py",
   "mimetype": "text/x-python",
   "name": "python",
   "nbconvert_exporter": "python",
   "pygments_lexer": "ipython3",
   "version": "3.4.5"
  }
 },
 "nbformat": 4,
 "nbformat_minor": 2
}
