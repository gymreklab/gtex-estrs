{
 "cells": [
  {
   "cell_type": "code",
   "execution_count": 5,
   "metadata": {
    "collapsed": false,
    "scrolled": false
   },
   "outputs": [
    {
     "name": "stdout",
     "output_type": "stream",
     "text": [
      "Thyroid  variants ...\n",
      "(285470, 14)   to   (16388, 14)\n"
     ]
    },
    {
     "name": "stderr",
     "output_type": "stream",
     "text": [
      "/usr/lib/python3.4/site-packages/ipykernel/__main__.py:60: SettingWithCopyWarning: \n",
      "A value is trying to be set on a copy of a slice from a DataFrame\n",
      "\n",
      "See the caveats in the documentation: http://pandas.pydata.org/pandas-docs/stable/indexing.html#indexing-view-versus-copy\n"
     ]
    },
    {
     "name": "stdout",
     "output_type": "stream",
     "text": [
      "16388  total tests...  3967  pvalues were reduced to 1\n",
      "4113 \t gene level 10% FDR**\n",
      "20800 \t locus level qval<=0.1 (10%)\n",
      "3433 \t gene level 5% FDR***\n",
      "5808 \t eSTRs at 0.1% locus level FDR \n",
      "\n",
      "Thyroid\n",
      "WholeBlood  variants ...\n",
      "(261714, 14)   to   (15046, 14)\n",
      "15046  total tests...  4271  pvalues were reduced to 1\n",
      "2587 \t gene level 10% FDR**\n",
      "11729 \t locus level qval<=0.1 (10%)\n",
      "2065 \t gene level 5% FDR***\n",
      "3196 \t eSTRs at 0.1% locus level FDR \n",
      "\n",
      "WholeBlood\n"
     ]
    }
   ],
   "source": [
    "import pandas as pd\n",
    "import numpy as np\n",
    "import subprocess\n",
    "import collections\n",
    "import os\n",
    "\n",
    "## FDR correction After gene level adjustment\n",
    "SHORTEN = {\n",
    "    \"Artery-Aorta\":\"Artery A.\"     ,\n",
    "    \"Artery-Tibial\": \"Artery T.\",\n",
    "    \"Adipose-Subcutaneous\": \"Adipose S.\",    \n",
    "    \"Adipose-Visceral\":\"Adipose V.\",\n",
    "    \"Brain-Caudate\":\"Caudate\"   , \n",
    "    \"Brain-Cerebellum\":\"Cerebellum\",\n",
    "    \"Cells-Transformedfibroblasts\": \"Fibroblast\",\n",
    "    \"Esophagus-Mucosa\": \"E. Mucosa\",\n",
    "    \"Esophagus-Muscularis\":\"E Muscularis\",\n",
    "    \"Heart-LeftVentricle\":\"Ventricule\",\n",
    "    \"Lung\": \"Lung\",\n",
    "    \"Muscle-Skeletal\": \"Muscle\",\n",
    "    \"Nerve-Tibial\":\"Nerve\",\n",
    "    \"Skin-NotSunExposed\": \"Skin Unexposed\",\n",
    "    \"Skin-SunExposed\":\"Skin Leg\",\n",
    "    \"Thyroid\":\"Thyroid\",\n",
    "    \"WholeBlood\": \"Blood\"\n",
    "}\n",
    "\n",
    "tissu = sorted(SHORTEN.keys())\n",
    "#path = \"/storage/szfeupe/Runs/GTEx_estr/Analysis_by_Tissue/\"\n",
    "path = \"/storage/szfeupe/Runs/650GTEx_estr/Analysis_by_Tissue/\"\n",
    "\n",
    "def fdrcorrection(tissue):\n",
    "    print(tissue, ' variants ...')\n",
    "#Get most signif. variant by gene from linear reg STRs\n",
    "    LR1=pd.read_csv(path+ tissue+\"/Lin_Reg_Out\" , '\\t')\n",
    "#Cleanup (Optional)\n",
    "    #command='rm '+path+ tissue+\"/*PQValu*\"\n",
    "    #out = os.command(command)\n",
    "#Locus level\n",
    "    LR1['p.wald'].to_csv('pvalues.txt', sep='\\n', index=False)\n",
    "    Tell = subprocess.call(\"/home/szfeupe/projects/GTEX_eSTRs/gtex-estrs/Scripts/PostRegressionFixes/fdr-correct.r\")\n",
    "    Qval=pd.read_csv('/home/szfeupe/projects/GTEX_eSTRs/gtex-estrs/Scripts/PostRegressionFixes/qvalues.txt', sep=' ')\n",
    "    \n",
    "    LR1['llqvalue']=list(Qval['qvalue'])\n",
    "    LR1['llsignif']=list(Qval['significant'])\n",
    "\n",
    "#Gene level\n",
    "    LR0 = LR1.sort_values(\"p.wald\").groupby(\"gene\", as_index=False).first()     \n",
    "    print(LR1.shape, '  to  ', LR0.shape)\n",
    "\n",
    "    #Add counts tests by gene\n",
    "    counts=pd.DataFrame({'cts' : LR1.groupby([\"gene\"]).size()})    ## This is the count by genes\n",
    "    genes = list(LR0['gene'])\n",
    "    LR0['NTEST']= list(counts.loc[genes]['cts'])\n",
    "    \n",
    "    #Gene level adjustment\n",
    "    #(1) min_pval* #test\n",
    "    LR0['AD.pval']=LR0['p.wald']*LR0['NTEST']\n",
    "    #(2) if AD_pval>1 => AD_pval=1\n",
    "    LR0['AD.pval'][LR0['AD.pval']>1] = 1\n",
    "    \n",
    "    #Save pval in file and FDR correct\n",
    "    LR0['AD.pval'].to_csv('pvalues.txt', sep='\\n', index=False)\n",
    "    Tell = subprocess.call(\"/home/szfeupe/projects/GTEX_eSTRs/gtex-estrs/Scripts/PostRegressionFixes/fdr-correct.r\")\n",
    "        \n",
    "    #FDR corrected... add to dataframe\n",
    "    Qval=pd.read_csv('/home/szfeupe/projects/GTEX_eSTRs/gtex-estrs/Scripts/PostRegressionFixes/qvalues.txt', sep=' ')\n",
    "    LR0['qvalue']=list(Qval['qvalue'])\n",
    "    LR0['significant']=list(Qval['significant'])\n",
    "\n",
    "#Merging\n",
    "    merging=['gene','chrom','str.id','str.start','beta','beta.se','p.wald','llqvalue','llsignif']\n",
    "    LRP = pd.merge(LR1,LR0, on=merging, how='left')\n",
    "    \n",
    "#Header arrangement\n",
    "    Head=['gene','chrom','str.id','str.start','NTEST','qvalue','significant','p.wald','llqvalue','beta','beta.se']\n",
    "    Out=LRP[Head]\n",
    "    Out.to_csv(path+tissue+'/PQValues', sep='\\t', index=False)\n",
    "\n",
    "    S=LR0['AD.pval']\n",
    "    print(len(S),' total tests... ', len(S[S>=1]) , ' pvalues were reduced to 1')\n",
    "    print(len(LRP[LRP['qvalue'] <=0.1]),'\\t gene level 10% FDR**')\n",
    "    print(len(LRP[LRP['llqvalue'] <=0.1]),'\\t locus level qval<=0.1 (10%)')\n",
    "    print(len(LRP[LRP['qvalue'] <=0.05]),'\\t gene level 5% FDR***')\n",
    "    print(len(LRP[LRP['llqvalue'] <=0.001]),'\\t eSTRs at 0.1% locus level FDR \\n')\n",
    "    return()\n",
    "#\n",
    "#\n",
    "for T in tissu[15:]:                     \n",
    "    #fdrcorrection(T+'/SNP_Analysis')\n",
    "    fdrcorrection(T)\n",
    "    print(T)\n",
    "    \n",
    "####   After this Script, we run the code to prepare for heritability analysis (STR+SNP) \n",
    "####   Use Prepare_Heritability_files.ipynb   notebook"
   ]
  },
  {
   "cell_type": "markdown",
   "metadata": {
    "collapsed": true
   },
   "source": []
  }
 ],
 "metadata": {
  "kernelspec": {
   "display_name": "Python 3",
   "language": "python",
   "name": "python3"
  },
  "language_info": {
   "codemirror_mode": {
    "name": "ipython",
    "version": 3
   },
   "file_extension": ".py",
   "mimetype": "text/x-python",
   "name": "python",
   "nbconvert_exporter": "python",
   "pygments_lexer": "ipython3",
   "version": "3.4.5"
  }
 },
 "nbformat": 4,
 "nbformat_minor": 2
}
