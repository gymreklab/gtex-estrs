{
 "cells": [
  {
   "cell_type": "code",
   "execution_count": 31,
   "metadata": {
    "collapsed": false,
    "scrolled": false
   },
   "outputs": [],
   "source": [
    "import math\n",
    "import numpy as np\n",
    "import pandas as pd\n",
    "import os\n",
    "\n",
    "\"\"\"\n",
    "How many STR & eSTRs located in coding regions vs non coding regions\n",
    "\"\"\"\n",
    "ANNOTDIR = \"/storage/mgymrek/gtex/annotations/\"\n",
    "DATADIR = \"'/storage/szfeupe/Runs/650GTEx_estr/Analysis_by_Tissue/\"\n",
    "FEATURES = {\n",
    "    \"B_introns\": os.path.join(ANNOTDIR, \"introns.bed\"),\n",
    "    \"C_3utr\": os.path.join(ANNOTDIR, \"3utr.bed\"),\n",
    "    \"D_5utr\": os.path.join(ANNOTDIR, \"5utr.bed\"),\n",
    "    \"A_coding\": os.path.join(ANNOTDIR, \"coding.bed\")\n",
    "           }\n",
    "command=\"cat %s/LR_SummaryTest_Table.tsv | awk '$5>=1' | cut -f 1,2,75 > eSTRs.tab\"%DATADIR   \n",
    "return_value=os.system(command)"
   ]
  },
  {
   "cell_type": "code",
   "execution_count": 8,
   "metadata": {
    "collapsed": false
   },
   "outputs": [],
   "source": [
    "%%bash\n",
    "# Get all STRs analyzed\n",
    "BASEDIR=/storage/szfeupe/Runs/650GTEx_estr/Analysis_by_Tissue\n",
    "TISSUES=/storage/szfeupe/Runs/650GTEx_estr/Analysis_by_Tissue/list_tissues\n",
    "\n",
    "for t in $(cat $TISSUES)\n",
    "do\n",
    "    cat ${BASEDIR}/${t}/Lin_Reg_Out | grep -v gene | awk '{print $2 \"\\t\" $4 \"\\t\" $4+1}'\n",
    "done | sort | uniq > all_analyzed_strs.bed"
   ]
  },
  {
   "cell_type": "code",
   "execution_count": 39,
   "metadata": {
    "collapsed": false
   },
   "outputs": [
    {
     "name": "stdout",
     "output_type": "stream",
     "text": [
      "A_coding (591439, 6) All STRs overlaps: (208, 3) eSTRs overlaps: (76, 3)\n",
      "D_5utr (162459, 6) All STRs overlaps: (645, 3) eSTRs overlaps: (214, 3)\n",
      "C_3utr (110191, 6) All STRs overlaps: (1752, 3) eSTRs overlaps: (523, 3)\n",
      "B_introns (659327, 6) All STRs overlaps: (73637, 3) eSTRs overlaps: (12224, 3)\n"
     ]
    }
   ],
   "source": [
    "for feature in FEATURES:\n",
    "    bed=pd.read_csv(FEATURES[feature], sep='\\t', skiprows=1, header=None)\n",
    "    bed.to_csv('bedfile.bed', sep='\\t', index=None)\n",
    "    bedfile = 'bedfile.bed'\n",
    "    command = \"bedtools intersect -a all_strs.tab -b %s > Intersect.bed\"%bedfile\n",
    "    returned_value = os.system(command)\n",
    "    Inter = pd.read_csv('Intersect.bed', sep='\\t', names=[\"chrom\",\"start\",\"end\"]).drop_duplicates()\n",
    "    Inter.to_csv('%s_inter.tab'%feature, sep='\\t', index=None)\n",
    "    \n",
    "    command = \"bedtools intersect -a eSTRs.tab -b %s > %s_eSTRs_Intersect.tab\"%(bedfile,feature)\n",
    "    returned_value = os.system(command)\n",
    "    \n",
    "    print(feature,bed.shape,'All STRs overlaps:', Inter.shape, \"eSTRs overlaps:\", pd.read_csv('%s_eSTRs_Intersect.tab'%feature, sep='\\t', header=None).drop_duplicates().shape)\n"
   ]
  },
  {
   "cell_type": "code",
   "execution_count": 38,
   "metadata": {
    "collapsed": false
   },
   "outputs": [],
   "source": [
    "command = \"cat /storage/szfeupe/Runs/650GTEx_estr/Analysis_by_Tissue/LR_SummaryTest_Table.tsv | awk '$5>0' | cut -f 1,2,75 > eSTRs.tab\"\n",
    "return_value=os.system(command)\n"
   ]
  },
  {
   "cell_type": "code",
   "execution_count": null,
   "metadata": {
    "collapsed": true
   },
   "outputs": [],
   "source": [
    "A_coding (591439, 6) (204, 3)\n",
    "D_5utr (162459, 6) (597, 3)\n",
    "C_3utr (110191, 6) (1703, 3)\n",
    "B_introns (659327, 6) (73635, 3)\n",
    "In [2]:"
   ]
  }
 ],
 "metadata": {
  "kernelspec": {
   "display_name": "Python 3",
   "language": "python",
   "name": "python3"
  },
  "language_info": {
   "codemirror_mode": {
    "name": "ipython",
    "version": 3
   },
   "file_extension": ".py",
   "mimetype": "text/x-python",
   "name": "python",
   "nbconvert_exporter": "python",
   "pygments_lexer": "ipython3",
   "version": "3.4.5"
  }
 },
 "nbformat": 4,
 "nbformat_minor": 2
}
