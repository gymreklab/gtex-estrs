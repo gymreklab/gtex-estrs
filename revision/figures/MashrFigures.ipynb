{
 "cells": [
  {
   "cell_type": "code",
   "execution_count": 13,
   "metadata": {},
   "outputs": [],
   "source": [
    "#threshold for significance\n",
    "sig_thresh = 1e-4"
   ]
  },
  {
   "cell_type": "code",
   "execution_count": 14,
   "metadata": {},
   "outputs": [
    {
     "name": "stdout",
     "output_type": "stream",
     "text": [
      "Populating the interactive namespace from numpy and matplotlib\n"
     ]
    }
   ],
   "source": [
    "#common\n",
    "%pylab inline\n",
    "\n",
    "import matplotlib\n",
    "import matplotlib.pyplot as plt\n",
    "matplotlib.rcParams['ps.useafm'] = True\n",
    "matplotlib.rcParams['pdf.use14corefonts'] = True\n",
    "matplotlib.rcParams['text.usetex'] = True\n",
    "\n",
    "import pandas as pd\n",
    "\n",
    "datadir = \"../mashr/firstSuccessfulFullRun/output/\" #TODO CHANGE THIS\n",
    "\n",
    "lfsr = pd.read_csv(datadir + \"posterior_lfsr.tsv\", sep=\"\\t\", index_col=0)\n",
    "betas = pd.read_csv(datadir + \"posterior_betas.tsv\", sep=\"\\t\", index_col=0)\n",
    "beta_ses = pd.read_csv(datadir + \"posterior_beta_ses.tsv\", sep=\"\\t\", index_col=0)\n",
    "ntissues = len(lfsr.columns)\n",
    "\n",
    "COLORS = {\n",
    "    \"Artery-Aorta\":\"salmon\",\n",
    "    \"Artery-Tibial\": \"red\",\n",
    "    \"Adipose-Subcutaneous\": \"darkorange\",    \n",
    "    \"Adipose-Visceral\":\"orange\",\n",
    "    \"Brain-Caudate\":\"lemonchiffon\"   , \n",
    "    \"Brain-Cerebellum\":\"yellow\",\n",
    "    \"Cells-Transformedfibroblasts\": \"skyblue\",\n",
    "    \"Esophagus-Mucosa\": \"sienna\",\n",
    "    \"Esophagus-Muscularis\":\"burlywood\",\n",
    "    \"Heart-LeftVentricle\":\"darkviolet\",\n",
    "    \"Lung\": \"greenyellow\",\n",
    "    \"Muscle-Skeletal\": \"mediumslateblue\",\n",
    "    \"Nerve-Tibial\":\"gold\",\n",
    "    \"Skin-NotSunExposed\":\"blue\",\n",
    "    \"Skin-SunExposed\":\"cornflowerblue\",\n",
    "    \"Thyroid\":\"green\",\n",
    "    \"WholeBlood\": \"m\",\n",
    "    \"permuted\": \"gray\"\n",
    "}\n",
    "\n",
    "SHORTEN = {\n",
    "    \"Artery-Aorta\":\"Artery A.\"     ,\n",
    "    \"Artery-Tibial\": \"Artery T.\",\n",
    "    \"Adipose-Subcutaneous\": \"Adipose S.\",    \n",
    "    \"Adipose-Visceral\":\"Adipose V.\",\n",
    "    \"Brain-Caudate\":\"Caudate\"   , \n",
    "    \"Brain-Cerebellum\":\"Cerebellum\",\n",
    "    \"Cells-Transformedfibroblasts\": \"Fibroblast\",\n",
    "    \"Esophagus-Mucosa\": \"E. Mucosa\",\n",
    "    \"Esophagus-Muscularis\":\"E Muscularis\",\n",
    "    \"Heart-LeftVentricle\":\"Ventricle\",\n",
    "    \"Lung\": \"Lung\",\n",
    "    \"Muscle-Skeletal\": \"Muscle\",\n",
    "    \"Nerve-Tibial\":\"Nerve\",\n",
    "    \"Skin-NotSunExposed\": \"Skin Unexposed\",\n",
    "    \"Skin-SunExposed\":\"Skin Leg\",\n",
    "    \"Thyroid\":\"Thyroid\",\n",
    "    \"WholeBlood\": \"Blood\",\n",
    "    \"permuted\":\"Permuted\",\n",
    "    \"LCL\": \"LCL\"\n",
    "}"
   ]
  },
  {
   "cell_type": "code",
   "execution_count": 22,
   "metadata": {},
   "outputs": [
    {
     "data": {
      "text/plain": [
       "0         None\n",
       "1         None\n",
       "2         None\n",
       "3         None\n",
       "4         None\n",
       "5         None\n",
       "6         None\n",
       "7         None\n",
       "8         None\n",
       "9         None\n",
       "10        None\n",
       "11        None\n",
       "12        None\n",
       "13        None\n",
       "14        None\n",
       "15        None\n",
       "16        None\n",
       "17        None\n",
       "18        None\n",
       "19        None\n",
       "20        None\n",
       "21        None\n",
       "22        None\n",
       "23        None\n",
       "24        None\n",
       "25        None\n",
       "26        None\n",
       "27        None\n",
       "28        None\n",
       "29        None\n",
       "          ... \n",
       "226317    None\n",
       "226318    None\n",
       "226319    None\n",
       "226320    None\n",
       "226321    None\n",
       "226322    None\n",
       "226323    None\n",
       "226324    None\n",
       "226325    None\n",
       "226326    None\n",
       "226327    None\n",
       "226328    None\n",
       "226329    None\n",
       "226330    None\n",
       "226331    None\n",
       "226332    None\n",
       "226333    None\n",
       "226334    None\n",
       "226335    None\n",
       "226336    None\n",
       "226337    None\n",
       "226338    None\n",
       "226339    None\n",
       "226340    None\n",
       "226341    None\n",
       "226342    None\n",
       "226343    None\n",
       "226344    None\n",
       "226345    None\n",
       "226346    None\n",
       "Length: 226347, dtype: object"
      ]
     },
     "execution_count": 22,
     "metadata": {},
     "output_type": "execute_result"
    }
   ],
   "source": [
    "#get best estrs per gene\n",
    "import scipy.stats as stats\n",
    "zscores = betas.div(beta_ses).abs()\n",
    "pvalues = 2*(1- stats.norm.cdf(zscores))\n",
    "pvalues = pd.DataFrame(pvalues)\n",
    "pvalues.index = zscores.index\n",
    "\n",
    "geneToBestSTR = {}\n",
    "geneToBestPVal = {}\n",
    "def considerForBest(row):\n",
    "    nameParts = row.iloc[0].split(\"_\")\n",
    "    gene = nameParts[0] + \"_\" + nameParts[1]\n",
    "    estr = nameParts[2] + \"_\" + nameParts[3]\n",
    "    minPVal = row.iloc[1:].min()\n",
    "    if minPVal < sig_thresh:\n",
    "        if not gene in geneToBestSTR or minPVal < geneToBestPVal[gene]:\n",
    "            geneToBestSTR[gene] = estr\n",
    "            geneToBestPVal[gene] = minPVal\n",
    "pvalues.reset_index().apply(considerForBest, axis=1)"
   ]
  },
  {
   "cell_type": "code",
   "execution_count": 24,
   "metadata": {},
   "outputs": [
    {
     "data": {
      "text/plain": [
       "5186"
      ]
     },
     "execution_count": 24,
     "metadata": {},
     "output_type": "execute_result"
    }
   ],
   "source": [
    "len(geneToBestSTR)"
   ]
  },
  {
   "cell_type": "code",
   "execution_count": 3,
   "metadata": {},
   "outputs": [
    {
     "name": "stdout",
     "output_type": "stream",
     "text": [
      "Number of significant eSTRs: 16972\n"
     ]
    }
   ],
   "source": [
    "#old code for dealing with eSTRS with a local lfsr threshold\n",
    "#number of significant eSTRs\n",
    "significantESTRs = (lfsr <= lfsr_thresh).apply(any, axis=1) #significant in any tissue\n",
    "print(\"Number of significant eSTRs:\", np.sum(significantESTRs))"
   ]
  },
  {
   "cell_type": "code",
   "execution_count": 4,
   "metadata": {},
   "outputs": [],
   "source": [
    "#old code for dealing with eSTRS with a local lfsr threshold\n",
    "#lfsr effect sharing per gene\n",
    "\n",
    "geneToNumESTRs = {}\n",
    "def addIfGene(row):\n",
    "    geneName = row.iloc[0].split(\"_\")[0]\n",
    "    if not geneName in geneToNumESTRs:\n",
    "        geneToNumESTRs[geneName] = 0\n",
    "    if type(row.iloc[1]) != type(False):\n",
    "        print(row)\n",
    "    geneToNumESTRs[geneName] += row.iloc[1] \n",
    "significantESTRs.reset_index().apply(addIfGene, axis=1)\n",
    "pass"
   ]
  },
  {
   "cell_type": "code",
   "execution_count": 5,
   "metadata": {},
   "outputs": [
    {
     "data": {
      "text/plain": [
       "13843"
      ]
     },
     "execution_count": 5,
     "metadata": {},
     "output_type": "execute_result"
    }
   ],
   "source": [
    "#old code for dealing with eSTRS with a local lfsr threshold\n",
    "len(geneToNumESTRs)"
   ]
  },
  {
   "cell_type": "code",
   "execution_count": 7,
   "metadata": {},
   "outputs": [
    {
     "data": {
      "image/png": "[encoded data removed]",
      "text/plain": [
       "<matplotlib.figure.Figure at 0x7fb74ca3a748>"
      ]
     },
     "metadata": {
      "needs_background": "light"
     },
     "output_type": "display_data"
    }
   ],
   "source": [
    "#old code for dealing with eSTRS with a local lfsr threshold\n",
    "fig, ax = plt.subplots()\n",
    "im = ax.hist(list(geneToNumESTRs.values()), bins=range(1,40))\n",
    "#ax.set_yscale()"
   ]
  },
  {
   "cell_type": "code",
   "execution_count": null,
   "metadata": {},
   "outputs": [],
   "source": []
  },
  {
   "cell_type": "code",
   "execution_count": 4,
   "metadata": {},
   "outputs": [],
   "source": [
    "#Heatmaps\n",
    "\n",
    "#Result is similar by pattern to mashr fig 6 https://www.nature.com/articles/s41588-018-0268-8#MOESM1\n",
    "#shared significance threshold (e.g. must be within 2x of each other, must be >1)\n",
    "sharing_thresh = 2\n",
    "\n",
    "#order same as (subset of) fig2a https://www.nature.com/articles/nature24277.pdf\n",
    "ORDER = [ \\\n",
    "    'Brain-Caudate',\n",
    "    'Brain-Cerebellum',\n",
    "    'WholeBlood',\n",
    "    'Cells-Transformedfibroblasts',\n",
    "    'Muscle-Skeletal',\n",
    "    'Heart-LeftVentricle',\n",
    "    'Esophagus-Mucosa',\n",
    "    'Skin-NotSunExposed',\n",
    "    'Skin-SunExposed',\n",
    "    'Thyroid',\n",
    "    'Esophagus-Muscularis',\n",
    "    'Artery-Aorta',\n",
    "    'Artery-Tibial',\n",
    "    'Lung',\n",
    "    'Nerve-Tibial',     \n",
    "    'Adipose-Subcutaneous',\n",
    "    'Adipose-Visceral'\n",
    "]\n",
    "\n",
    "for i in range(len(ORDER)):\n",
    "    ORDER[i] = ORDER[i].replace(\"-\", \".\")\n",
    "o_lfsr = lfsr.loc[:, ORDER]\n",
    "o_betas = betas.loc[:, ORDER]\n",
    "    \n",
    "shareMatrix = np.full((ntissues, ntissues), np.nan)\n",
    "for tissue1 in np.arange(ntissues):\n",
    "    for tissue2 in np.arange(tissue1):\n",
    "        significant = (o_lfsr.iloc[:, tissue1] <= lfsr_thresh) | (o_lfsr.iloc[:, tissue2] <= lfsr_thresh)\n",
    "        sharedEffects = ((o_betas.iloc[:, tissue1] <= sharing_thresh*o_betas.iloc[:, tissue2]) & \\\n",
    "                         (o_betas.iloc[:, tissue2] <= sharing_thresh*o_betas.iloc[:, tissue1]))\n",
    "        shareMatrix[tissue2, tissue1] = np.sum(sharedEffects & significant)/np.sum(significant)"
   ]
  },
  {
   "cell_type": "code",
   "execution_count": 6,
   "metadata": {},
   "outputs": [
    {
     "data": {
      "image/png": "[encoded data removed]",
      "text/plain": [
       "<matplotlib.figure.Figure at 0x7ff86b0455f8>"
      ]
     },
     "metadata": {
      "needs_background": "light"
     },
     "output_type": "display_data"
    }
   ],
   "source": [
    "from matplotlib.colors import Colormap\n",
    "fig, ax = plt.subplots(figsize=(10,10))\n",
    "im = ax.imshow(shareMatrix.T, cmap=\"PuOr_r\")\n",
    "fig.colorbar(im)\n",
    "\n",
    "# We want to show all ticks...\n",
    "ax.set_xticks(np.arange(ntissues))\n",
    "ax.set_yticks(np.arange(ntissues))\n",
    "# ... and label them with the respective list entries\n",
    "ax.set_xticklabels(o_lfsr.columns.values)\n",
    "ax.set_yticklabels(o_lfsr.columns.values)\n",
    "\n",
    "# Rotate the tick labels and set their alignment.\n",
    "plt.setp(ax.get_xticklabels(), rotation=45, ha=\"right\", rotation_mode=\"anchor\")\n",
    "\n",
    "'''\n",
    "# Loop over data dimensions and create text annotations.\n",
    "for i in range(len(lfsr.columns)):\n",
    "    for j in range(len(lfsr.columns)):\n",
    "        text = ax.text(j, i, shareMatrix[i, j],\n",
    "                       ha=\"center\", va=\"center\", color=\"w\")\n",
    "'''    \n",
    "\n",
    "ax.set_title(\"Pattern of tissue sharing of eSTR effects\")\n",
    "fig.tight_layout()\n",
    "plt.show()\n",
    "\n",
    "#correlation\n"
   ]
  },
  {
   "cell_type": "code",
   "execution_count": null,
   "metadata": {},
   "outputs": [],
   "source": [
    "#lfsr effect sharing per tissue"
   ]
  }
 ],
 "metadata": {
  "kernelspec": {
   "display_name": "Python 3",
   "language": "python",
   "name": "python3"
  },
  "language_info": {
   "codemirror_mode": {
    "name": "ipython",
    "version": 3
   },
   "file_extension": ".py",
   "mimetype": "text/x-python",
   "name": "python",
   "nbconvert_exporter": "python",
   "pygments_lexer": "ipython3",
   "version": "3.4.5"
  }
 },
 "nbformat": 4,
 "nbformat_minor": 2
}
