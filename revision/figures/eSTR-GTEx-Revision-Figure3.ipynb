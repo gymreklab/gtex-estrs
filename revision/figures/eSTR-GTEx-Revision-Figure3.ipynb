{
 "cells": [
  {
   "cell_type": "code",
   "execution_count": 17,
   "metadata": {},
   "outputs": [
    {
     "name": "stdout",
     "output_type": "stream",
     "text": [
      "Populating the interactive namespace from numpy and matplotlib\n"
     ]
    },
    {
     "name": "stderr",
     "output_type": "stream",
     "text": [
      "/usr/lib/python3.4/site-packages/IPython/core/magics/pylab.py:160: UserWarning: pylab import has clobbered these variables: ['colors']\n",
      "`%matplotlib` prevents importing * from pylab and numpy\n",
      "  \"\\n`%matplotlib` prevents importing * from pylab and numpy\"\n"
     ]
    }
   ],
   "source": [
    "# Set up\n",
    "%pylab inline\n",
    "\n",
    "# Params\n",
    "DATADIR = \"/storage/mgymrek/gtex-estrs/revision/\"\n",
    "RESULTSDIR = \"/storage/mgymrek/gtex-estrs/revision/figures\"\n",
    "GENEANNOT = \"/storage/resources/dbase/human/hg19/gencode_gene_annotations_hg19.csv\"\n",
    "\n",
    "# Allow us to edit fonts in Illustrator\n",
    "import matplotlib\n",
    "matplotlib.rcParams['ps.useafm'] = True\n",
    "matplotlib.rcParams['pdf.use14corefonts'] = True\n",
    "matplotlib.rcParams['text.usetex'] = True\n",
    "from matplotlib.colors import LogNorm\n",
    "\n",
    "# Import libraries\n",
    "import os\n",
    "import pandas as pd\n",
    "import scipy.stats\n",
    "import seaborn as sns\n",
    "import statsmodels.stats.multitest\n",
    "\n",
    "MIN_CAUSAL_SCORE = 0.3\n",
    "estrs = pd.read_csv(os.path.join(RESULTSDIR, \"SuppTable_CAVIAR.tsv\"), sep=\"\\t\")\n",
    "geneannot = pd.read_csv(GENEANNOT)\n",
    "geneannot[\"gene\"] = geneannot[\"gene.id\"].apply(lambda x: x.split(\".\")[0])\n",
    "estrs = pd.merge(estrs, geneannot[[\"gene\", \"gene.strand\",\"gene.start\",\"gene.stop\"]], on=[\"gene\"])\n",
    "estrs[\"motif\"] = estrs.apply(lambda x: x[\"str.motif.forward\"] if x[\"gene.strand\"]==\"+\" else x[\"str.motif.reverse\"], 1)\n",
    "estrs[\"dist.tss\"] = estrs.apply(lambda x: (x[\"str.start\"]-x[\"gene.start\"]) if x[\"gene.strand\"]==\"+\" else (x[\"gene.stop\"]-x[\"str.start\"]), 1)\n",
    "\n",
    "causal = estrs[estrs[\"score\"]>=MIN_CAUSAL_SCORE]"
   ]
  },
  {
   "cell_type": "code",
   "execution_count": 18,
   "metadata": {},
   "outputs": [
    {
     "name": "stdout",
     "output_type": "stream",
     "text": [
      "polyT\n",
      "[253, 7, 10]\n",
      "[0.525691699604743, 0.2857142857142857, 0.5]\n",
      "[0.4506540583675878, 0.4531249999999996, 1.0]\n",
      "polyA\n",
      "[239, 4, 8]\n",
      "[0.497907949790795, 0.5, 0.25]\n",
      "[0.9999999999999639, 1.0, 0.2890624999999999]\n",
      "all causal\n",
      "[1420, 51, 86]\n",
      "[0.5014084507042254, 0.5686274509803921, 0.6046511627906976]\n",
      "[0.9365497587085088, 0.4010619910279376, 0.06615259746138934]\n",
      "all strs\n",
      "[28375, 744, 721]\n",
      "[0.5053392070484581, 0.478494623655914, 0.5533980582524272]\n",
      "[0.07299831413588215, 0.25572558368142795, 0.004615805613415762]\n"
     ]
    },
    {
     "data": {
      "image/png": "[encoded data removed]",
      "text/plain": [
       "<Figure size 576x360 with 1 Axes>"
      ]
     },
     "metadata": {
      "needs_background": "light"
     },
     "output_type": "display_data"
    }
   ],
   "source": [
    "# Effect size bias for homopolymers\n",
    "\n",
    "labels = []\n",
    "colors = []\n",
    "ecolors = []\n",
    "alphas = []\n",
    "dirs = []\n",
    "stderrs = []\n",
    "nums = []\n",
    "xvals = []\n",
    "pvals = []\n",
    "\n",
    "w = 0.2\n",
    "udist = 3000\n",
    "ddist = 3000\n",
    "tss_bins = [(-10000000, 10000000), (-1*udist, 0), (0, ddist)]\n",
    "#tss_bins = [(-100000, -50000), (-50000, -10000), (-10000,-3000), (-3000, 0), (0, 3000), (3000,10000), (10000,50000), (50000, 100000)]\n",
    "binlabels = [\"ALL\", \"promoter\", \"downstream\"]\n",
    "bincolors = [ \"white\", \"darkgray\", \"lightgray\"]\n",
    "binalphas = [1, 1, 1]\n",
    "#binalphas = [1]*len(tss_bins)\n",
    "\n",
    "def IsARich(x):\n",
    "    return \"A\" in x #x.count(\"A\")*1.0/len(x)>0.6\n",
    "\n",
    "def IsTRich(x):\n",
    "    return \"T\" in x # x.count(\"T\")*1.0/len(x)>0.6\n",
    "\n",
    "polyA = causal[causal[\"motif\"]==\"A\"]\n",
    "polyT = causal[causal[\"motif\"]==\"T\"]\n",
    "polyAC = causal[(causal[\"motif\"]==\"AC\")]\n",
    "polyGT = causal[(causal[\"motif\"]==\"GT\")]\n",
    "polyAG = causal[(causal[\"motif\"]==\"AG\")]\n",
    "polyCT = causal[(causal[\"motif\"]==\"CT\")]\n",
    "polyAT = causal[(causal[\"motif\"]==\"AT\")]\n",
    "Arich = causal[(causal[\"motif\"].apply(IsARich))]\n",
    "Trich = causal[(causal[\"motif\"].apply(IsTRich))]\n",
    "\n",
    "dfs = [ estrs, causal, polyA, polyT]\n",
    "classcolors = [\"white\"]*40\n",
    "dflabels = [\"All estrs\", \"All FM\", \"A\", \"T\"]\n",
    "\n",
    "ind = 0\n",
    "for df in dfs:\n",
    "    dflabel = dflabels[ind]\n",
    "    for tbin in tss_bins:\n",
    "        l = \"tmp\"#binlabels[tss_bins.index(tbin)]\n",
    "        df_bin = df[(df[\"dist.tss\"]>=tbin[0]) & (df[\"dist.tss\"]<tbin[1])]\n",
    "        perc = np.mean(df_bin[\"beta\"]>0)\n",
    "        dirs.append(perc)\n",
    "        if perc < 1:\n",
    "            stderrs.append(1.96*np.sqrt(perc*(1-perc)/df_bin.shape[0]))\n",
    "        elif df_bin.shape[0] == 0: stderrs.append(0)\n",
    "        else:\n",
    "            stderrs.append(3/df_bin.shape[0])\n",
    "        nums.append(df_bin.shape[0])\n",
    "        pvals.append(scipy.stats.binom_test(perc*df_bin.shape[0], df_bin.shape[0]))\n",
    "    colors.extend([classcolors[ind]]*len(tss_bins))\n",
    "    alphas.extend(binalphas)\n",
    "    ind += 1\n",
    "    xvals.extend([ind+w*i for i in range(len(tss_bins))])\n",
    "    labels.append(dflabel)\n",
    "    \n",
    "rgba_colors = np.zeros((len(xvals), 4))\n",
    "for i in range(len(colors)):\n",
    "    rgba_colors[i, 0:3] = matplotlib.colors.to_rgba(colors[i])[0:3]\n",
    "rgba_colors[:, 3] = alphas\n",
    "\n",
    "fig = plt.figure()\n",
    "fig.set_size_inches((8, 5))\n",
    "ax = fig.add_subplot(111)\n",
    "ax.bar(xvals, dirs, color=rgba_colors, edgecolor=\"black\", linewidth=0.5, yerr=stderrs, ecolor=\"black\",  width=w)\n",
    "ax.axhline(y=0.5, linestyle=\"dashed\", color=\"gray\")\n",
    "ax.set_ylim(bottom=0, top=1);\n",
    "ax.spines['right'].set_visible(False)\n",
    "ax.spines['top'].set_visible(False)\n",
    "ax.yaxis.set_ticks_position('left')\n",
    "ax.xaxis.set_ticks_position('bottom')\n",
    "ax.set_xticks([xvals[i] for i in range(len(xvals)) if i%3 == 1])\n",
    "ax.set_xticklabels(labels, size=15);\n",
    "ax.set_ylabel(\"Percent positive effects\", size=15);\n",
    "#fig.savefig(os.path.join(RESULTSDIR, \"%s_ATDirection.pdf\"%FIGPREFIX))\n",
    "\n",
    "print(\"polyT\")\n",
    "print(nums[9:12])\n",
    "print(dirs[9:12])\n",
    "print(pvals[9:12])\n",
    "\n",
    "print(\"polyA\")\n",
    "print(nums[6:9])\n",
    "print(dirs[6:9])\n",
    "print(pvals[6:9])\n",
    "\n",
    "print(\"all causal\")\n",
    "print(nums[3:6])\n",
    "print(dirs[3:6])\n",
    "print(pvals[3:6])\n",
    "\n",
    "print(\"all strs\")\n",
    "print(nums[0:3])\n",
    "print(dirs[0:3])\n",
    "print(pvals[0:3])"
   ]
  },
  {
   "cell_type": "code",
   "execution_count": 19,
   "metadata": {
    "scrolled": false
   },
   "outputs": [
    {
     "name": "stderr",
     "output_type": "stream",
     "text": [
      "/usr/lib/python3.4/site-packages/ipykernel_launcher.py:8: SettingWithCopyWarning: \n",
      "A value is trying to be set on a copy of a slice from a DataFrame.\n",
      "Try using .loc[row_indexer,col_indexer] = value instead\n",
      "\n",
      "See the caveats in the documentation: http://pandas.pydata.org/pandas-docs/stable/indexing.html#indexing-view-versus-copy\n",
      "  \n"
     ]
    },
    {
     "name": "stdout",
     "output_type": "stream",
     "text": [
      "0.06542968749999997\n",
      "0.9999999999999997\n",
      "0.09313964843749999\n",
      "0.8679394004284399\n",
      "0.7428293587290689\n",
      "0.6439689563703725\n",
      "0.1262894743854302\n",
      "0.5423840118564844\n",
      "0.6776394844055175\n",
      "0.6476058959960938\n"
     ]
    },
    {
     "data": {
      "image/png": "[encoded data removed]",
      "text/plain": [
       "<Figure size 432x144 with 1 Axes>"
      ]
     },
     "metadata": {
      "needs_background": "light"
     },
     "output_type": "display_data"
    },
    {
     "data": {
      "image/png": "[encoded data removed]",
      "text/plain": [
       "<Figure size 432x144 with 1 Axes>"
      ]
     },
     "metadata": {
      "needs_background": "light"
     },
     "output_type": "display_data"
    }
   ],
   "source": [
    "w = 10000\n",
    "distbins = np.arange(-50000, 50000+w, w)\n",
    "usecol = \"dist.tss\"\n",
    "\n",
    "nucdata = []\n",
    "\n",
    "cdata = estrs[estrs[\"score\"]>=MIN_CAUSAL_SCORE]\n",
    "cdata[\"len\"] = cdata[\"str.end\"]-cdata[\"str.start\"]+1\n",
    "for xx in [cdata[cdata[\"motif\"].apply(lambda x: x in [\"A\"])], cdata[cdata[\"motif\"].apply(lambda x: x in [\"T\"])], cdata[cdata[\"motif\"].apply(lambda x: x in [\"A\",\"T\"])]]:\n",
    "    dirs = []\n",
    "    dirps = []\n",
    "    direrrs = []\n",
    "    betas = []\n",
    "    betaerrs = []\n",
    "    dists = []\n",
    "    strands = []\n",
    "    strandps = []\n",
    "    stranderrs = []\n",
    "    lens = []\n",
    "    lenerrs = []\n",
    "    dnase = []\n",
    "    dnaseerrs = []\n",
    "    nums = []\n",
    "    for d in range(len(distbins)-1):\n",
    "        lb = distbins[d]\n",
    "        ub = distbins[d+1]\n",
    "        x = xx[(xx[usecol]>=lb) & (xx[usecol]<ub)].copy()\n",
    "        dird = np.array((x[\"beta\"]>0).apply(int))\n",
    "        dirs.append(np.mean(dird))\n",
    "        dirps.append(scipy.stats.binom_test(sum(dird), len(dird)))\n",
    "        direrrs.append(np.sqrt(np.var(dird)/len(dird)))\n",
    "        betas.append(np.mean(x[\"beta\"].apply(abs)))\n",
    "        try:\n",
    "            betaerrs.append(np.sqrt(np.var(x[\"beta\"])/x.shape[0]))\n",
    "        except: betaerrs.append(np.nan)\n",
    "        dists.append(np.mean(x[\"dist.tss\"].apply(abs)))\n",
    "        s = np.array((x[\"motif\"]==\"A\").apply(int))\n",
    "        strands.append(np.mean(s))\n",
    "        strandps.append(scipy.stats.binom_test(sum(s), len(s)))\n",
    "        stranderrs.append(np.sqrt(np.var(s)/len(s)))\n",
    "        lens.append(np.mean(x[\"len\"]))\n",
    "        try:\n",
    "            lenerrs.append(np.sqrt(np.var(x[\"len\"])/x.shape[0]))\n",
    "        except: lenerrs.append(np.nan)\n",
    "        nums.append(x.shape[0])\n",
    "    nd = pd.DataFrame({\"dir\": dirs, \\\n",
    "             \"dir.p\": dirps, \\\n",
    "             \"beta\": betas, \\\n",
    "             \"dist.tss\": dists, \\\n",
    "             \"strand\": strands, \\\n",
    "             \"strand.p\": strandps, \\\n",
    "                 \"dir.err\": direrrs, \\\n",
    "                 \"beta.err\": betaerrs, \\\n",
    "                 \"strand.err\": stranderrs, \\\n",
    "                      \"len\": lens, \\\n",
    "                      \"len.err\": lenerrs, \\\n",
    "                      \"num\": nums})\n",
    "    nucdata.append(nd)\n",
    "    \n",
    "siglabels = []\n",
    "for i in range(len(nucdata[0][\"num\"])):\n",
    "    x1 = nucdata[0][\"num\"][i]\n",
    "    x2 = nucdata[1][\"num\"][i]\n",
    "    print(scipy.stats.binom_test(x1, x1+x2))\n",
    "\n",
    "fig = plt.figure()\n",
    "fig.set_size_inches((6, 2))\n",
    "ax = fig.add_subplot(111)\n",
    "ax.bar(range(nucdata[0].shape[0]), list(nucdata[0][\"num\"]), color=\"red\", width=0.3)\n",
    "ax.bar([item+0.3 for item in range(nucdata[0].shape[0])], list(nucdata[1][\"num\"]), color=\"black\", width=0.3)\n",
    "\n",
    "for col in [\"dir\"]:     \n",
    "    fig = plt.figure()\n",
    "    fig.set_size_inches((6, 2))\n",
    "    ax = fig.add_subplot(111)\n",
    "    ax.errorbar(distbins[:-1]+w/2, nucdata[2][col], yerr=nucdata[2][\"%s.err\"%col], color=\"black\", marker=\"o\", linewidth=0.5)\n",
    "    if col in [ \"dir\",\"strand\"]: ax.axhline(y=0.5, linestyle=\"dashed\", color=\"gray\")\n",
    "    if col == \"beta\": ax.axhline(y=np.mean(causal[\"beta\"].apply(abs)), color=\"gray\", linestyle=\"dashed\")\n",
    "    ax.axvline(x=0, linestyle=\"dashed\", color=\"gray\")\n",
    "    ax.set_title(col)\n",
    "    "
   ]
  },
  {
   "cell_type": "code",
   "execution_count": 20,
   "metadata": {},
   "outputs": [],
   "source": [
    "d = cdata[(cdata[\"motif\"]==\"T\") & (cdata[\"dist.tss\"]>0)].sort_values(\"beta\").copy()"
   ]
  }
 ],
 "metadata": {
  "kernelspec": {
   "display_name": "Python 3",
   "language": "python",
   "name": "python3"
  },
  "language_info": {
   "codemirror_mode": {
    "name": "ipython",
    "version": 3
   },
   "file_extension": ".py",
   "mimetype": "text/x-python",
   "name": "python",
   "nbconvert_exporter": "python",
   "pygments_lexer": "ipython3",
   "version": "3.4.5"
  }
 },
 "nbformat": 4,
 "nbformat_minor": 2
}
