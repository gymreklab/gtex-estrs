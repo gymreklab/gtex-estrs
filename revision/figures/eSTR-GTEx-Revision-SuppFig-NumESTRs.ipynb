{
 "cells": [
  {
   "cell_type": "code",
   "execution_count": 2,
   "metadata": {},
   "outputs": [
    {
     "name": "stdout",
     "output_type": "stream",
     "text": [
      "Populating the interactive namespace from numpy and matplotlib\n"
     ]
    }
   ],
   "source": [
    "%pylab inline\n",
    "\n",
    "# Params\n",
    "BASEDATADIR = \"/storage/mgymrek/gtex-estrs-paper/revision/data/\"\n",
    "BASERESULTSDIR = \"/storage/mgymrek/gtex-estrs-paper/revision/results\"\n",
    "\n",
    "# Allow us to edit fonts in Illustrator\n",
    "import matplotlib\n",
    "matplotlib.rcParams['ps.useafm'] = True\n",
    "matplotlib.rcParams['pdf.use14corefonts'] = True\n",
    "matplotlib.rcParams['text.usetex'] = True\n",
    "\n",
    "# Import libraries\n",
    "import os\n",
    "import pandas as pd\n",
    "import scipy.stats\n",
    "\n",
    "COLORS = {\n",
    "    \"Artery-Aorta\":\"salmon\",\n",
    "    \"Artery-Tibial\": \"red\",\n",
    "    \"Adipose-Subcutaneous\": \"darkorange\",    \n",
    "    \"Adipose-Visceral\":\"orange\",\n",
    "    \"Brain-Caudate\":\"lemonchiffon\"   , \n",
    "    \"Brain-Cerebellum\":\"yellow\",\n",
    "    \"Cells-Transformedfibroblasts\": \"skyblue\",\n",
    "    \"Esophagus-Mucosa\": \"sienna\",\n",
    "    \"Esophagus-Muscularis\":\"burlywood\",\n",
    "    \"Heart-LeftVentricle\":\"darkviolet\",\n",
    "    \"Lung\": \"greenyellow\",\n",
    "    \"Muscle-Skeletal\": \"mediumslateblue\",\n",
    "    \"Nerve-Tibial\":\"gold\",\n",
    "    \"Skin-NotSunExposed\":\"blue\",\n",
    "    \"Skin-SunExposed\":\"cornflowerblue\",\n",
    "    \"Thyroid\":\"green\",\n",
    "    \"WholeBlood\": \"m\",\n",
    "}\n",
    "\n",
    "############ Set up paths #############\n",
    "SAVEPLOT = True\n",
    "PREFIX = \"eSTR-calling\"\n",
    "FIGPREFIX = \"SuppFig\"\n",
    "DATADIR = os.path.join(BASEDATADIR, PREFIX)\n",
    "RESULTSDIR = os.path.join(BASERESULTSDIR, PREFIX)"
   ]
  },
  {
   "cell_type": "code",
   "execution_count": 3,
   "metadata": {},
   "outputs": [
    {
     "name": "stdout",
     "output_type": "stream",
     "text": [
      "Number unique eSTRs: 28408\n",
      "Number unique genes: 12544\n"
     ]
    }
   ],
   "source": [
    "# Using gene-level FDR\n",
    "TISSUES = [item for item in list(COLORS.keys()) if item != \"permuted\"]\n",
    "\n",
    "num_samples = []\n",
    "num_estrs = []\n",
    "num_tested = []\n",
    "num_fmestrs = [] # TODO redo with master table\n",
    "\n",
    "# Keep track of unique eSTRs\n",
    "chroms = []\n",
    "starts = []\n",
    "genes = []\n",
    "\n",
    "for t in TISSUES:\n",
    "    num_samples.append(len(open(\"/storage/mgymrek/gtex-estrs-paper/revision/data/eSTR-calling/samples/%s.samples\"%t, \"r\").readlines()))\n",
    "    d = pd.read_csv(\"/storage/szfeupe/Runs/650GTEx_estr/Analysis_by_Tissue/Review_Rerun/%s/PQValues\"%t, sep=\"\\t\")\n",
    "    estrs = d[d[\"significant\"]==1]\n",
    "    num_estrs.append(estrs.shape[0])\n",
    "    num_tested.append(len(set(d[\"gene\"])))\n",
    "    chroms.extend(list(estrs[\"chrom\"]))\n",
    "    starts.extend(list(estrs[\"str.start\"]))\n",
    "    genes.extend(list(estrs[\"gene\"]))\n",
    "\n",
    "# Number of unique eSTRs\n",
    "allestrs = pd.DataFrame({\"chrom_x\": chroms, \"str.start\": starts, \"gene\": genes}).drop_duplicates()\n",
    "print(\"Number unique eSTRs: %s\"%(allestrs[[\"chrom_x\",\"str.start\",\"gene\"]].shape[0]))\n",
    "print(\"Number unique genes: %s\"%(len(set(allestrs[\"gene\"]))))"
   ]
  },
  {
   "cell_type": "code",
   "execution_count": 4,
   "metadata": {},
   "outputs": [
    {
     "data": {
      "image/png": "[encoded data removed]",
      "text/plain": [
       "<Figure size 432x288 with 1 Axes>"
      ]
     },
     "metadata": {
      "needs_background": "light"
     },
     "output_type": "display_data"
    }
   ],
   "source": [
    "# Supp Fig SamplePower\n",
    "fig = plt.figure()\n",
    "ax = fig.add_subplot(111)\n",
    "ax.scatter(num_samples, [num_estrs[i]*1.0/num_tested[i] for i in range(len(num_estrs))], color=[COLORS[t] for t in TISSUES]);\n",
    "ax.set_xlabel(\"Num. samples\", size=15)\n",
    "ax.set_ylabel(\"Num. eSTRs/num. genes tested\", size=15);\n",
    "if SAVEPLOT: fig.savefig(os.path.join(RESULTSDIR, \"%s_SamplePower.pdf\"%FIGPREFIX));"
   ]
  },
  {
   "cell_type": "code",
   "execution_count": 6,
   "metadata": {},
   "outputs": [
    {
     "data": {
      "image/png": "[encoded data removed]",
      "text/plain": [
       "<Figure size 432x288 with 1 Axes>"
      ]
     },
     "metadata": {
      "needs_background": "light"
     },
     "output_type": "display_data"
    }
   ],
   "source": [
    "# After mashR\n",
    "num_estrs_mashr = []\n",
    "for i in range(len(TISSUES)):\n",
    "    tissue = TISSUES[i]\n",
    "    num_estrs_mashr.append(len(open(\"/storage/mgymrek/gtex-estrs/revision/mashr/output-strs/sig-bytissue/%s-estrs.tsv\"%tissue, \"r\").readlines())-1)\n",
    "\n",
    "fig = plt.figure()\n",
    "ax = fig.add_subplot(111)\n",
    "ax.scatter(num_samples, [num_estrs_mashr[i] for i in range(len(num_estrs_mashr))], color=[COLORS[t] for t in TISSUES]);\n",
    "ax.set_xlabel(\"Num. samples\", size=15)\n",
    "ax.set_ylabel(\"Num. eSTRs\", size=15);\n",
    "#if SAVEPLOT: fig.savefig(os.path.join(RESULTSDIR, \"%s_SamplePower_mashR.pdf\"%FIGPREFIX));"
   ]
  },
  {
   "cell_type": "code",
   "execution_count": 8,
   "metadata": {},
   "outputs": [
    {
     "data": {
      "text/html": [
       "<div>\n",
       "<style scoped>\n",
       "    .dataframe tbody tr th:only-of-type {\n",
       "        vertical-align: middle;\n",
       "    }\n",
       "\n",
       "    .dataframe tbody tr th {\n",
       "        vertical-align: top;\n",
       "    }\n",
       "\n",
       "    .dataframe thead th {\n",
       "        text-align: right;\n",
       "    }\n",
       "</style>\n",
       "<table border=\"1\" class=\"dataframe\">\n",
       "  <thead>\n",
       "    <tr style=\"text-align: right;\">\n",
       "      <th></th>\n",
       "      <th>Samples</th>\n",
       "      <th>Tissue</th>\n",
       "      <th>eSTRs</th>\n",
       "      <th>eSTRs-mashr</th>\n",
       "    </tr>\n",
       "  </thead>\n",
       "  <tbody>\n",
       "    <tr>\n",
       "      <th>3</th>\n",
       "      <td>265</td>\n",
       "      <td>Nerve-Tibial</td>\n",
       "      <td>4997</td>\n",
       "      <td>4120</td>\n",
       "    </tr>\n",
       "    <tr>\n",
       "      <th>11</th>\n",
       "      <td>270</td>\n",
       "      <td>Adipose-Subcutaneous</td>\n",
       "      <td>3817</td>\n",
       "      <td>3999</td>\n",
       "    </tr>\n",
       "    <tr>\n",
       "      <th>13</th>\n",
       "      <td>259</td>\n",
       "      <td>Lung</td>\n",
       "      <td>3565</td>\n",
       "      <td>3965</td>\n",
       "    </tr>\n",
       "    <tr>\n",
       "      <th>7</th>\n",
       "      <td>262</td>\n",
       "      <td>Thyroid</td>\n",
       "      <td>4539</td>\n",
       "      <td>3843</td>\n",
       "    </tr>\n",
       "    <tr>\n",
       "      <th>16</th>\n",
       "      <td>214</td>\n",
       "      <td>Esophagus-Muscularis</td>\n",
       "      <td>3194</td>\n",
       "      <td>3790</td>\n",
       "    </tr>\n",
       "    <tr>\n",
       "      <th>5</th>\n",
       "      <td>276</td>\n",
       "      <td>Artery-Tibial</td>\n",
       "      <td>4008</td>\n",
       "      <td>3763</td>\n",
       "    </tr>\n",
       "    <tr>\n",
       "      <th>15</th>\n",
       "      <td>193</td>\n",
       "      <td>Adipose-Visceral</td>\n",
       "      <td>2097</td>\n",
       "      <td>3620</td>\n",
       "    </tr>\n",
       "    <tr>\n",
       "      <th>2</th>\n",
       "      <td>191</td>\n",
       "      <td>Artery-Aorta</td>\n",
       "      <td>2832</td>\n",
       "      <td>3502</td>\n",
       "    </tr>\n",
       "    <tr>\n",
       "      <th>9</th>\n",
       "      <td>297</td>\n",
       "      <td>Skin-SunExposed</td>\n",
       "      <td>4369</td>\n",
       "      <td>3418</td>\n",
       "    </tr>\n",
       "    <tr>\n",
       "      <th>1</th>\n",
       "      <td>255</td>\n",
       "      <td>Esophagus-Mucosa</td>\n",
       "      <td>3581</td>\n",
       "      <td>3189</td>\n",
       "    </tr>\n",
       "    <tr>\n",
       "      <th>0</th>\n",
       "      <td>209</td>\n",
       "      <td>Skin-NotSunExposed</td>\n",
       "      <td>2808</td>\n",
       "      <td>2991</td>\n",
       "    </tr>\n",
       "    <tr>\n",
       "      <th>10</th>\n",
       "      <td>225</td>\n",
       "      <td>Cells-Transformedfibroblasts</td>\n",
       "      <td>3796</td>\n",
       "      <td>2811</td>\n",
       "    </tr>\n",
       "    <tr>\n",
       "      <th>8</th>\n",
       "      <td>199</td>\n",
       "      <td>Heart-LeftVentricle</td>\n",
       "      <td>2152</td>\n",
       "      <td>2725</td>\n",
       "    </tr>\n",
       "    <tr>\n",
       "      <th>6</th>\n",
       "      <td>343</td>\n",
       "      <td>Muscle-Skeletal</td>\n",
       "      <td>3609</td>\n",
       "      <td>2683</td>\n",
       "    </tr>\n",
       "    <tr>\n",
       "      <th>4</th>\n",
       "      <td>336</td>\n",
       "      <td>WholeBlood</td>\n",
       "      <td>3134</td>\n",
       "      <td>2414</td>\n",
       "    </tr>\n",
       "    <tr>\n",
       "      <th>14</th>\n",
       "      <td>108</td>\n",
       "      <td>Brain-Caudate</td>\n",
       "      <td>1036</td>\n",
       "      <td>1822</td>\n",
       "    </tr>\n",
       "    <tr>\n",
       "      <th>12</th>\n",
       "      <td>107</td>\n",
       "      <td>Brain-Cerebellum</td>\n",
       "      <td>2060</td>\n",
       "      <td>1473</td>\n",
       "    </tr>\n",
       "  </tbody>\n",
       "</table>\n",
       "</div>"
      ],
      "text/plain": [
       "    Samples                        Tissue  eSTRs  eSTRs-mashr\n",
       "3       265                  Nerve-Tibial   4997         4120\n",
       "11      270          Adipose-Subcutaneous   3817         3999\n",
       "13      259                          Lung   3565         3965\n",
       "7       262                       Thyroid   4539         3843\n",
       "16      214          Esophagus-Muscularis   3194         3790\n",
       "5       276                 Artery-Tibial   4008         3763\n",
       "15      193              Adipose-Visceral   2097         3620\n",
       "2       191                  Artery-Aorta   2832         3502\n",
       "9       297               Skin-SunExposed   4369         3418\n",
       "1       255              Esophagus-Mucosa   3581         3189\n",
       "0       209            Skin-NotSunExposed   2808         2991\n",
       "10      225  Cells-Transformedfibroblasts   3796         2811\n",
       "8       199           Heart-LeftVentricle   2152         2725\n",
       "6       343               Muscle-Skeletal   3609         2683\n",
       "4       336                    WholeBlood   3134         2414\n",
       "14      108                 Brain-Caudate   1036         1822\n",
       "12      107              Brain-Cerebellum   2060         1473"
      ]
     },
     "execution_count": 8,
     "metadata": {},
     "output_type": "execute_result"
    }
   ],
   "source": [
    "# Supp Table 1\n",
    "table = pd.DataFrame({\"Tissue\": TISSUES, \"Samples\": num_samples, \"eSTRs\": num_estrs, \"eSTRs-mashr\": num_estrs_mashr})\n",
    "table.sort_values(\"eSTRs-mashr\", ascending=False)"
   ]
  },
  {
   "cell_type": "code",
   "execution_count": 9,
   "metadata": {},
   "outputs": [
    {
     "name": "stdout",
     "output_type": "stream",
     "text": [
      "15850.588235294\n",
      "278229.82352941\n"
     ]
    }
   ],
   "source": [
    "%%bash -s \"$DATADIR\"\n",
    "\n",
    "DATADIR=$1\n",
    "TISSUES=\"Adipose-Subcutaneous Adipose-Visceral Artery-Aorta Artery-Tibial Brain-Caudate Brain-Cerebellum \\\n",
    "    Cells-Transformedfibroblasts Esophagus-Mucosa Esophagus-Muscularis Heart-LeftVentricle Lung \\\n",
    "    Muscle-Skeletal Nerve-Tibial Skin-NotSunExposed Skin-SunExposed Thyroid WholeBlood\"\n",
    "\n",
    "# Number of genes tested per tissue\n",
    "for t in $TISSUES\n",
    "do\n",
    "    echo $(cat ${DATADIR}/${t}_LinearRegression.tab | cut -f 2 | uniq | wc -l)\n",
    "done | datamash mean 1\n",
    "\n",
    "# Number of STR by gene tests\n",
    "for t in $TISSUES\n",
    "do\n",
    "    echo $(cat ${DATADIR}/${t}_LinearRegression.tab | grep -v gene | wc -l)\n",
    "done | datamash mean 1"
   ]
  }
 ],
 "metadata": {
  "kernelspec": {
   "display_name": "Python 3",
   "language": "python",
   "name": "python3"
  },
  "language_info": {
   "codemirror_mode": {
    "name": "ipython",
    "version": 3
   },
   "file_extension": ".py",
   "mimetype": "text/x-python",
   "name": "python",
   "nbconvert_exporter": "python",
   "pygments_lexer": "ipython3",
   "version": "3.4.5"
  }
 },
 "nbformat": 4,
 "nbformat_minor": 2
}
